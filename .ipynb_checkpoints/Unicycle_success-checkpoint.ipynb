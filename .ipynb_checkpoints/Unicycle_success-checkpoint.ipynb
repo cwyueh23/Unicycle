{
 "cells": [
  {
   "cell_type": "markdown",
   "id": "d833b055",
   "metadata": {},
   "source": [
    "# Create Environment"
   ]
  },
  {
   "cell_type": "code",
   "execution_count": 271,
   "id": "65a2669a",
   "metadata": {},
   "outputs": [],
   "source": [
    "import numpy as np\n",
    "import matplotlib.pylab as plt\n",
    "from sklearn.gaussian_process import GaussianProcessRegressor\n",
    "from tqdm import tqdm\n",
    "\n",
    "global N\n",
    "\n",
    "N=1000\n",
    "\n",
    "global T\n",
    "global target\n",
    "T=40\n",
    "target=np.array([3,2])\n",
    "global w\n",
    "w=np.pi*2/23.7\n",
    "\n",
    "global delta_t\n",
    "delta_t=T/N\n",
    "\n",
    "global beta\n",
    "beta=[0.95,0.975,1,1.025,1.05]\n",
    "\n",
    "global num_system\n",
    "num_system=5"
   ]
  },
  {
   "cell_type": "code",
   "execution_count": 272,
   "id": "bd2938cf",
   "metadata": {},
   "outputs": [
    {
     "data": {
      "text/plain": [
       "\"\\nx = np.linspace(0, 6.5, 1001)\\nplt.plot(x, Z(x))\\nplt.xlabel('Angle [rad]')\\nplt.ylabel('Z(theta)')\\nplt.grid()\\nplt.show()\\n\""
      ]
     },
     "execution_count": 272,
     "metadata": {},
     "output_type": "execute_result"
    }
   ],
   "source": [
    "def Z(vecs, u, v):\n",
    "    output=[]\n",
    "    for i in range(num_system):\n",
    "        vec=vecs[i]\n",
    "        x=vec[0]\n",
    "        y=vec[1]\n",
    "        theta=vec[2]\n",
    "        output.append([beta[i]*np.cos(theta)*u,beta[i]*np.sin(theta)*u,beta[i]*v])\n",
    "    return np.array(output)\n",
    "\n",
    "#check the correctness of Z\n",
    "'''\n",
    "x = np.linspace(0, 6.5, 1001)\n",
    "plt.plot(x, Z(x))\n",
    "plt.xlabel('Angle [rad]')\n",
    "plt.ylabel('Z(theta)')\n",
    "plt.grid()\n",
    "plt.show()\n",
    "'''"
   ]
  },
  {
   "cell_type": "code",
   "execution_count": 273,
   "id": "b5291895",
   "metadata": {},
   "outputs": [],
   "source": [
    "def next_step(vecs,action):\n",
    "    vecs_new=[]\n",
    "    u=action[0]\n",
    "    v=action[1]\n",
    "    diff=Z(vecs,u,v)\n",
    "    for i in range(num_system):\n",
    "        w=vecs[i]+delta_t*diff[i]\n",
    "        \n",
    "        if w[2]>np.pi:\n",
    "            w[2]-2*np.pi\n",
    "        if w[2]<-np.pi:\n",
    "            w[2]+2*np.pi\n",
    "        \n",
    "        vecs_new.append(w)\n",
    "    return np.array(vecs_new)\n",
    "\n",
    "def observe(vecs):\n",
    "    mu_x=0\n",
    "    mu_y=0\n",
    "    mu_theta=0\n",
    "    var_x=0\n",
    "    var_y=0\n",
    "    for i in range(num_system):\n",
    "        mu_x+=vecs[i][0]\n",
    "        mu_y+=vecs[i][1]\n",
    "        mu_theta+=vecs[i][2]\n",
    "        var_x+=vecs[i][0]**2\n",
    "        var_y+=vecs[i][1]**2\n",
    "    var_x-=mu_x**2/num_system\n",
    "    var_y-=mu_y**2/num_system\n",
    "    return np.array([mu_x,mu_y,mu_theta,var_x,var_y])/num_system\n",
    "\n",
    "def reward(obs):\n",
    "    return -(obs[0]-target[0])**2-(obs[1]-target[1])**2-0*obs[3]-0*obs[4]"
   ]
  },
  {
   "cell_type": "markdown",
   "id": "15ed433b",
   "metadata": {},
   "source": [
    "# Learning Settings"
   ]
  },
  {
   "cell_type": "code",
   "execution_count": 274,
   "id": "95e62df6",
   "metadata": {},
   "outputs": [],
   "source": [
    "global lr\n",
    "lr=0.01\n",
    "global eps\n",
    "eps=0.2\n",
    "global max_u\n",
    "max_u=2\n",
    "global precision\n",
    "precision=0.0002\n",
    "global action_set\n",
    "action_set=np.array([[1,np.pi/4],[-1,np.pi/4],[1,0],[-1,0],[1,-np.pi/4],[-1,-np.pi/4]])\n",
    "\n",
    "def exploration():\n",
    "    a=np.random.uniform()\n",
    "    if a<eps:\n",
    "        return True\n",
    "    else:\n",
    "        return False\n",
    "\n",
    "def find_max(cand):\n",
    "    return np.argmax(cand)\n",
    "    \n",
    "def decide_u(theta,cand,init=False):\n",
    "    explo=exploration()\n",
    "    if init or explo:\n",
    "        return(np.random.randint(6)), True\n",
    "    else:\n",
    "        return(find_max(cand)), False\n",
    "    \n",
    "def decide_u_exploitation(theta,cand,init=False):\n",
    "    return find_max(cand)\n",
    "\n",
    "history_su=[0 for i in range(6)]\n",
    "history_r=[0 for i in range(6)]\n",
    "flags=[True for i in range(6)]"
   ]
  },
  {
   "cell_type": "markdown",
   "id": "c5f09d42",
   "metadata": {},
   "source": [
    "# Simulation\n"
   ]
  },
  {
   "cell_type": "code",
   "execution_count": null,
   "id": "53aa277f",
   "metadata": {
    "scrolled": true
   },
   "outputs": [
    {
     "name": "stderr",
     "output_type": "stream",
     "text": [
      "\r",
      "  0%|                                                                                           | 0/30 [00:00<?, ?it/s]"
     ]
    },
    {
     "name": "stdout",
     "output_type": "stream",
     "text": [
      "observation = [-1.30977499e+00 -1.65575407e+00  5.96902604e-01  3.83511059e-04\n",
      "  5.56151363e-04]\n"
     ]
    },
    {
     "name": "stderr",
     "output_type": "stream",
     "text": [
      "\r",
      "  7%|█████▌                                                                             | 2/30 [00:01<00:24,  1.14it/s]"
     ]
    },
    {
     "name": "stdout",
     "output_type": "stream",
     "text": [
      "observation = [ 2.89280737 -0.9765683  -0.78539816  0.01392648  0.00374263]\n"
     ]
    },
    {
     "name": "stderr",
     "output_type": "stream",
     "text": [
      "\r",
      " 10%|████████▎                                                                          | 3/30 [00:03<00:32,  1.21s/it]"
     ]
    },
    {
     "name": "stdout",
     "output_type": "stream",
     "text": [
      "observation = [ 3.40817382e-02 -2.44610489e+00 -3.14159265e-01  5.06962761e-03\n",
      "  1.06050432e-03]\n"
     ]
    },
    {
     "name": "stderr",
     "output_type": "stream",
     "text": [
      "\r",
      " 13%|███████████                                                                        | 4/30 [00:05<00:38,  1.47s/it]"
     ]
    },
    {
     "name": "stdout",
     "output_type": "stream",
     "text": [
      "observation = [-6.95008182 -5.63309749 10.33583983  1.02507904  6.77073232]\n"
     ]
    },
    {
     "name": "stderr",
     "output_type": "stream",
     "text": [
      "\r",
      " 17%|█████████████▊                                                                     | 5/30 [00:06<00:37,  1.51s/it]"
     ]
    },
    {
     "name": "stdout",
     "output_type": "stream",
     "text": [
      "observation = [ 0.14533304 -0.24589469 -1.19380521  0.014859    0.01047568]\n"
     ]
    },
    {
     "name": "stderr",
     "output_type": "stream",
     "text": [
      "\r",
      " 20%|████████████████▌                                                                  | 6/30 [00:08<00:37,  1.57s/it]"
     ]
    },
    {
     "name": "stdout",
     "output_type": "stream",
     "text": [
      "observation = [-3.59501286 -5.55904268 -4.80663676  0.06321784  0.04134777]\n"
     ]
    },
    {
     "name": "stderr",
     "output_type": "stream",
     "text": [
      "\r",
      " 23%|███████████████████▎                                                               | 7/30 [00:10<00:37,  1.63s/it]"
     ]
    },
    {
     "name": "stdout",
     "output_type": "stream",
     "text": [
      "observation = [ 2.11982192  0.07442045 -0.43982297  0.02130311  0.01849163]\n"
     ]
    },
    {
     "name": "stderr",
     "output_type": "stream",
     "text": [
      "\r",
      " 27%|██████████████████████▏                                                            | 8/30 [00:12<00:37,  1.72s/it]"
     ]
    },
    {
     "name": "stdout",
     "output_type": "stream",
     "text": [
      "observation = [-2.36797856e-01 -3.36262270e-01  1.44513262e+00  3.16040840e-04\n",
      "  2.45243860e-03]\n"
     ]
    },
    {
     "name": "stderr",
     "output_type": "stream",
     "text": [
      "\r",
      " 30%|████████████████████████▉                                                          | 9/30 [00:14<00:38,  1.82s/it]"
     ]
    },
    {
     "name": "stdout",
     "output_type": "stream",
     "text": [
      "observation = [-1.24288147  0.92759471 -9.39336203  0.17208807  3.93474777]\n"
     ]
    },
    {
     "name": "stderr",
     "output_type": "stream",
     "text": [
      "\r",
      " 33%|███████████████████████████▎                                                      | 10/30 [00:16<00:38,  1.93s/it]"
     ]
    },
    {
     "name": "stdout",
     "output_type": "stream",
     "text": [
      "observation = [ 3.08913033 -0.53804687  0.09424778  0.02522644  0.00958275]\n"
     ]
    },
    {
     "name": "stderr",
     "output_type": "stream",
     "text": [
      "\r",
      " 37%|██████████████████████████████                                                    | 11/30 [00:18<00:38,  2.05s/it]"
     ]
    },
    {
     "name": "stdout",
     "output_type": "stream",
     "text": [
      "observation = [-0.04882391 11.39052715  1.79070781  0.45709848  0.18557557]\n"
     ]
    },
    {
     "name": "stderr",
     "output_type": "stream",
     "text": [
      "\r",
      " 40%|████████████████████████████████▊                                                 | 12/30 [00:21<00:39,  2.19s/it]"
     ]
    },
    {
     "name": "stdout",
     "output_type": "stream",
     "text": [
      "observation = [ 4.34754816  7.67821039 17.05884811  0.733001    0.10253723]\n"
     ]
    },
    {
     "name": "stderr",
     "output_type": "stream",
     "text": [
      "\r",
      " 43%|███████████████████████████████████▌                                              | 13/30 [00:24<00:39,  2.33s/it]"
     ]
    },
    {
     "name": "stdout",
     "output_type": "stream",
     "text": [
      "observation = [ 3.30471672 -0.94821296  0.12566371  0.03073142  0.00534971]\n"
     ]
    },
    {
     "name": "stderr",
     "output_type": "stream",
     "text": [
      "\r",
      " 47%|██████████████████████████████████████▎                                           | 14/30 [00:26<00:39,  2.49s/it]"
     ]
    },
    {
     "name": "stdout",
     "output_type": "stream",
     "text": [
      "observation = [11.11141583 -0.35513315 -6.53451272  0.03168007  0.05589932]\n"
     ]
    },
    {
     "name": "stderr",
     "output_type": "stream",
     "text": [
      "\r",
      " 50%|█████████████████████████████████████████                                         | 15/30 [00:29<00:39,  2.65s/it]"
     ]
    },
    {
     "name": "stdout",
     "output_type": "stream",
     "text": [
      "observation = [3.71260363e+00 2.18621527e+00 1.44513262e+00 1.52185445e-03\n",
      " 4.63337760e-02]\n"
     ]
    },
    {
     "name": "stderr",
     "output_type": "stream",
     "text": [
      "\r",
      " 53%|███████████████████████████████████████████▋                                      | 16/30 [00:33<00:39,  2.83s/it]"
     ]
    },
    {
     "name": "stdout",
     "output_type": "stream",
     "text": [
      "observation = [ 4.7308414  -0.18353811  1.44513262  0.0420146   0.0133615 ]\n"
     ]
    },
    {
     "name": "stderr",
     "output_type": "stream",
     "text": [
      "\r",
      " 57%|██████████████████████████████████████████████▍                                   | 17/30 [00:36<00:39,  3.02s/it]"
     ]
    },
    {
     "name": "stdout",
     "output_type": "stream",
     "text": [
      "observation = [ 1.8448494   2.37762599 -4.24115008  0.13611483  0.03468352]\n"
     ]
    },
    {
     "name": "stderr",
     "output_type": "stream",
     "text": [
      "\r",
      " 60%|█████████████████████████████████████████████████▏                                | 18/30 [00:40<00:38,  3.21s/it]"
     ]
    },
    {
     "name": "stdout",
     "output_type": "stream",
     "text": [
      "observation = [ 1.8800738  -0.01301886 -0.50265482  0.02174036  0.01689329]\n"
     ]
    }
   ],
   "source": [
    "num_iter=30\n",
    "\n",
    "position_result=[]\n",
    "observation_result=[]\n",
    "gpr_list=[]\n",
    "\n",
    "best_r=-10000\n",
    "best_obs=[]\n",
    "\n",
    "for iterr in tqdm(range(num_iter)):\n",
    "    #initialize\n",
    "    position=np.array([[-2,-2,0],[-2,-2,0],[-2,-2,0],[-2,-2,0],[-2,-2,0]])\n",
    "    observation=observe(position)\n",
    "    u_t=[]\n",
    "    observation_t=[observation]\n",
    "    \n",
    "    for time in range(N+1):\n",
    "        if iterr==0:\n",
    "            candidates_u=[]\n",
    "            u_k, _ = decide_u(observation,candidates_u,init=True)\n",
    "            position_new = next_step(position,action_set[u_k])\n",
    "            observation_new = observe(position_new)\n",
    "            r = reward(observation_new)\n",
    "            \n",
    "            if flags[u_k]:\n",
    "                history_su[u_k] = observation.reshape(-1,5)\n",
    "                history_r[u_k] = np.array([r])\n",
    "                flags[u_k]=False\n",
    "            else:\n",
    "                history_su[u_k] = np.concatenate((history_su[u_k], observation.reshape(-1,5)))\n",
    "                history_r[u_k] = np.concatenate((history_r[u_k],np.array([r])))\n",
    "            \n",
    "            observation=observation_new\n",
    "            position=position_new\n",
    "            u_t.append(u_k)\n",
    "            observation_t.append(observation)\n",
    "            \n",
    "            \n",
    "        else:            \n",
    "            candidates_u=[]\n",
    "            for i in range(6):\n",
    "                cand, _ = gpr_list[i].predict(observation.reshape(-1,5), return_std=True)\n",
    "                candidates_u.append(cand[0])\n",
    "            #print(candidates_u)\n",
    "            u_k, explo = decide_u(observation,np.array(candidates_u))\n",
    "            position_new = next_step(position,action_set[u_k])\n",
    "            observation_new = observe(position_new)\n",
    "            r = reward(observation_new)\n",
    "            if explo:\n",
    "                history_su[u_k] = np.concatenate((history_su[u_k], observation.reshape(-1,5)))\n",
    "                history_r[u_k] = np.concatenate((history_r[u_k],np.array([r])))\n",
    "            \n",
    "            observation=observation_new\n",
    "            position=position_new\n",
    "            u_t.append(u_k)\n",
    "            observation_t.append(observation)\n",
    "            \n",
    "            if time%((N+1)//3+1)==0:\n",
    "                for i in range(6):\n",
    "                    gpr_list[i]=GaussianProcessRegressor(alpha=1e-8).fit(history_su[i], history_r[i].reshape(-1,1))\n",
    "            \n",
    "            \n",
    "            if abs(r)<0.03:\n",
    "                break\n",
    "            \n",
    "\n",
    "    if iterr==0:\n",
    "        for i in range(6):\n",
    "            gpr_list.append(GaussianProcessRegressor(alpha=1e-4).fit(history_su[i], history_r[i].reshape(-1,1)))\n",
    "    else:\n",
    "        for i in range(6):\n",
    "            gpr_list[i]=GaussianProcessRegressor(alpha=1e-4).fit(history_su[i], history_r[i].reshape(-1,1))\n",
    "    print(\"observation =\",observation)\n",
    "    #print(observation_t)\n",
    "    position_result.append(position)\n",
    "    observation_result.append(observation)\n",
    "    if r>best_r:\n",
    "        best_r=r\n",
    "        best_obs=observation_t\n",
    "    \n",
    "    #print(history_su.shape)\n",
    "    #print(u_t)"
   ]
  },
  {
   "cell_type": "markdown",
   "id": "279315d1",
   "metadata": {},
   "source": [
    "# Results"
   ]
  },
  {
   "cell_type": "code",
   "execution_count": null,
   "id": "b553f371",
   "metadata": {
    "scrolled": true
   },
   "outputs": [],
   "source": [
    "x = np.linspace(0, T, N+1)\n",
    "plt.plot(x, u_t)\n",
    "plt.xlabel('t')\n",
    "plt.ylabel('u(t)')\n",
    "plt.title(\"u(t) vs time\")\n",
    "plt.grid()\n",
    "plt.show()"
   ]
  },
  {
   "cell_type": "markdown",
   "id": "0f175b0d",
   "metadata": {},
   "source": [
    "## Last Trajectory\n"
   ]
  },
  {
   "cell_type": "code",
   "execution_count": null,
   "id": "1f8fbeab",
   "metadata": {},
   "outputs": [],
   "source": [
    "obs=np.array(observation_t)\n",
    "obs=obs[:,[0,1]]\n",
    "plt.plot(obs[:,0],obs[:,1])\n",
    "plt.show()"
   ]
  },
  {
   "cell_type": "markdown",
   "id": "43d797bf",
   "metadata": {},
   "source": [
    "## Best Trajectory"
   ]
  },
  {
   "cell_type": "code",
   "execution_count": null,
   "id": "bd99ebe4",
   "metadata": {},
   "outputs": [],
   "source": [
    "obs=np.array(best_obs)\n",
    "obs=obs[:,[0,1]]\n",
    "plt.plot(obs[:,0],obs[:,1])\n",
    "plt.show()"
   ]
  },
  {
   "cell_type": "markdown",
   "id": "010a19b7",
   "metadata": {},
   "source": [
    "## Pure Exploitation Trajectory"
   ]
  },
  {
   "cell_type": "code",
   "execution_count": null,
   "id": "1d1e02bb",
   "metadata": {
    "scrolled": false
   },
   "outputs": [],
   "source": [
    "position=np.array([[-2,-2,0],[-2,-2,0],[-2,-2,0],[-2,-2,0],[-2,-2,0]])\n",
    "observation=observe(position)\n",
    "u_t=[]\n",
    "observation_t=[observation]\n",
    "\n",
    "for time in range(N+1):           \n",
    "    candidates_u=[]\n",
    "    for i in range(6):\n",
    "        cand, _ = gpr_list[i].predict(observation.reshape(-1,5), return_std=True)\n",
    "        candidates_u.append(cand[0])\n",
    "    #print(candidates_u)\n",
    "    u_k = decide_u_exploitation(observation,np.array(candidates_u))\n",
    "    position_new = next_step(position,action_set[u_k])\n",
    "    observation_new = observe(position_new)\n",
    "    r = reward(observation_new)\n",
    "    '''\n",
    "    if explo:\n",
    "        history_su[u_k] = np.concatenate((history_su[u_k], observation.reshape(-1,5)))\n",
    "        history_r[u_k] = np.concatenate((history_r[u_k],np.array([r])))\n",
    "    '''\n",
    "    observation=observation_new\n",
    "    position=position_new\n",
    "    u_t.append(u_k)\n",
    "    observation_t.append(observation)\n",
    "    '''\n",
    "    if time%((N+1)//3+1)==0:\n",
    "        for i in range(6):\n",
    "            gpr_list[i]=GaussianProcessRegressor(alpha=1e-8).fit(history_su[i], history_r[i].reshape(-1,1))\n",
    "    '''\n",
    "    \n",
    "obs=np.array(observation_t)\n",
    "obs=obs[:,[0,1]]\n",
    "plt.plot(obs[:,0],obs[:,1])\n",
    "plt.show()"
   ]
  },
  {
   "cell_type": "code",
   "execution_count": null,
   "id": "d6a9c85a",
   "metadata": {},
   "outputs": [],
   "source": [
    "print(obs.shape)"
   ]
  },
  {
   "cell_type": "code",
   "execution_count": null,
   "id": "dc7aa39a",
   "metadata": {},
   "outputs": [],
   "source": [
    "x = np.linspace(0, T, N+2)\n",
    "plt.plot(x, theta_t, color='m')\n",
    "plt.xlabel('t')\n",
    "plt.ylabel('theta(t)')\n",
    "plt.title(\"theta(t) vs time\")\n",
    "plt.grid()\n",
    "plt.show()"
   ]
  },
  {
   "cell_type": "code",
   "execution_count": null,
   "id": "48bf3607",
   "metadata": {},
   "outputs": [],
   "source": [
    "num_iter=len(theta_result)\n",
    "\n",
    "x = np.linspace(1, num_iter, num_iter)\n",
    "plt.plot(x, theta_result)\n",
    "plt.xlabel('iteration')\n",
    "plt.ylabel('theta(T)')\n",
    "plt.title(\"theta(T) vs iterations\")\n",
    "plt.grid()\n",
    "plt.show()"
   ]
  },
  {
   "cell_type": "code",
   "execution_count": null,
   "id": "8055a45c",
   "metadata": {},
   "outputs": [],
   "source": [
    "a=[np.array([1,2]),np.array([3,4]),np.array([5,6])]\n",
    "a[0]"
   ]
  },
  {
   "cell_type": "code",
   "execution_count": null,
   "id": "4c2a97b9",
   "metadata": {},
   "outputs": [],
   "source": []
  }
 ],
 "metadata": {
  "kernelspec": {
   "display_name": "Python 3 (ipykernel)",
   "language": "python",
   "name": "python3"
  },
  "language_info": {
   "codemirror_mode": {
    "name": "ipython",
    "version": 3
   },
   "file_extension": ".py",
   "mimetype": "text/x-python",
   "name": "python",
   "nbconvert_exporter": "python",
   "pygments_lexer": "ipython3",
   "version": "3.10.9"
  }
 },
 "nbformat": 4,
 "nbformat_minor": 5
}
