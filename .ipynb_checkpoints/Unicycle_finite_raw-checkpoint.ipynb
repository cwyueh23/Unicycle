{
 "cells": [
  {
   "cell_type": "markdown",
   "id": "4210cf4e",
   "metadata": {},
   "source": [
    "$V(x)=\\sum_{t=1}^T R(x(t))$ \\\n",
    "where  $R(x)=-\\|x-x_{goal}\\|-variance$ \\\n",
    "and $T=15$"
   ]
  },
  {
   "cell_type": "markdown",
   "id": "c8258d91",
   "metadata": {},
   "source": [
    "Use all datas "
   ]
  },
  {
   "cell_type": "markdown",
   "id": "d833b055",
   "metadata": {},
   "source": [
    "# Create Environment"
   ]
  },
  {
   "cell_type": "code",
   "execution_count": 6,
   "id": "65a2669a",
   "metadata": {},
   "outputs": [],
   "source": [
    "import numpy as np\n",
    "import matplotlib.pylab as plt\n",
    "from sklearn.gaussian_process import GaussianProcessRegressor\n",
    "from tqdm import tqdm\n",
    "\n",
    "global N\n",
    "\n",
    "N=100\n",
    "\n",
    "global M\n",
    "M=10\n",
    "\n",
    "global T\n",
    "global target\n",
    "T=30\n",
    "target=np.array([3,2])\n",
    "global w\n",
    "w=np.pi*2/23.7\n",
    "\n",
    "global delta_t\n",
    "delta_t=T/N\n",
    "\n",
    "global obs_para\n",
    "obs_para=6\n",
    "\n",
    "global beta\n",
    "beta=[0.95,0.975,1,1.025,1.05]\n",
    "\n",
    "global num_system\n",
    "num_system=5\n",
    "\n",
    "\n",
    "global coeff\n",
    "coeff=[1 for i in range(N+1)]"
   ]
  },
  {
   "cell_type": "code",
   "execution_count": 7,
   "id": "bd2938cf",
   "metadata": {},
   "outputs": [
    {
     "data": {
      "text/plain": [
       "\"\\nx = np.linspace(0, 6.5, 1001)\\nplt.plot(x, Z(x))\\nplt.xlabel('Angle [rad]')\\nplt.ylabel('Z(theta)')\\nplt.grid()\\nplt.show()\\n\""
      ]
     },
     "execution_count": 7,
     "metadata": {},
     "output_type": "execute_result"
    }
   ],
   "source": [
    "def Z(vecs, u, v):\n",
    "    output=[]\n",
    "    for i in range(num_system):\n",
    "        vec=vecs[i]\n",
    "        x=vec[0]\n",
    "        y=vec[1]\n",
    "        theta=vec[2]\n",
    "        output.append([beta[i]*np.cos(theta)*u,beta[i]*np.sin(theta)*u,beta[i]*v])\n",
    "    return np.array(output)\n",
    "\n",
    "#check the correctness of Z\n",
    "'''\n",
    "x = np.linspace(0, 6.5, 1001)\n",
    "plt.plot(x, Z(x))\n",
    "plt.xlabel('Angle [rad]')\n",
    "plt.ylabel('Z(theta)')\n",
    "plt.grid()\n",
    "plt.show()\n",
    "'''"
   ]
  },
  {
   "cell_type": "code",
   "execution_count": 8,
   "id": "b5291895",
   "metadata": {},
   "outputs": [],
   "source": [
    "def next_step(vecs,action):  \n",
    "    u=action[0]\n",
    "    v=action[1]\n",
    "   \n",
    "    for j in range(M):\n",
    "        vecs_new=[]\n",
    "        diff=Z(vecs,u,v)\n",
    "        for i in range(num_system):\n",
    "            w=vecs[i]+delta_t/M*diff[i]\n",
    "            '''\n",
    "            if w[2]>np.pi:\n",
    "                w[2]-=2*np.pi\n",
    "            if w[2]<-np.pi:\n",
    "                w[2]+=2*np.pi\n",
    "            '''\n",
    "            vecs_new.append(w)\n",
    "        vecs=np.array(vecs_new)\n",
    "    return vecs\n",
    "\n",
    "def observe(vecs):\n",
    "    mu_x=0\n",
    "    mu_y=0\n",
    "    mu_theta=0\n",
    "    var_x=0\n",
    "    var_y=0\n",
    "    var_theta=0\n",
    "    for i in range(num_system):\n",
    "        mu_x+=vecs[i][0]\n",
    "        mu_y+=vecs[i][1]\n",
    "        mu_theta+=vecs[i][2]\n",
    "        var_x+=vecs[i][0]**2\n",
    "        var_y+=vecs[i][1]**2\n",
    "        var_theta+=vecs[i][2]**2\n",
    "    var_x-=mu_x**2/num_system\n",
    "    var_y-=mu_y**2/num_system\n",
    "    var_theta-=mu_theta**2/num_system\n",
    "    \n",
    "    w=np.array([mu_x,mu_y,mu_theta,var_x,var_y,var_theta])/num_system\n",
    "    if w[2]>np.pi:\n",
    "        w[2]-=2*np.pi\n",
    "    if w[2]<-np.pi:\n",
    "        w[2]+=2*np.pi\n",
    "    return w\n",
    "\n",
    "def reward(obs):\n",
    "    return max(100-(obs[0]-target[0])**2-(obs[1]-target[1])**2-50*obs[3]-50*obs[4],0)\n",
    "\n",
    "def reward_raw(position):\n",
    "    r=0\n",
    "    for i in range(num_system):\n",
    "        r+=np.linalg.norm(position[i,[0,1]]-target)\n",
    "    return r\n",
    "\n",
    "def value_func(funcs,flags,next_state):\n",
    "    result=[]\n",
    "    for i in range(6):\n",
    "        if flags[i]:\n",
    "            result.append(0)\n",
    "        else:\n",
    "            k,_=funcs[i].predict(next_state.reshape(-1,5), return_std=True)\n",
    "            result.append(k[0])\n",
    "    result=np.array(result)\n",
    "    return np.max(result)"
   ]
  },
  {
   "cell_type": "markdown",
   "id": "15ed433b",
   "metadata": {},
   "source": [
    "# Learning Settings"
   ]
  },
  {
   "cell_type": "code",
   "execution_count": 9,
   "id": "95e62df6",
   "metadata": {},
   "outputs": [],
   "source": [
    "global lr\n",
    "lr=0.01\n",
    "global eps\n",
    "eps=0.2\n",
    "global max_u\n",
    "max_u=2\n",
    "global precision\n",
    "precision=0.0002\n",
    "global action_set\n",
    "action_set=np.array([[1,np.pi/4],[-1,np.pi/4],[1,0],[-1,0],[1,-np.pi/4],[-1,-np.pi/4]])\n",
    "\n",
    "def exploration():\n",
    "    a=np.random.uniform()\n",
    "    if a<eps:\n",
    "        return True\n",
    "    else:\n",
    "        return False\n",
    "\n",
    "def find_max(cand):\n",
    "    return np.argmax(cand)\n",
    "    \n",
    "def decide_u(funcs,flags,state,init=False):\n",
    "    explo=exploration()\n",
    "    if init or explo:\n",
    "        return np.random.randint(6)\n",
    "    else:\n",
    "        result=[]\n",
    "        for i in range(6):\n",
    "            if flags[i]:\n",
    "                return i\n",
    "            else:\n",
    "                k,_=funcs[i].predict(state.reshape(-1,obs_para), return_std=True)\n",
    "                result.append(k[0])\n",
    "    result=np.array(result)\n",
    "    return np.argmax(result)\n",
    "    \n",
    "def decide_u_exploitation(funcs,flags,state,init=False):\n",
    "    result=[]\n",
    "    for i in range(6):\n",
    "        if flags[i]:\n",
    "            print(\"Err\",i)\n",
    "            return i\n",
    "        else:\n",
    "            k,_=funcs[i].predict(state.reshape(-1,obs_para), return_std=True)\n",
    "            result.append(k[0])\n",
    "    result=np.array(result)\n",
    "    return np.argmax(result)\n",
    "\n",
    "history_su=[0 for i in range(6)]\n",
    "history_r=[0 for i in range(6)]\n",
    "history_su_next=[0 for i in range(6)]\n",
    "flags=[True for i in range(6)]\n",
    "\n",
    "history_rt=[[[] for i in range(6)] for j in range(N+1)]\n",
    "history_sut=[[[] for i in range(6)] for j in range(N+1)]\n",
    "flags_t=[[True for i in range(6)] for j in range(N+1)]"
   ]
  },
  {
   "cell_type": "markdown",
   "id": "c5f09d42",
   "metadata": {},
   "source": [
    "# Simulation\n"
   ]
  },
  {
   "cell_type": "code",
   "execution_count": null,
   "id": "53aa277f",
   "metadata": {
    "scrolled": true
   },
   "outputs": [
    {
     "name": "stderr",
     "output_type": "stream",
     "text": [
      "  1%|█                                                                                  | 1/80 [00:00<01:17,  1.02it/s]"
     ]
    },
    {
     "name": "stdout",
     "output_type": "stream",
     "text": [
      "observation = [-3.54195947e+00 -2.86799457e+00 -2.35619449e-01  3.18338073e-03\n",
      "  4.12358907e-03  6.93956559e-05]\n"
     ]
    },
    {
     "name": "stderr",
     "output_type": "stream",
     "text": [
      "\r",
      "  2%|██                                                                                 | 2/80 [00:02<01:24,  1.09s/it]"
     ]
    },
    {
     "name": "stdout",
     "output_type": "stream",
     "text": [
      "observation = [-3.57326311 -1.4595608  -2.04203522  0.08335517  0.00881593  0.02248419]\n"
     ]
    },
    {
     "name": "stderr",
     "output_type": "stream",
     "text": [
      "\r",
      "  4%|███                                                                                | 3/80 [00:03<01:30,  1.17s/it]"
     ]
    },
    {
     "name": "stdout",
     "output_type": "stream",
     "text": [
      "observation = [-3.36131887e+00 -2.41726972e+00  9.42477796e-01  1.15170623e-03\n",
      "  9.50224365e-04  1.11033050e-03]\n"
     ]
    },
    {
     "name": "stderr",
     "output_type": "stream",
     "text": [
      "\r",
      "  5%|████▏                                                                              | 4/80 [00:04<01:34,  1.25s/it]"
     ]
    },
    {
     "name": "stdout",
     "output_type": "stream",
     "text": [
      "observation = [-4.22928817e-03 -3.50275911e+00 -2.82743339e+00  2.53778101e-06\n",
      "  2.73998538e-04  9.99297446e-03]\n"
     ]
    },
    {
     "name": "stderr",
     "output_type": "stream",
     "text": [
      "\r",
      "  6%|█████▏                                                                             | 5/80 [00:06<01:43,  1.38s/it]"
     ]
    },
    {
     "name": "stdout",
     "output_type": "stream",
     "text": [
      "observation = [-5.77719412e+00 -2.98531114e+00 -1.80411242e-17  1.52034562e-02\n",
      "  5.23088084e-03  5.09601063e-33]\n"
     ]
    },
    {
     "name": "stderr",
     "output_type": "stream",
     "text": [
      "\r",
      "  8%|██████▏                                                                            | 6/80 [00:07<01:47,  1.45s/it]"
     ]
    },
    {
     "name": "stdout",
     "output_type": "stream",
     "text": [
      "observation = [ 8.33950671e-02 -2.64237937e+00 -4.71238898e-01  1.24221469e-02\n",
      "  1.32431403e-03  2.77582624e-04]\n"
     ]
    },
    {
     "name": "stderr",
     "output_type": "stream",
     "text": [
      "\r",
      "  9%|███████▎                                                                           | 7/80 [00:09<01:52,  1.54s/it]"
     ]
    },
    {
     "name": "stdout",
     "output_type": "stream",
     "text": [
      "observation = [ 1.59996865e+00 -1.69000954e+00  2.35619449e-01  1.14889525e-02\n",
      "  5.48717977e-04  6.93956559e-05]\n"
     ]
    },
    {
     "name": "stderr",
     "output_type": "stream",
     "text": [
      "\r",
      " 10%|████████▎                                                                          | 8/80 [00:11<02:02,  1.70s/it]"
     ]
    },
    {
     "name": "stdout",
     "output_type": "stream",
     "text": [
      "observation = [ 1.22839891e+00 -1.22512780e+00  4.16333634e-18  1.18678102e-02\n",
      "  3.01815696e-03  1.70637393e-33]\n"
     ]
    },
    {
     "name": "stderr",
     "output_type": "stream",
     "text": [
      "\r",
      " 11%|█████████▎                                                                         | 9/80 [00:13<02:11,  1.86s/it]"
     ]
    },
    {
     "name": "stdout",
     "output_type": "stream",
     "text": [
      "observation = [ 1.11387481e+00 -4.72670663e-01 -4.16333634e-18  9.46484058e-03\n",
      "  1.10945811e-02  1.55229954e-33]\n"
     ]
    },
    {
     "name": "stderr",
     "output_type": "stream",
     "text": [
      "\r",
      " 12%|██████████▎                                                                       | 10/80 [00:16<02:21,  2.03s/it]"
     ]
    },
    {
     "name": "stdout",
     "output_type": "stream",
     "text": [
      "observation = [ 1.17234149e+00 -5.65034708e-01 -2.35619449e-01  1.07231206e-02\n",
      "  9.52217233e-03  6.93956559e-05]\n"
     ]
    },
    {
     "name": "stderr",
     "output_type": "stream",
     "text": [
      "\r",
      " 14%|███████████▎                                                                      | 11/80 [00:19<02:35,  2.26s/it]"
     ]
    },
    {
     "name": "stdout",
     "output_type": "stream",
     "text": [
      "observation = [ 1.60591189e+00 -2.29276037e-01  2.35619449e-01  1.14494248e-02\n",
      "  1.49924937e-02  6.93956559e-05]\n"
     ]
    },
    {
     "name": "stderr",
     "output_type": "stream",
     "text": [
      "\r",
      " 15%|████████████▎                                                                     | 12/80 [00:22<02:46,  2.44s/it]"
     ]
    },
    {
     "name": "stdout",
     "output_type": "stream",
     "text": [
      "observation = [ 2.23261142e+00 -1.32629320e+00  2.35619449e-01  2.79711394e-02\n",
      "  4.00642595e-03  6.93956559e-05]\n"
     ]
    },
    {
     "name": "stderr",
     "output_type": "stream",
     "text": [
      "\r",
      " 16%|█████████████▎                                                                    | 13/80 [00:25<02:58,  2.67s/it]"
     ]
    },
    {
     "name": "stdout",
     "output_type": "stream",
     "text": [
      "observation = [ 1.86990109e+00 -2.41256106e-04  7.06858347e-01  8.91344122e-03\n",
      "  1.72030870e-02  6.24560904e-04]\n"
     ]
    },
    {
     "name": "stderr",
     "output_type": "stream",
     "text": [
      "\r",
      " 18%|██████████████▎                                                                   | 14/80 [00:29<03:20,  3.04s/it]"
     ]
    },
    {
     "name": "stdout",
     "output_type": "stream",
     "text": [
      "observation = [1.76494489e+00 3.18921508e-01 4.71238898e-01 6.87639793e-03\n",
      " 2.35172716e-02 2.77582624e-04]\n"
     ]
    },
    {
     "name": "stderr",
     "output_type": "stream",
     "text": [
      "\r",
      " 19%|███████████████▍                                                                  | 15/80 [00:33<03:39,  3.37s/it]"
     ]
    },
    {
     "name": "stdout",
     "output_type": "stream",
     "text": [
      "observation = [1.87782642e+00 6.40146369e-01 4.71238898e-01 3.41249011e-03\n",
      " 2.55649674e-02 2.77582624e-04]\n"
     ]
    },
    {
     "name": "stderr",
     "output_type": "stream",
     "text": [
      "\r",
      " 20%|████████████████▍                                                                 | 16/80 [00:37<03:57,  3.71s/it]"
     ]
    },
    {
     "name": "stdout",
     "output_type": "stream",
     "text": [
      "observation = [2.25236851e+00 4.08431818e-01 1.17809725e+00 8.81032908e-03\n",
      " 2.38598691e-02 1.73489140e-03]\n"
     ]
    },
    {
     "name": "stderr",
     "output_type": "stream",
     "text": [
      "\r",
      " 21%|█████████████████▍                                                                | 17/80 [00:42<04:19,  4.12s/it]"
     ]
    },
    {
     "name": "stdout",
     "output_type": "stream",
     "text": [
      "observation = [2.29869484 0.69614811 1.41371669 0.00835802 0.03384917 0.00249824]\n"
     ]
    },
    {
     "name": "stderr",
     "output_type": "stream",
     "text": [
      "\r",
      " 22%|██████████████████▍                                                               | 18/80 [00:48<04:43,  4.57s/it]"
     ]
    },
    {
     "name": "stdout",
     "output_type": "stream",
     "text": [
      "observation = [2.83789780e+00 8.61659778e-01 1.17809725e+00 1.26057876e-02\n",
      " 3.60386822e-02 1.73489140e-03]\n"
     ]
    },
    {
     "name": "stderr",
     "output_type": "stream",
     "text": [
      "\r",
      " 24%|███████████████████▍                                                              | 19/80 [00:54<05:11,  5.10s/it]"
     ]
    },
    {
     "name": "stdout",
     "output_type": "stream",
     "text": [
      "observation = [3.10987055 1.48519601 1.88495559 0.00947347 0.05215909 0.00444132]\n"
     ]
    },
    {
     "name": "stderr",
     "output_type": "stream",
     "text": [
      "\r",
      " 25%|████████████████████▌                                                             | 20/80 [01:01<05:35,  5.60s/it]"
     ]
    },
    {
     "name": "stdout",
     "output_type": "stream",
     "text": [
      "observation = [2.55848359e+00 8.81019143e-01 7.06858347e-01 7.74871075e-03\n",
      " 3.19521419e-02 6.24560904e-04]\n"
     ]
    },
    {
     "name": "stderr",
     "output_type": "stream",
     "text": [
      "\r",
      " 26%|█████████████████████▌                                                            | 21/80 [01:08<06:01,  6.12s/it]"
     ]
    },
    {
     "name": "stdout",
     "output_type": "stream",
     "text": [
      "observation = [2.58908611e+00 6.13538520e-01 1.17809725e+00 1.50568538e-02\n",
      " 5.21100114e-02 1.73489140e-03]\n"
     ]
    },
    {
     "name": "stderr",
     "output_type": "stream",
     "text": [
      "\r",
      " 28%|██████████████████████▌                                                           | 22/80 [01:17<06:35,  6.81s/it]"
     ]
    },
    {
     "name": "stdout",
     "output_type": "stream",
     "text": [
      "observation = [2.44756997e+00 1.54543509e+00 9.42477796e-01 4.92566558e-03\n",
      " 5.42256429e-02 1.11033050e-03]\n"
     ]
    },
    {
     "name": "stderr",
     "output_type": "stream",
     "text": [
      "\r",
      " 29%|███████████████████████▌                                                          | 23/80 [01:26<07:14,  7.62s/it]"
     ]
    },
    {
     "name": "stdout",
     "output_type": "stream",
     "text": [
      "observation = [2.21643233 1.62613116 1.64933614 0.0026225  0.05203808 0.00340039]\n"
     ]
    },
    {
     "name": "stderr",
     "output_type": "stream",
     "text": [
      "\r",
      " 30%|████████████████████████▌                                                         | 24/80 [01:37<07:52,  8.44s/it]"
     ]
    },
    {
     "name": "stdout",
     "output_type": "stream",
     "text": [
      "observation = [1.97629256e+00 1.86248189e+00 1.88495559e+00 6.46721983e-04\n",
      " 7.76855642e-02 4.44132198e-03]\n"
     ]
    },
    {
     "name": "stderr",
     "output_type": "stream",
     "text": [
      "\r",
      " 31%|█████████████████████████▋                                                        | 25/80 [01:49<08:45,  9.56s/it]"
     ]
    },
    {
     "name": "stdout",
     "output_type": "stream",
     "text": [
      "observation = [1.42055871e+00 1.37933412e+00 1.88495559e+00 2.21414070e-04\n",
      " 3.94814814e-02 4.44132198e-03]\n"
     ]
    },
    {
     "name": "stderr",
     "output_type": "stream",
     "text": [
      "\r",
      " 32%|██████████████████████████▋                                                       | 26/80 [02:02<09:42, 10.78s/it]"
     ]
    },
    {
     "name": "stdout",
     "output_type": "stream",
     "text": [
      "observation = [2.56396267e+00 2.06781661e+00 2.35619449e+00 1.72653387e-03\n",
      " 6.46241190e-02 6.93956559e-03]\n"
     ]
    },
    {
     "name": "stderr",
     "output_type": "stream",
     "text": [
      "\r",
      " 34%|███████████████████████████▋                                                      | 27/80 [02:17<10:24, 11.78s/it]"
     ]
    },
    {
     "name": "stdout",
     "output_type": "stream",
     "text": [
      "observation = [2.23360524e+00 1.87760795e+00 1.64933614e+00 2.01243808e-03\n",
      " 6.39467431e-02 3.40038714e-03]\n"
     ]
    }
   ],
   "source": [
    "num_iter=80\n",
    "\n",
    "position_result=[]\n",
    "observation_result=[]\n",
    "gpr_list=[[0 for i in range(6)] for j in range(N+1)]\n",
    "\n",
    "best_r=-10000\n",
    "best_obs=[]\n",
    "best_pos=[[] for i in range(num_system)]\n",
    "best_u=[]\n",
    "\n",
    "for iterr in tqdm(range(num_iter)):\n",
    "    #initialize\n",
    "    position=np.array([[-2,-2,0] for _ in range(num_system)])\n",
    "    observation=observe(position)\n",
    "    u_t=[]\n",
    "    r_t=[]\n",
    "    observation_t=[observation]\n",
    "    position_t=[[] for i in range(num_system)]\n",
    "    \n",
    "    \n",
    "    history_target=[0 for i in range(6)]\n",
    "    \n",
    "    \n",
    "    for time in range(N+1):\n",
    "        if iterr<5:\n",
    "            #candidates_u=[]\n",
    "            u_k = decide_u(gpr_list[time],flags,observation,init=True)\n",
    "            position_new = next_step(position,action_set[u_k])\n",
    "            observation_new = observe(position_new)\n",
    "            r = reward(observation_new)\n",
    "            r_t.append(r)\n",
    "            \n",
    "            if flags[u_k]:\n",
    "                history_su[u_k] = observation.reshape(-1,obs_para)\n",
    "                history_su_next[u_k] = observation_new.reshape(-1,obs_para)  \n",
    "                history_r[u_k] = np.array([r])\n",
    "                flags[u_k]=False\n",
    "            else:\n",
    "                history_su[u_k] = np.concatenate((history_su[u_k], observation.reshape(-1,obs_para)))\n",
    "                history_su_next[u_k] = np.concatenate((history_su_next[u_k], observation_new.reshape(-1,obs_para)))\n",
    "                history_r[u_k] = np.concatenate((history_r[u_k],np.array([r])))\n",
    "            \n",
    "            \n",
    "            observation=observation_new\n",
    "            position=position_new\n",
    "            u_t.append(u_k)\n",
    "            observation_t.append(observation)\n",
    "            for i in range(num_system):\n",
    "                position_t[i].append(position[i])\n",
    "            \n",
    "            \n",
    "        else:\n",
    "            #candidates_u=[]\n",
    "            u_k = decide_u(gpr_list[time],flags,observation)\n",
    "            #print(candidates_u)\n",
    "            #u_k, explo = decide_u(observation,np.array(candidates_u))\n",
    "            \n",
    "            position_new = next_step(position,action_set[u_k])\n",
    "            observation_new = observe(position_new)\n",
    "            r = reward(observation_new)\n",
    "            r_t.append(r)\n",
    "            \n",
    "            history_su[u_k] = np.concatenate((history_su[u_k], observation.reshape(-1,obs_para)))\n",
    "            history_r[u_k] = np.concatenate((history_r[u_k],np.array([r])))\n",
    "            history_su_next[u_k] = np.concatenate((history_su_next[u_k], observation_new.reshape(-1,obs_para)))\n",
    "            \n",
    "            observation=observation_new\n",
    "            position=position_new\n",
    "            u_t.append(u_k)\n",
    "            observation_t.append(observation)\n",
    "            for i in range(num_system):\n",
    "                position_t[i].append(position[i])\n",
    "            \n",
    "            \n",
    "            \n",
    "            \n",
    "    #update\n",
    "    #calculate cumulative r \n",
    "    \n",
    "\n",
    "    '''\n",
    "    for j in range(6):\n",
    "        history_target[j]=last_coeff*history_r[u_t[-i]]\n",
    "        gpr_list[-i][j]=GaussianProcessRegressor(alpha=1e-4).fit(history_su[j], history_target[j])\n",
    "    '''  \n",
    "         \n",
    "    #TODO\n",
    "       \n",
    "    for i in range(N+1):\n",
    "        if i==1:\n",
    "            for j in range(6):\n",
    "                history_target[j]=coeff[-1]*history_r[j]\n",
    "                gpr_list[-i][j]=GaussianProcessRegressor(alpha=1e-4).fit(np.array(history_su[j]).reshape(-1,obs_para), history_target[j].reshape(-1,1))\n",
    "            \n",
    "        elif i>1:\n",
    "            for j in range(6):\n",
    "                history_tar=[]\n",
    "                for k in range(history_r[j].shape[0]):\n",
    "                    history_tar.append(coeff[N+1-i]*history_r[j][k]+value_func(gpr_list[-i+1],flags_t[-i+1],history_su_next[j][k]))\n",
    "                gpr_list[-i][j]=GaussianProcessRegressor(alpha=1e-4).fit(np.array(history_su[j]).reshape(-1,obs_para), np.array(history_tar).reshape(-1,1))\n",
    "            '''\n",
    "            r_t[-i]=0.5**(N+1-i)*r_t[-i]+value_func(gpr_list[-i+1],flags_t[-i+1],observation_t[-i+1])\n",
    "            history_rt[-i][u_t[-i]].append(r_t[-i])\n",
    "            history_sut[-i][u_t[-i]].append(observation_t[-i])\n",
    "            gpr_list[-i][u_t[-i]]=GaussianProcessRegressor(alpha=1e-4).fit(np.array(history_sut[-i][u_t[-i]]).reshape(-1,5), np.array(history_rt[-i][u_t[-i]]).reshape(-1,1))\n",
    "            if flags_t[-i][u_t[-i]]:\n",
    "                flags_t[-i][u_t[-i]]=False\n",
    "            '''\n",
    "    for j in range(6):\n",
    "        history_tar=[]\n",
    "        for k in range(history_r[j].shape[0]):\n",
    "            history_tar.append(coeff[0]*history_r[j][k]+value_func(gpr_list[1],flags_t[1],history_su_next[j][k]))\n",
    "        gpr_list[0][j]=GaussianProcessRegressor(alpha=1e-4).fit(np.array(history_su[j]).reshape(-1,obs_para), np.array(history_tar).reshape(-1,1))\n",
    "\n",
    "            \n",
    "        \n",
    "    print(\"observation =\",observation)\n",
    "    #print(observation_t)\n",
    "    position_result.append(position)\n",
    "    observation_result.append(observation)\n",
    "    if r>best_r:\n",
    "        best_r=r\n",
    "        best_obs=observation_t\n",
    "        best_pos=position_t\n",
    "        best_u=u_t\n",
    "    \n",
    "    #print(history_su.shape)\n",
    "    #print(u_t)"
   ]
  },
  {
   "cell_type": "markdown",
   "id": "279315d1",
   "metadata": {},
   "source": [
    "# Results"
   ]
  },
  {
   "cell_type": "code",
   "execution_count": null,
   "id": "b553f371",
   "metadata": {},
   "outputs": [],
   "source": [
    "us=[2*(0.5-i%2) for i in u_t]\n",
    "vs=[(1-i//2)*np.pi/4 for i in u_t]\n",
    "\n",
    "u=[]\n",
    "v=[]\n",
    "for i in range(len(us)):\n",
    "    for j in range(20):\n",
    "        u.append(us[i])\n",
    "        v.append(vs[i])\n",
    "        \n",
    "x = np.linspace(0, T, (N+1)*20)\n",
    "plt.plot(x, u)\n",
    "plt.xlabel('t')\n",
    "plt.ylabel('u(t)')\n",
    "plt.title(\"u(t) vs time\")\n",
    "plt.grid()\n",
    "plt.show()\n",
    "\n",
    "x = np.linspace(0, T, (N+1)*20)\n",
    "plt.plot(x, v)\n",
    "plt.xlabel('t')\n",
    "plt.ylabel('v(t)')\n",
    "plt.title(\"v(t) vs time\")\n",
    "plt.grid()\n",
    "plt.show()"
   ]
  },
  {
   "cell_type": "markdown",
   "id": "0f175b0d",
   "metadata": {},
   "source": [
    "## Last Trajectory\n"
   ]
  },
  {
   "cell_type": "code",
   "execution_count": null,
   "id": "1f8fbeab",
   "metadata": {},
   "outputs": [],
   "source": [
    "obs=np.array(observation_t)\n",
    "obs=obs[:,[0,1]]\n",
    "plt.plot(obs[:,0],obs[:,1])\n",
    "plt.xlabel('X')\n",
    "plt.ylabel('Y')\n",
    "plt.show()"
   ]
  },
  {
   "cell_type": "code",
   "execution_count": null,
   "id": "a6f1d8d1",
   "metadata": {},
   "outputs": [],
   "source": [
    "pos=[]\n",
    "for i in range(num_system):\n",
    "    obs=np.array(position_t[i])\n",
    "    obs=obs[:,[0,1]]\n",
    "    plt.plot(obs[:,0],obs[:,1])\n",
    "    pos.append(obs[-1])\n",
    "plt.xlabel('X')\n",
    "plt.ylabel('Y')\n",
    "plt.show()\n",
    "print(reward_raw(np.array(pos)))\n",
    "\n",
    "cord_x=[]\n",
    "cord_y=[]\n",
    "for i in range(num_system):\n",
    "    cord_x.append(pos[i][0])\n",
    "    cord_y.append(pos[i][1])\n",
    "plt.plot(np.array(cord_x),np.array(cord_y), 'o')\n",
    "plt.plot(np.array([3]),np.array([2]), 'o')\n",
    "#plt.plot(obs[-1,0],obs[-1,1])\n",
    "plt.xlabel('X')\n",
    "plt.ylabel('Y')\n",
    "plt.grid()\n",
    "plt.show()\n"
   ]
  },
  {
   "cell_type": "markdown",
   "id": "43d797bf",
   "metadata": {},
   "source": [
    "## Best Trajectory"
   ]
  },
  {
   "cell_type": "code",
   "execution_count": null,
   "id": "bd99ebe4",
   "metadata": {},
   "outputs": [],
   "source": [
    "us=[2*(0.5-i%2) for i in best_u]\n",
    "vs=[(1-i//2)*np.pi/4 for i in best_u]\n",
    "\n",
    "u=[]\n",
    "v=[]\n",
    "for i in range(len(us)):\n",
    "    for j in range(20):\n",
    "        u.append(us[i])\n",
    "        v.append(vs[i])\n",
    "\n",
    "x = np.linspace(0, T, (N+1)*20)\n",
    "plt.plot(x, u)\n",
    "plt.xlabel('t')\n",
    "plt.ylabel('u(t)')\n",
    "plt.title(\"u(t) vs time\")\n",
    "plt.grid()\n",
    "plt.show()\n",
    "\n",
    "x = np.linspace(0, T, (N+1)*20)\n",
    "plt.plot(x, v)\n",
    "plt.xlabel('t')\n",
    "plt.ylabel('v(t)')\n",
    "plt.title(\"v(t) vs time\")\n",
    "plt.grid()\n",
    "plt.show()"
   ]
  },
  {
   "cell_type": "code",
   "execution_count": null,
   "id": "21c1b981",
   "metadata": {},
   "outputs": [],
   "source": [
    "obs=np.array(best_obs)\n",
    "obs=obs[:,[0,1]]\n",
    "plt.plot(obs[:,0],obs[:,1])\n",
    "plt.xlabel('X')\n",
    "plt.ylabel('Y')\n",
    "plt.show()"
   ]
  },
  {
   "cell_type": "code",
   "execution_count": null,
   "id": "8bc91eff",
   "metadata": {},
   "outputs": [],
   "source": [
    "pos=[]\n",
    "for i in range(num_system):\n",
    "    obs=np.array(best_pos[i])\n",
    "    obs=obs[:,[0,1]]\n",
    "    plt.plot(obs[:,0],obs[:,1])\n",
    "    pos.append(obs[-1])\n",
    "plt.xlabel('X')\n",
    "plt.ylabel('Y')\n",
    "plt.show()\n",
    "print(reward_raw(np.array(pos)))\n",
    "\n",
    "pos=[]\n",
    "for i in range(num_system):\n",
    "    obs=np.array(best_pos[i])\n",
    "    obs=obs[:,[0,1]]\n",
    "    #plt.plot(obs[:,0],obs[:,1])\n",
    "    pos.append(obs[-1])\n",
    "\n",
    "cord_x=[]\n",
    "cord_y=[]\n",
    "for i in range(num_system):\n",
    "    cord_x.append(pos[i][0])\n",
    "    cord_y.append(pos[i][1])\n",
    "plt.plot(np.array(cord_x),np.array(cord_y), 'o')\n",
    "plt.plot(np.array([3]),np.array([2]), 'o')\n",
    "#plt.plot(obs[-1,0],obs[-1,1])\n",
    "plt.xlabel('X')\n",
    "plt.ylabel('Y')\n",
    "plt.grid()\n",
    "plt.show()"
   ]
  },
  {
   "cell_type": "markdown",
   "id": "010a19b7",
   "metadata": {},
   "source": [
    "## Pure Exploitation Trajectory"
   ]
  },
  {
   "cell_type": "code",
   "execution_count": null,
   "id": "1d1e02bb",
   "metadata": {
    "scrolled": false
   },
   "outputs": [],
   "source": [
    "position=np.array([[-2,-2,0] for _ in range(num_system)])\n",
    "observation=observe(position)\n",
    "u_t=[]\n",
    "observation_t=[observation]\n",
    "position_t=[[] for i in range(num_system)]\n",
    "\n",
    "for time in range(N+1):           \n",
    "    \n",
    "    #print(candidates_u)\n",
    "    u_k = decide_u_exploitation(gpr_list[time],flags,observation)\n",
    "    position_new = next_step(position,action_set[u_k])\n",
    "    observation_new = observe(position_new)\n",
    "    r = reward(observation_new)\n",
    "    '''\n",
    "    if explo:\n",
    "        history_su[u_k] = np.concatenate((history_su[u_k], observation.reshape(-1,5)))\n",
    "        history_r[u_k] = np.concatenate((history_r[u_k],np.array([r])))\n",
    "    '''\n",
    "    observation=observation_new\n",
    "    position=position_new\n",
    "    u_t.append(u_k)\n",
    "    observation_t.append(observation)\n",
    "    for i in range(num_system):\n",
    "        position_t[i].append(position[i])\n",
    "    '''\n",
    "    if time%((N+1)//3+1)==0:\n",
    "        for i in range(6):\n",
    "            gpr_list[i]=GaussianProcessRegressor(alpha=1e-8).fit(history_su[i], history_r[i].reshape(-1,1))\n",
    "    '''\n",
    "    \n",
    "us=[2*(0.5-i%2) for i in u_t]\n",
    "vs=[(1-i//2)*np.pi/4 for i in u_t]\n",
    "\n",
    "u=[]\n",
    "v=[]\n",
    "for i in range(len(us)):\n",
    "    for j in range(20):\n",
    "        u.append(us[i])\n",
    "        v.append(vs[i])\n",
    "    \n",
    "\n",
    "x = np.linspace(0, T, (N+1)*20)\n",
    "plt.plot(x, u)\n",
    "plt.xlabel('t')\n",
    "plt.ylabel('u(t)')\n",
    "plt.title(\"u(t) vs time\")\n",
    "plt.grid()\n",
    "plt.show()\n",
    "\n",
    "x = np.linspace(0, T, (N+1)*20)\n",
    "plt.plot(x, v)\n",
    "plt.xlabel('t')\n",
    "plt.ylabel('v(t)')\n",
    "plt.title(\"v(t) vs time\")\n",
    "plt.grid()\n",
    "plt.show()\n",
    "\n",
    "obs=np.array(observation_t)\n",
    "obs=obs[:,[0,1]]\n",
    "plt.plot(obs[:,0],obs[:,1])\n",
    "plt.xlabel('X')\n",
    "plt.ylabel('Y')\n",
    "plt.show()"
   ]
  },
  {
   "cell_type": "code",
   "execution_count": null,
   "id": "ec3ad861",
   "metadata": {},
   "outputs": [],
   "source": [
    "pos=[]\n",
    "for i in range(num_system):\n",
    "    obs=np.array(position_t[i])\n",
    "    obs=obs[:,[0,1]]\n",
    "    plt.plot(obs[:,0],obs[:,1])\n",
    "    pos.append(obs[-1])\n",
    "plt.xlabel('X')\n",
    "plt.ylabel('Y')\n",
    "plt.show()\n",
    "print(reward_raw(position))\n",
    "\n",
    "cord_x=[]\n",
    "cord_y=[]\n",
    "for i in range(num_system):\n",
    "    cord_x.append(pos[i][0])\n",
    "    cord_y.append(pos[i][1])\n",
    "plt.plot(np.array(cord_x),np.array(cord_y), 'o')\n",
    "plt.plot(np.array([3]),np.array([2]), 'o')\n",
    "#plt.plot(obs[-1,0],obs[-1,1])\n",
    "plt.xlabel('X')\n",
    "plt.ylabel('Y')\n",
    "plt.grid()\n",
    "plt.show()"
   ]
  },
  {
   "cell_type": "code",
   "execution_count": null,
   "id": "d6a9c85a",
   "metadata": {},
   "outputs": [],
   "source": []
  },
  {
   "cell_type": "code",
   "execution_count": null,
   "id": "4c2a97b9",
   "metadata": {},
   "outputs": [],
   "source": []
  }
 ],
 "metadata": {
  "kernelspec": {
   "display_name": "Python 3 (ipykernel)",
   "language": "python",
   "name": "python3"
  },
  "language_info": {
   "codemirror_mode": {
    "name": "ipython",
    "version": 3
   },
   "file_extension": ".py",
   "mimetype": "text/x-python",
   "name": "python",
   "nbconvert_exporter": "python",
   "pygments_lexer": "ipython3",
   "version": "3.10.9"
  }
 },
 "nbformat": 4,
 "nbformat_minor": 5
}
