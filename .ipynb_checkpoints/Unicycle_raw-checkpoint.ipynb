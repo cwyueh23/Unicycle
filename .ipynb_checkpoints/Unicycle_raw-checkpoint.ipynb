{
 "cells": [
  {
   "cell_type": "markdown",
   "id": "d833b055",
   "metadata": {},
   "source": [
    "# Create Environment"
   ]
  },
  {
   "cell_type": "code",
   "execution_count": 12,
   "id": "65a2669a",
   "metadata": {},
   "outputs": [],
   "source": [
    "import numpy as np\n",
    "import matplotlib.pylab as plt\n",
    "from sklearn.gaussian_process import GaussianProcessRegressor\n",
    "from tqdm import tqdm\n",
    "\n",
    "global N\n",
    "\n",
    "N=1000\n",
    "\n",
    "global T\n",
    "global target\n",
    "T=40\n",
    "target=np.array([3,2])\n",
    "global w\n",
    "w=np.pi*2/23.7\n",
    "\n",
    "global delta_t\n",
    "delta_t=T/N\n",
    "\n",
    "global beta\n",
    "beta=[0.95,0.975,1,1.025,1.05]\n",
    "\n",
    "global num_system\n",
    "num_system=5"
   ]
  },
  {
   "cell_type": "code",
   "execution_count": 13,
   "id": "bd2938cf",
   "metadata": {},
   "outputs": [
    {
     "data": {
      "text/plain": [
       "\"\\nx = np.linspace(0, 6.5, 1001)\\nplt.plot(x, Z(x))\\nplt.xlabel('Angle [rad]')\\nplt.ylabel('Z(theta)')\\nplt.grid()\\nplt.show()\\n\""
      ]
     },
     "execution_count": 13,
     "metadata": {},
     "output_type": "execute_result"
    }
   ],
   "source": [
    "def Z(vecs, u, v):\n",
    "    output=[]\n",
    "    for i in range(num_system):\n",
    "        vec=vecs[i]\n",
    "        x=vec[0]\n",
    "        y=vec[1]\n",
    "        theta=vec[2]\n",
    "        output.append([beta[i]*np.cos(theta)*u,beta[i]*np.sin(theta)*u,beta[i]*v])\n",
    "    return np.array(output)\n",
    "\n",
    "#check the correctness of Z\n",
    "'''\n",
    "x = np.linspace(0, 6.5, 1001)\n",
    "plt.plot(x, Z(x))\n",
    "plt.xlabel('Angle [rad]')\n",
    "plt.ylabel('Z(theta)')\n",
    "plt.grid()\n",
    "plt.show()\n",
    "'''"
   ]
  },
  {
   "cell_type": "code",
   "execution_count": 14,
   "id": "b5291895",
   "metadata": {},
   "outputs": [],
   "source": [
    "def next_step(vecs,action):\n",
    "    vecs_new=[]\n",
    "    u=action[0]\n",
    "    v=action[1]\n",
    "    diff=Z(vecs,u,v)\n",
    "    for i in range(num_system):\n",
    "        w=vecs[i]+delta_t*diff[i]\n",
    "        \n",
    "        if w[2]>np.pi:\n",
    "            w[2]-2*np.pi\n",
    "        if w[2]<-np.pi:\n",
    "            w[2]+2*np.pi\n",
    "        \n",
    "        vecs_new.append(w)\n",
    "    return np.array(vecs_new)\n",
    "\n",
    "def observe(vecs):\n",
    "    mu_x=0\n",
    "    mu_y=0\n",
    "    mu_theta=0\n",
    "    var_x=0\n",
    "    var_y=0\n",
    "    for i in range(num_system):\n",
    "        mu_x+=vecs[i][0]\n",
    "        mu_y+=vecs[i][1]\n",
    "        mu_theta+=vecs[i][2]\n",
    "        var_x+=vecs[i][0]**2\n",
    "        var_y+=vecs[i][1]**2\n",
    "    var_x-=mu_x**2/num_system\n",
    "    var_y-=mu_y**2/num_system\n",
    "    return np.array([mu_x,mu_y,mu_theta,var_x,var_y])/num_system\n",
    "\n",
    "def reward(obs):\n",
    "    return -(obs[0]-target[0])**2-(obs[1]-target[1])**2-obs[3]-obs[4]"
   ]
  },
  {
   "cell_type": "markdown",
   "id": "15ed433b",
   "metadata": {},
   "source": [
    "# Learning Settings"
   ]
  },
  {
   "cell_type": "code",
   "execution_count": 15,
   "id": "95e62df6",
   "metadata": {},
   "outputs": [],
   "source": [
    "global lr\n",
    "lr=0.01\n",
    "global eps\n",
    "eps=0.2\n",
    "global max_u\n",
    "max_u=2\n",
    "global precision\n",
    "precision=0.0002\n",
    "global action_set\n",
    "action_set=np.array([[1,np.pi/4],[-1,np.pi/4],[1,0],[-1,0],[1,-np.pi/4],[-1,-np.pi/4]])\n",
    "\n",
    "def exploration():\n",
    "    a=np.random.uniform()\n",
    "    if a<eps:\n",
    "        return True\n",
    "    else:\n",
    "        return False\n",
    "\n",
    "def find_max(cand):\n",
    "    return np.argmax(cand)\n",
    "    \n",
    "def decide_u(theta,cand,init=False):\n",
    "    explo=exploration()\n",
    "    if init or explo:\n",
    "        return(np.random.randint(6)), True\n",
    "    else:\n",
    "        return(find_max(cand)), False\n",
    "    \n",
    "def decide_u_exploitation(theta,cand,init=False):\n",
    "    return find_max(cand)\n",
    "\n",
    "history_su=[0 for i in range(6)]\n",
    "history_r=[0 for i in range(6)]\n",
    "flags=[True for i in range(6)]"
   ]
  },
  {
   "cell_type": "markdown",
   "id": "c5f09d42",
   "metadata": {},
   "source": [
    "# Simulation\n"
   ]
  },
  {
   "cell_type": "code",
   "execution_count": 16,
   "id": "53aa277f",
   "metadata": {
    "scrolled": true
   },
   "outputs": [
    {
     "name": "stderr",
     "output_type": "stream",
     "text": [
      "\r",
      "  0%|                                                                                           | 0/50 [00:00<?, ?it/s]"
     ]
    },
    {
     "name": "stdout",
     "output_type": "stream",
     "text": [
      "observation = [-3.74002622e+00 -2.33156427e+00 -4.08407045e-01  2.69603467e-03\n",
      "  4.76029326e-04]\n"
     ]
    },
    {
     "name": "stderr",
     "output_type": "stream",
     "text": [
      "\r",
      "  4%|███▎                                                                               | 2/50 [00:01<00:41,  1.15it/s]"
     ]
    },
    {
     "name": "stdout",
     "output_type": "stream",
     "text": [
      "observation = [ 0.69987162 -0.81358776 -3.42433599  0.03409671  0.00823052]\n"
     ]
    },
    {
     "name": "stderr",
     "output_type": "stream",
     "text": [
      "\r",
      "  6%|████▉                                                                              | 3/50 [00:03<00:57,  1.22s/it]"
     ]
    },
    {
     "name": "stdout",
     "output_type": "stream",
     "text": [
      "observation = [ 8.31760164  1.31135286 -1.75929189  0.27366627  0.25171776]\n"
     ]
    },
    {
     "name": "stderr",
     "output_type": "stream",
     "text": [
      "\r",
      "  8%|██████▋                                                                            | 4/50 [00:05<01:05,  1.42s/it]"
     ]
    },
    {
     "name": "stdout",
     "output_type": "stream",
     "text": [
      "observation = [ 1.45398303  4.24440323 -0.78539816  0.23017895  0.06583126]\n"
     ]
    },
    {
     "name": "stderr",
     "output_type": "stream",
     "text": [
      "\r",
      " 10%|████████▎                                                                          | 5/50 [00:07<01:12,  1.61s/it]"
     ]
    },
    {
     "name": "stdout",
     "output_type": "stream",
     "text": [
      "observation = [-1.25343954  1.40609958 -0.62831853  0.03052431  0.03105465]\n"
     ]
    },
    {
     "name": "stderr",
     "output_type": "stream",
     "text": [
      "\r",
      " 12%|█████████▉                                                                         | 6/50 [00:09<01:20,  1.82s/it]"
     ]
    },
    {
     "name": "stdout",
     "output_type": "stream",
     "text": [
      "observation = [ 2.66505953e+00  1.84324969e+00 -2.13628300e+00  6.00821661e-02\n",
      "  6.79893520e-04]\n"
     ]
    },
    {
     "name": "stderr",
     "output_type": "stream",
     "text": [
      "\r",
      " 14%|███████████▌                                                                       | 7/50 [00:12<01:28,  2.07s/it]"
     ]
    },
    {
     "name": "stdout",
     "output_type": "stream",
     "text": [
      "observation = [11.14816846 11.67422951  1.63362818  0.39977561  1.08541656]\n"
     ]
    },
    {
     "name": "stderr",
     "output_type": "stream",
     "text": [
      "\r",
      " 16%|█████████████▎                                                                     | 8/50 [00:15<01:40,  2.39s/it]"
     ]
    },
    {
     "name": "stdout",
     "output_type": "stream",
     "text": [
      "observation = [ 2.64844609 -0.6594396  -0.09424778  0.02548784  0.00664471]\n"
     ]
    },
    {
     "name": "stderr",
     "output_type": "stream",
     "text": [
      "\r",
      " 18%|██████████████▉                                                                    | 9/50 [00:17<01:41,  2.49s/it]"
     ]
    },
    {
     "name": "stdout",
     "output_type": "stream",
     "text": [
      "observation = [2.99737178e+00 1.99018137e+00 2.16769893e+00 2.76803919e-04\n",
      " 2.81108793e-02]\n"
     ]
    },
    {
     "name": "stderr",
     "output_type": "stream",
     "text": [
      "\r",
      " 20%|████████████████▍                                                                 | 10/50 [00:21<01:56,  2.91s/it]"
     ]
    },
    {
     "name": "stdout",
     "output_type": "stream",
     "text": [
      "observation = [2.75641569e+00 2.86426171e+00 5.02654825e-01 3.99368328e-04\n",
      " 6.07169473e-02]\n"
     ]
    },
    {
     "name": "stderr",
     "output_type": "stream",
     "text": [
      "\r",
      " 22%|██████████████████                                                                | 11/50 [00:25<02:07,  3.28s/it]"
     ]
    },
    {
     "name": "stdout",
     "output_type": "stream",
     "text": [
      "observation = [2.08961645e+00 1.60281291e+00 1.72787596e+00 1.07177793e-03\n",
      " 1.16208136e-01]\n"
     ]
    },
    {
     "name": "stderr",
     "output_type": "stream",
     "text": [
      "\r",
      " 24%|███████████████████▋                                                              | 12/50 [00:30<02:22,  3.75s/it]"
     ]
    },
    {
     "name": "stdout",
     "output_type": "stream",
     "text": [
      "observation = [ 2.14931625e-01 -2.10270013e+00 -5.96902604e-01  8.81763346e-03\n",
      "  2.35926328e-04]\n"
     ]
    },
    {
     "name": "stderr",
     "output_type": "stream",
     "text": [
      "\r",
      " 26%|█████████████████████▎                                                            | 13/50 [00:35<02:35,  4.19s/it]"
     ]
    },
    {
     "name": "stdout",
     "output_type": "stream",
     "text": [
      "observation = [ 0.57370116  1.99962827 -2.23053078  0.13562743  0.00749153]\n"
     ]
    },
    {
     "name": "stderr",
     "output_type": "stream",
     "text": [
      "\r",
      " 28%|██████████████████████▉                                                           | 14/50 [00:41<02:48,  4.69s/it]"
     ]
    },
    {
     "name": "stdout",
     "output_type": "stream",
     "text": [
      "observation = [ 2.39518835e+00 -4.18724202e+00 -9.42477796e-01  1.16118380e-04\n",
      "  2.31166219e-03]\n"
     ]
    },
    {
     "name": "stderr",
     "output_type": "stream",
     "text": [
      "\r",
      " 30%|████████████████████████▌                                                         | 15/50 [00:48<03:03,  5.24s/it]"
     ]
    },
    {
     "name": "stdout",
     "output_type": "stream",
     "text": [
      "observation = [ 1.79551731  1.83315281 -1.72787596  0.02149676  0.04596285]\n"
     ]
    },
    {
     "name": "stderr",
     "output_type": "stream",
     "text": [
      "\r",
      " 32%|██████████████████████████▏                                                       | 16/50 [00:55<03:17,  5.82s/it]"
     ]
    },
    {
     "name": "stdout",
     "output_type": "stream",
     "text": [
      "observation = [ 9.91107252e+00 -2.49296320e+00  4.11548638e+00  7.39155230e-03\n",
      "  8.14995766e-02]\n"
     ]
    },
    {
     "name": "stderr",
     "output_type": "stream",
     "text": [
      "\r",
      " 34%|███████████████████████████▉                                                      | 17/50 [01:03<03:32,  6.43s/it]"
     ]
    },
    {
     "name": "stdout",
     "output_type": "stream",
     "text": [
      "observation = [1.97773222 4.38714755 3.0787608  0.16990461 0.03386163]\n"
     ]
    },
    {
     "name": "stderr",
     "output_type": "stream",
     "text": [
      "\r",
      " 36%|█████████████████████████████▌                                                    | 18/50 [01:11<03:48,  7.13s/it]"
     ]
    },
    {
     "name": "stdout",
     "output_type": "stream",
     "text": [
      "observation = [-0.01203594  1.56879401 -1.38230077  0.04089283  0.03502475]\n"
     ]
    },
    {
     "name": "stderr",
     "output_type": "stream",
     "text": [
      "\r",
      " 38%|███████████████████████████████▏                                                  | 19/50 [01:21<04:00,  7.77s/it]"
     ]
    },
    {
     "name": "stdout",
     "output_type": "stream",
     "text": [
      "observation = [1.93164767e+00 6.61499094e-01 2.38761042e+00 6.47498508e-04\n",
      " 6.78534725e-02]\n"
     ]
    },
    {
     "name": "stderr",
     "output_type": "stream",
     "text": [
      "\r",
      " 40%|████████████████████████████████▊                                                 | 20/50 [01:31<04:14,  8.48s/it]"
     ]
    },
    {
     "name": "stdout",
     "output_type": "stream",
     "text": [
      "observation = [3.01271555e+00 1.57084106e+00 3.26725636e+00 2.98088056e-03\n",
      " 2.28044209e-02]\n"
     ]
    },
    {
     "name": "stderr",
     "output_type": "stream",
     "text": [
      "\r",
      " 42%|██████████████████████████████████▍                                               | 21/50 [01:42<04:27,  9.21s/it]"
     ]
    },
    {
     "name": "stdout",
     "output_type": "stream",
     "text": [
      "observation = [ 2.13136861  2.07670421 -1.82212374  0.19953239  0.01774824]\n"
     ]
    },
    {
     "name": "stderr",
     "output_type": "stream",
     "text": [
      "\r",
      " 44%|████████████████████████████████████                                              | 22/50 [01:54<04:39,  9.97s/it]"
     ]
    },
    {
     "name": "stdout",
     "output_type": "stream",
     "text": [
      "observation = [3.30597206e+00 3.75389740e+00 1.82212374e+00 3.09277715e-03\n",
      " 4.79585468e-02]\n"
     ]
    },
    {
     "name": "stderr",
     "output_type": "stream",
     "text": [
      "\r",
      " 46%|█████████████████████████████████████▋                                            | 23/50 [02:06<04:51, 10.78s/it]"
     ]
    },
    {
     "name": "stdout",
     "output_type": "stream",
     "text": [
      "observation = [ 3.07038535  1.77839563 -2.4818582   0.24165752  0.04177391]\n"
     ]
    },
    {
     "name": "stderr",
     "output_type": "stream",
     "text": [
      "\r",
      " 48%|███████████████████████████████████████▎                                          | 24/50 [02:20<05:01, 11.60s/it]"
     ]
    },
    {
     "name": "stdout",
     "output_type": "stream",
     "text": [
      "observation = [ 3.38939544  1.39219089 -2.76460154  0.00855772  0.03583667]\n"
     ]
    },
    {
     "name": "stderr",
     "output_type": "stream",
     "text": [
      "\r",
      " 50%|█████████████████████████████████████████                                         | 25/50 [02:34<05:12, 12.49s/it]"
     ]
    },
    {
     "name": "stdout",
     "output_type": "stream",
     "text": [
      "observation = [1.84744719e+00 1.09771121e+00 2.26194671e+00 5.30771585e-04\n",
      " 3.59447285e-02]\n"
     ]
    },
    {
     "name": "stderr",
     "output_type": "stream",
     "text": [
      "\r",
      " 52%|██████████████████████████████████████████▋                                       | 26/50 [02:50<05:21, 13.40s/it]"
     ]
    },
    {
     "name": "stdout",
     "output_type": "stream",
     "text": [
      "observation = [3.10892689 0.90659994 3.20442451 0.01069359 0.08947345]\n"
     ]
    },
    {
     "name": "stderr",
     "output_type": "stream",
     "text": [
      "\r",
      " 54%|████████████████████████████████████████████▎                                     | 27/50 [03:07<05:35, 14.59s/it]"
     ]
    },
    {
     "name": "stdout",
     "output_type": "stream",
     "text": [
      "observation = [2.50075579 0.92250058 2.73318561 0.00551768 0.05628404]\n"
     ]
    },
    {
     "name": "stderr",
     "output_type": "stream",
     "text": [
      "\r",
      " 56%|█████████████████████████████████████████████▉                                    | 28/50 [03:25<05:43, 15.59s/it]"
     ]
    },
    {
     "name": "stdout",
     "output_type": "stream",
     "text": [
      "observation = [ 2.94718468  2.02831317 -1.60221225  0.1920988   0.00718046]\n"
     ]
    },
    {
     "name": "stderr",
     "output_type": "stream",
     "text": [
      "\r",
      " 58%|███████████████████████████████████████████████▌                                  | 29/50 [03:44<05:48, 16.61s/it]"
     ]
    },
    {
     "name": "stdout",
     "output_type": "stream",
     "text": [
      "observation = [2.29556054e+00 1.98916984e+00 1.57079633e+00 1.39316590e-04\n",
      " 5.17949091e-02]\n"
     ]
    },
    {
     "name": "stderr",
     "output_type": "stream",
     "text": [
      "\r",
      " 60%|█████████████████████████████████████████████████▏                                | 30/50 [04:04<05:53, 17.69s/it]"
     ]
    },
    {
     "name": "stdout",
     "output_type": "stream",
     "text": [
      "observation = [ 3.50812396e+00  2.10341605e+00 -1.28805299e+00  2.42018819e-04\n",
      "  4.91597573e-02]\n"
     ]
    },
    {
     "name": "stderr",
     "output_type": "stream",
     "text": [
      "\r",
      " 62%|██████████████████████████████████████████████████▊                               | 31/50 [04:26<05:58, 18.85s/it]"
     ]
    },
    {
     "name": "stdout",
     "output_type": "stream",
     "text": [
      "observation = [3.49472501e+00 2.10893185e+00 1.75929189e+00 5.61319741e-04\n",
      " 1.69416651e-02]\n"
     ]
    },
    {
     "name": "stderr",
     "output_type": "stream",
     "text": [
      "\r",
      " 64%|████████████████████████████████████████████████████▍                             | 32/50 [04:49<06:02, 20.13s/it]"
     ]
    },
    {
     "name": "stdout",
     "output_type": "stream",
     "text": [
      "observation = [3.70545323 0.94676475 0.62831853 0.02632393 0.03849637]\n"
     ]
    },
    {
     "name": "stderr",
     "output_type": "stream",
     "text": [
      "\r",
      " 66%|██████████████████████████████████████████████████████                            | 33/50 [05:14<06:04, 21.47s/it]"
     ]
    },
    {
     "name": "stdout",
     "output_type": "stream",
     "text": [
      "observation = [ 2.30091145  0.90983065 -0.56548668  0.01334693  0.03765346]\n"
     ]
    },
    {
     "name": "stderr",
     "output_type": "stream",
     "text": [
      "\r",
      " 68%|███████████████████████████████████████████████████████▊                          | 34/50 [05:41<06:10, 23.13s/it]"
     ]
    },
    {
     "name": "stdout",
     "output_type": "stream",
     "text": [
      "observation = [ 3.27974957e+00  1.50830243e+00 -2.57610598e+00  1.48068279e-01\n",
      "  1.39032814e-03]\n"
     ]
    },
    {
     "name": "stderr",
     "output_type": "stream",
     "text": [
      "\r",
      " 70%|█████████████████████████████████████████████████████████▍                        | 35/50 [06:08<06:05, 24.39s/it]"
     ]
    },
    {
     "name": "stdout",
     "output_type": "stream",
     "text": [
      "observation = [3.93458024 2.42863766 2.0106193  0.0106611  0.05423971]\n"
     ]
    },
    {
     "name": "stderr",
     "output_type": "stream",
     "text": [
      "\r",
      " 72%|███████████████████████████████████████████████████████████                       | 36/50 [06:37<06:00, 25.74s/it]"
     ]
    },
    {
     "name": "stdout",
     "output_type": "stream",
     "text": [
      "observation = [3.84759092 1.68020116 1.28805299 0.01086196 0.04917914]\n"
     ]
    },
    {
     "name": "stderr",
     "output_type": "stream",
     "text": [
      "\r",
      " 74%|████████████████████████████████████████████████████████████▋                     | 37/50 [07:07<05:53, 27.22s/it]"
     ]
    },
    {
     "name": "stdout",
     "output_type": "stream",
     "text": [
      "observation = [ 3.35255885e+00  2.25007546e+00 -1.19380521e+00  6.50678215e-04\n",
      "  2.51600051e-02]\n"
     ]
    },
    {
     "name": "stderr",
     "output_type": "stream",
     "text": [
      "\r",
      " 76%|██████████████████████████████████████████████████████████████▎                   | 38/50 [07:40<05:45, 28.77s/it]"
     ]
    },
    {
     "name": "stdout",
     "output_type": "stream",
     "text": [
      "observation = [1.89813852e+00 1.88073451e+00 1.79070781e+00 1.88376035e-04\n",
      " 5.11591842e-02]\n"
     ]
    },
    {
     "name": "stderr",
     "output_type": "stream",
     "text": [
      "\r",
      " 78%|███████████████████████████████████████████████████████████████▉                  | 39/50 [08:14<05:35, 30.47s/it]"
     ]
    },
    {
     "name": "stdout",
     "output_type": "stream",
     "text": [
      "observation = [4.31480031e+00 2.46250115e+00 1.94778745e+00 1.33446704e-03\n",
      " 4.59585726e-02]\n"
     ]
    },
    {
     "name": "stderr",
     "output_type": "stream",
     "text": [
      "\r",
      " 80%|█████████████████████████████████████████████████████████████████▌                | 40/50 [08:54<05:31, 33.16s/it]"
     ]
    },
    {
     "name": "stdout",
     "output_type": "stream",
     "text": [
      "observation = [ 4.06373738e+00 -1.48884771e+00  7.22566310e-01  4.19651757e-02\n",
      "  1.24211188e-03]\n"
     ]
    },
    {
     "name": "stderr",
     "output_type": "stream",
     "text": [
      "\r",
      " 82%|███████████████████████████████████████████████████████████████████▏              | 41/50 [09:37<05:24, 36.08s/it]"
     ]
    },
    {
     "name": "stdout",
     "output_type": "stream",
     "text": [
      "observation = [ 2.79576073  0.43771042 -0.18849556  0.01788642  0.02714918]\n"
     ]
    },
    {
     "name": "stderr",
     "output_type": "stream",
     "text": [
      "\r",
      " 84%|████████████████████████████████████████████████████████████████████▉             | 42/50 [10:17<04:59, 37.38s/it]"
     ]
    },
    {
     "name": "stdout",
     "output_type": "stream",
     "text": [
      "observation = [3.30815065e+00 2.07143089e+00 1.53938040e+00 3.23198695e-03\n",
      " 5.55071870e-02]\n"
     ]
    },
    {
     "name": "stderr",
     "output_type": "stream",
     "text": [
      "\r",
      " 86%|██████████████████████████████████████████████████████████████████████▌           | 43/50 [10:59<04:32, 38.89s/it]"
     ]
    },
    {
     "name": "stdout",
     "output_type": "stream",
     "text": [
      "observation = [3.26217239 1.08136537 0.28274334 0.008342   0.03304195]\n"
     ]
    },
    {
     "name": "stderr",
     "output_type": "stream",
     "text": [
      "\r",
      " 88%|████████████████████████████████████████████████████████████████████████▏         | 44/50 [11:44<04:03, 40.63s/it]"
     ]
    },
    {
     "name": "stdout",
     "output_type": "stream",
     "text": [
      "observation = [3.27744531 2.01453964 1.72787596 0.00375621 0.05953216]\n"
     ]
    },
    {
     "name": "stderr",
     "output_type": "stream",
     "text": [
      "\r",
      " 90%|█████████████████████████████████████████████████████████████████████████▊        | 45/50 [12:31<03:32, 42.54s/it]"
     ]
    },
    {
     "name": "stdout",
     "output_type": "stream",
     "text": [
      "observation = [ 2.23513539  2.43432706 -2.136283    0.11008101  0.02131768]\n"
     ]
    },
    {
     "name": "stderr",
     "output_type": "stream",
     "text": [
      "\r",
      " 92%|███████████████████████████████████████████████████████████████████████████▍      | 46/50 [13:21<02:58, 44.67s/it]"
     ]
    },
    {
     "name": "stdout",
     "output_type": "stream",
     "text": [
      "observation = [3.54906873 1.58459405 0.9424778  0.00752414 0.04330063]\n"
     ]
    },
    {
     "name": "stderr",
     "output_type": "stream",
     "text": [
      "\r",
      " 94%|█████████████████████████████████████████████████████████████████████████████     | 47/50 [14:13<02:20, 46.84s/it]"
     ]
    },
    {
     "name": "stdout",
     "output_type": "stream",
     "text": [
      "observation = [3.96964859 1.83641042 1.41371669 0.00584596 0.04350143]\n"
     ]
    },
    {
     "name": "stderr",
     "output_type": "stream",
     "text": [
      "\r",
      " 96%|██████████████████████████████████████████████████████████████████████████████▋   | 48/50 [15:08<01:38, 49.43s/it]"
     ]
    },
    {
     "name": "stdout",
     "output_type": "stream",
     "text": [
      "observation = [3.33432855 1.2873063  0.50265482 0.01086692 0.04388538]\n"
     ]
    },
    {
     "name": "stderr",
     "output_type": "stream",
     "text": [
      "\r",
      " 98%|████████████████████████████████████████████████████████████████████████████████▎ | 49/50 [16:05<00:51, 51.62s/it]"
     ]
    },
    {
     "name": "stdout",
     "output_type": "stream",
     "text": [
      "observation = [3.24964943e+00 1.81038628e+00 9.73893723e-01 1.80038395e-03\n",
      " 3.48296594e-02]\n"
     ]
    },
    {
     "name": "stderr",
     "output_type": "stream",
     "text": [
      "100%|██████████████████████████████████████████████████████████████████████████████████| 50/50 [17:05<00:00, 20.51s/it]"
     ]
    },
    {
     "name": "stdout",
     "output_type": "stream",
     "text": [
      "observation = [4.35821393 0.57895224 0.75398224 0.03487808 0.02969003]\n"
     ]
    },
    {
     "name": "stderr",
     "output_type": "stream",
     "text": [
      "\n"
     ]
    }
   ],
   "source": [
    "num_iter=50\n",
    "\n",
    "position_result=[]\n",
    "observation_result=[]\n",
    "gpr_list=[]\n",
    "\n",
    "best_r=-10000\n",
    "best_obs=[]\n",
    "\n",
    "for iterr in tqdm(range(num_iter)):\n",
    "    #initialize\n",
    "    position=np.array([[-2,-2,0],[-2,-2,0],[-2,-2,0],[-2,-2,0],[-2,-2,0]])\n",
    "    observation=observe(position)\n",
    "    u_t=[]\n",
    "    observation_t=[observation]\n",
    "    \n",
    "    for time in range(N+1):\n",
    "        if iterr==0:\n",
    "            candidates_u=[]\n",
    "            u_k, _ = decide_u(observation,candidates_u,init=True)\n",
    "            position_new = next_step(position,action_set[u_k])\n",
    "            observation_new = observe(position_new)\n",
    "            r = reward(observation_new)\n",
    "            \n",
    "            if flags[u_k]:\n",
    "                history_su[u_k] = observation.reshape(-1,5)\n",
    "                history_r[u_k] = np.array([r])\n",
    "                flags[u_k]=False\n",
    "            else:\n",
    "                history_su[u_k] = np.concatenate((history_su[u_k], observation.reshape(-1,5)))\n",
    "                history_r[u_k] = np.concatenate((history_r[u_k],np.array([r])))\n",
    "            \n",
    "            observation=observation_new\n",
    "            position=position_new\n",
    "            u_t.append(u_k)\n",
    "            observation_t.append(observation)\n",
    "            \n",
    "            \n",
    "        else:            \n",
    "            candidates_u=[]\n",
    "            for i in range(6):\n",
    "                cand, _ = gpr_list[i].predict(observation.reshape(-1,5), return_std=True)\n",
    "                candidates_u.append(cand[0])\n",
    "            #print(candidates_u)\n",
    "            u_k, explo = decide_u(observation,np.array(candidates_u))\n",
    "            position_new = next_step(position,action_set[u_k])\n",
    "            observation_new = observe(position_new)\n",
    "            r = reward(observation_new)\n",
    "            if explo:\n",
    "                history_su[u_k] = np.concatenate((history_su[u_k], observation.reshape(-1,5)))\n",
    "                history_r[u_k] = np.concatenate((history_r[u_k],np.array([r])))\n",
    "            else:\n",
    "                a=np.random.uniform()\n",
    "                if a<0.25:\n",
    "                    history_su[u_k] = np.concatenate((history_su[u_k], observation.reshape(-1,5)))\n",
    "                    history_r[u_k] = np.concatenate((history_r[u_k],np.array([r])))\n",
    "            \n",
    "            observation=observation_new\n",
    "            position=position_new\n",
    "            u_t.append(u_k)\n",
    "            observation_t.append(observation)\n",
    "            \n",
    "            if time%((N+1)//3+1)==0:\n",
    "                for i in range(6):\n",
    "                    gpr_list[i]=GaussianProcessRegressor(alpha=1e-8).fit(history_su[i], history_r[i].reshape(-1,1))\n",
    "            \n",
    "            \n",
    "            if abs(r)<0.03:\n",
    "                break\n",
    "            \n",
    "\n",
    "    if iterr==0:\n",
    "        for i in range(6):\n",
    "            gpr_list.append(GaussianProcessRegressor(alpha=1e-4).fit(history_su[i], history_r[i].reshape(-1,1)))\n",
    "    else:\n",
    "        for i in range(6):\n",
    "            gpr_list[i]=GaussianProcessRegressor(alpha=1e-4).fit(history_su[i], history_r[i].reshape(-1,1))\n",
    "    print(\"observation =\",observation)\n",
    "    #print(observation_t)\n",
    "    position_result.append(position)\n",
    "    observation_result.append(observation)\n",
    "    if r>best_r:\n",
    "        best_r=r\n",
    "        best_obs=observation_t\n",
    "    \n",
    "    #print(history_su.shape)\n",
    "    #print(u_t)"
   ]
  },
  {
   "cell_type": "markdown",
   "id": "279315d1",
   "metadata": {},
   "source": [
    "# Results"
   ]
  },
  {
   "cell_type": "code",
   "execution_count": 17,
   "id": "b553f371",
   "metadata": {
    "scrolled": true
   },
   "outputs": [
    {
     "data": {
      "image/png": "[encoded data removed]",
      "text/plain": [
       "<Figure size 640x480 with 1 Axes>"
      ]
     },
     "metadata": {},
     "output_type": "display_data"
    }
   ],
   "source": [
    "x = np.linspace(0, T, N+1)\n",
    "plt.plot(x, u_t)\n",
    "plt.xlabel('t')\n",
    "plt.ylabel('u(t)')\n",
    "plt.title(\"u(t) vs time\")\n",
    "plt.grid()\n",
    "plt.show()"
   ]
  },
  {
   "cell_type": "markdown",
   "id": "0f175b0d",
   "metadata": {},
   "source": [
    "## Last Trajectory\n"
   ]
  },
  {
   "cell_type": "code",
   "execution_count": 18,
   "id": "1f8fbeab",
   "metadata": {},
   "outputs": [
    {
     "data": {
      "image/png": "[encoded data removed]",
      "text/plain": [
       "<Figure size 640x480 with 1 Axes>"
      ]
     },
     "metadata": {},
     "output_type": "display_data"
    }
   ],
   "source": [
    "obs=np.array(observation_t)\n",
    "obs=obs[:,[0,1]]\n",
    "plt.plot(obs[:,0],obs[:,1])\n",
    "plt.show()"
   ]
  },
  {
   "cell_type": "markdown",
   "id": "43d797bf",
   "metadata": {},
   "source": [
    "## Best Trajectory"
   ]
  },
  {
   "cell_type": "code",
   "execution_count": 19,
   "id": "bd99ebe4",
   "metadata": {},
   "outputs": [
    {
     "data": {
      "image/png": "[encoded data removed]",
      "text/plain": [
       "<Figure size 640x480 with 1 Axes>"
      ]
     },
     "metadata": {},
     "output_type": "display_data"
    }
   ],
   "source": [
    "obs=np.array(best_obs)\n",
    "obs=obs[:,[0,1]]\n",
    "plt.plot(obs[:,0],obs[:,1])\n",
    "plt.show()"
   ]
  },
  {
   "cell_type": "markdown",
   "id": "010a19b7",
   "metadata": {},
   "source": [
    "## Pure Exploitation Trajectory"
   ]
  },
  {
   "cell_type": "code",
   "execution_count": 20,
   "id": "1d1e02bb",
   "metadata": {
    "scrolled": false
   },
   "outputs": [
    {
     "data": {
      "image/png": "[encoded data removed]",
      "text/plain": [
       "<Figure size 640x480 with 1 Axes>"
      ]
     },
     "metadata": {},
     "output_type": "display_data"
    }
   ],
   "source": [
    "position=np.array([[-2,-2,0],[-2,-2,0],[-2,-2,0],[-2,-2,0],[-2,-2,0]])\n",
    "observation=observe(position)\n",
    "u_t=[]\n",
    "observation_t=[observation]\n",
    "\n",
    "for time in range(N+1):           \n",
    "    candidates_u=[]\n",
    "    for i in range(6):\n",
    "        cand, _ = gpr_list[i].predict(observation.reshape(-1,5), return_std=True)\n",
    "        candidates_u.append(cand[0])\n",
    "    #print(candidates_u)\n",
    "    u_k = decide_u_exploitation(observation,np.array(candidates_u))\n",
    "    position_new = next_step(position,action_set[u_k])\n",
    "    observation_new = observe(position_new)\n",
    "    r = reward(observation_new)\n",
    "    '''\n",
    "    if explo:\n",
    "        history_su[u_k] = np.concatenate((history_su[u_k], observation.reshape(-1,5)))\n",
    "        history_r[u_k] = np.concatenate((history_r[u_k],np.array([r])))\n",
    "    '''\n",
    "    observation=observation_new\n",
    "    position=position_new\n",
    "    u_t.append(u_k)\n",
    "    observation_t.append(observation)\n",
    "    '''\n",
    "    if time%((N+1)//3+1)==0:\n",
    "        for i in range(6):\n",
    "            gpr_list[i]=GaussianProcessRegressor(alpha=1e-8).fit(history_su[i], history_r[i].reshape(-1,1))\n",
    "    '''\n",
    "    \n",
    "obs=np.array(observation_t)\n",
    "obs=obs[:,[0,1]]\n",
    "plt.plot(obs[:,0],obs[:,1])\n",
    "plt.show()"
   ]
  },
  {
   "cell_type": "code",
   "execution_count": 24,
   "id": "d6a9c85a",
   "metadata": {},
   "outputs": [
    {
     "name": "stdout",
     "output_type": "stream",
     "text": [
      "[3.21263579 2.00644729 1.79070781 0.00491735 0.06337151]\n"
     ]
    }
   ],
   "source": [
    "print(observation_t[-1])"
   ]
  },
  {
   "cell_type": "code",
   "execution_count": null,
   "id": "4c2a97b9",
   "metadata": {},
   "outputs": [],
   "source": []
  }
 ],
 "metadata": {
  "kernelspec": {
   "display_name": "Python 3 (ipykernel)",
   "language": "python",
   "name": "python3"
  },
  "language_info": {
   "codemirror_mode": {
    "name": "ipython",
    "version": 3
   },
   "file_extension": ".py",
   "mimetype": "text/x-python",
   "name": "python",
   "nbconvert_exporter": "python",
   "pygments_lexer": "ipython3",
   "version": "3.10.9"
  }
 },
 "nbformat": 4,
 "nbformat_minor": 5
}
