{
 "cells": [
  {
   "cell_type": "markdown",
   "id": "2223db94",
   "metadata": {},
   "source": [
    "$V(x)=\\sum_{t=0}^\\infty \\gamma^t R(x(t))$ \\\n",
    "where  $R(x)=Constant-\\|x-x_{goal}\\|-Variance>0$ \\\n",
    "and $\\gamma=0.5$"
   ]
  },
  {
   "cell_type": "markdown",
   "id": "d833b055",
   "metadata": {},
   "source": [
    "# Create Environment"
   ]
  },
  {
   "cell_type": "code",
   "execution_count": 1,
   "id": "65a2669a",
   "metadata": {},
   "outputs": [],
   "source": [
    "import numpy as np\n",
    "import matplotlib.pylab as plt\n",
    "from sklearn.gaussian_process import GaussianProcessRegressor\n",
    "from tqdm import tqdm\n",
    "\n",
    "global N\n",
    "\n",
    "N=50\n",
    "\n",
    "global M\n",
    "M=10\n",
    "\n",
    "global T\n",
    "global target\n",
    "T=15\n",
    "target=np.array([3,2])\n",
    "global w\n",
    "w=np.pi*2/23.7\n",
    "\n",
    "global delta_t\n",
    "delta_t=T/N\n",
    "\n",
    "global beta\n",
    "beta=[0.95,0.975,1,1.025,1.05]\n",
    "\n",
    "global num_system\n",
    "num_system=5"
   ]
  },
  {
   "cell_type": "code",
   "execution_count": 2,
   "id": "bd2938cf",
   "metadata": {},
   "outputs": [
    {
     "data": {
      "text/plain": [
       "\"\\nx = np.linspace(0, 6.5, 1001)\\nplt.plot(x, Z(x))\\nplt.xlabel('Angle [rad]')\\nplt.ylabel('Z(theta)')\\nplt.grid()\\nplt.show()\\n\""
      ]
     },
     "execution_count": 2,
     "metadata": {},
     "output_type": "execute_result"
    }
   ],
   "source": [
    "def Z(vecs, u, v):\n",
    "    output=[]\n",
    "    for i in range(num_system):\n",
    "        vec=vecs[i]\n",
    "        x=vec[0]\n",
    "        y=vec[1]\n",
    "        theta=vec[2]\n",
    "        output.append([beta[i]*np.cos(theta)*u,beta[i]*np.sin(theta)*u,beta[i]*v])\n",
    "    return np.array(output)\n",
    "\n",
    "#check the correctness of Z\n",
    "'''\n",
    "x = np.linspace(0, 6.5, 1001)\n",
    "plt.plot(x, Z(x))\n",
    "plt.xlabel('Angle [rad]')\n",
    "plt.ylabel('Z(theta)')\n",
    "plt.grid()\n",
    "plt.show()\n",
    "'''"
   ]
  },
  {
   "cell_type": "code",
   "execution_count": 3,
   "id": "b5291895",
   "metadata": {},
   "outputs": [],
   "source": [
    "def next_step(vecs,action):  \n",
    "    u=action[0]\n",
    "    v=action[1]\n",
    "   \n",
    "    for j in range(M):\n",
    "        vecs_new=[]\n",
    "        diff=Z(vecs,u,v)\n",
    "        for i in range(num_system):\n",
    "            w=vecs[i]+delta_t/M*diff[i]\n",
    "            '''\n",
    "            if w[2]>np.pi:\n",
    "                w[2]-=2*np.pi\n",
    "            if w[2]<-np.pi:\n",
    "                w[2]+=2*np.pi\n",
    "            '''\n",
    "            vecs_new.append(w)\n",
    "        vecs=np.array(vecs_new)\n",
    "    return vecs\n",
    "\n",
    "def observe(vecs):\n",
    "    mu_x=0\n",
    "    mu_y=0\n",
    "    mu_theta=0\n",
    "    var_x=0\n",
    "    var_y=0\n",
    "    for i in range(num_system):\n",
    "        mu_x+=vecs[i][0]\n",
    "        mu_y+=vecs[i][1]\n",
    "        mu_theta+=vecs[i][2]\n",
    "        var_x+=vecs[i][0]**2\n",
    "        var_y+=vecs[i][1]**2\n",
    "    var_x-=mu_x**2/num_system\n",
    "    var_y-=mu_y**2/num_system\n",
    "    \n",
    "    w=np.array([mu_x,mu_y,mu_theta,var_x,var_y])/num_system\n",
    "    '''\n",
    "    if w[2]>np.pi:\n",
    "        w[2]-=2*np.pi\n",
    "    if w[2]<-np.pi:\n",
    "        w[2]+=2*np.pi\n",
    "    '''\n",
    "    return w\n",
    "\n",
    "def reward(obs):\n",
    "    return max(100-(obs[0]-target[0])**2-(obs[1]-target[1])**2-obs[3]-obs[4],0)\n",
    "\n",
    "def reward_raw(position):\n",
    "    r=0\n",
    "    for i in range(num_system):\n",
    "        r+=np.linalg.norm(position[i,[0,1]]-target)\n",
    "    return r\n",
    "\n"
   ]
  },
  {
   "cell_type": "markdown",
   "id": "15ed433b",
   "metadata": {},
   "source": [
    "# Learning Settings"
   ]
  },
  {
   "cell_type": "code",
   "execution_count": 4,
   "id": "95e62df6",
   "metadata": {},
   "outputs": [],
   "source": [
    "global lr\n",
    "lr=0.7\n",
    "global eps\n",
    "eps=0.1\n",
    "global max_u\n",
    "max_u=2\n",
    "global precision\n",
    "precision=0.0002\n",
    "global action_set\n",
    "action_set=np.array([[1,np.pi/4],[-1,np.pi/4],[1,0],[-1,0],[1,-np.pi/4],[-1,-np.pi/4]])\n",
    "\n",
    "def exploration():\n",
    "    a=np.random.uniform()\n",
    "    if a<eps:\n",
    "        return True\n",
    "    else:\n",
    "        return False\n",
    "\n",
    "def find_max(cand):\n",
    "    return np.argmax(cand)\n",
    "    \n",
    "def decide_u(theta,cand,std,init=False):\n",
    "    explo=exploration()\n",
    "    #print(\"cand\",cand.shape)\n",
    "    #print(\"std\",std.shape)\n",
    "    if init:\n",
    "        return(np.random.randint(6)), True\n",
    "    elif explo:\n",
    "        return(find_max(std)), True\n",
    "    else:\n",
    "        return(find_max(cand)), False\n",
    "    \n",
    "def generate_history_pred(gp_list,history):\n",
    "    cand=[]\n",
    "    for j in range(len(gp_list)):\n",
    "        pred=gp_list[j].predict(history.reshape(-1,5), return_std=False).reshape(-1,1)\n",
    "        if j==0:\n",
    "            cand=pred\n",
    "        else:\n",
    "            cand=np.concatenate((cand,pred),axis=1)\n",
    "    output=[]\n",
    "    for j in range(history.shape[0]):\n",
    "        output.append([np.max(cand[j])])\n",
    "    return np.array(output)\n",
    "        \n",
    "    \n",
    "def decide_u_exploitation(theta,cand,init=False):\n",
    "    return find_max(cand)\n",
    "\n",
    "\n",
    "def trainingset_refine(history_su,history_su_next, history_r, num=1000):\n",
    "    if history_su.shape[0]<num:\n",
    "        return history_su, history_su_next, history_r\n",
    "    else:\n",
    "        history_su=history_su[-num:-1]\n",
    "        history_su_next=history_su_next[-num:-1]\n",
    "        history_r=history_r[-num:-1]\n",
    "        return history_su,history_su_next,history_r\n",
    "\n",
    "\n",
    "history_su=[0 for i in range(6)]\n",
    "history_r=[0 for i in range(6)]\n",
    "history_su_next=[0 for i in range(6)]\n",
    "flags=[True for i in range(6)]"
   ]
  },
  {
   "cell_type": "markdown",
   "id": "c5f09d42",
   "metadata": {},
   "source": [
    "# Simulation\n"
   ]
  },
  {
   "cell_type": "code",
   "execution_count": 5,
   "id": "53aa277f",
   "metadata": {
    "scrolled": true
   },
   "outputs": [
    {
     "name": "stderr",
     "output_type": "stream",
     "text": [
      "\r",
      "  0%|                                                                                          | 0/100 [00:00<?, ?it/s]"
     ]
    },
    {
     "name": "stdout",
     "output_type": "stream",
     "text": [
      "observation = [-4.01818392e+00 -1.52383389e+00  1.17809725e+00  1.08706173e-02\n",
      "  4.16517300e-04]\n",
      "observation = [-1.25998102e+00 -1.82262263e+00 -7.06858347e-01  2.27108706e-04\n",
      "  1.39845175e-04]\n"
     ]
    },
    {
     "name": "stderr",
     "output_type": "stream",
     "text": [
      "  4%|███▎                                                                              | 4/100 [00:00<00:14,  6.86it/s]"
     ]
    },
    {
     "name": "stdout",
     "output_type": "stream",
     "text": [
      "observation = [-1.07851967e+00 -1.93816455e+00 -2.35619449e-01  1.15925961e-03\n",
      "  1.59465516e-05]\n",
      "observation = [ 0.67148585 -2.57223294 -5.18362788  0.01244397  0.06711628]\n"
     ]
    },
    {
     "name": "stderr",
     "output_type": "stream",
     "text": [
      "  6%|████▉                                                                             | 6/100 [00:00<00:15,  6.13it/s]"
     ]
    },
    {
     "name": "stdout",
     "output_type": "stream",
     "text": [
      "observation = [-3.84392299  0.09835899 -5.18362788  0.02622387  0.12886309]\n",
      "observation = [-4.91572743e-01 -2.28551917e+00 -2.35619449e-01  2.88465348e-03\n",
      "  4.42972255e-04]\n"
     ]
    },
    {
     "name": "stderr",
     "output_type": "stream",
     "text": [
      "  8%|██████▌                                                                           | 8/100 [00:01<00:15,  5.95it/s]"
     ]
    },
    {
     "name": "stdout",
     "output_type": "stream",
     "text": [
      "observation = [-5.58577602e-01 -2.46639064e+00 -4.71238898e-01  2.19732622e-03\n",
      "  1.04941144e-03]\n",
      "observation = [-5.82019956e-01 -2.15866704e+00 -4.71238898e-01  1.98809806e-03\n",
      "  9.91510230e-05]\n"
     ]
    },
    {
     "name": "stderr",
     "output_type": "stream",
     "text": [
      "\r",
      "  9%|███████▍                                                                          | 9/100 [00:01<00:15,  5.87it/s]"
     ]
    },
    {
     "name": "stdout",
     "output_type": "stream",
     "text": [
      "observation = [ 6.90296103e-02 -2.16454780e+00 -2.35619449e-01  5.03856053e-03\n",
      "  1.32214634e-04]\n",
      "observation = [ 0.53469672 -0.04587623 -8.71791961  0.28743784  0.05093164]\n"
     ]
    },
    {
     "name": "stderr",
     "output_type": "stream",
     "text": [
      " 11%|████████▉                                                                        | 11/100 [00:01<00:15,  5.61it/s]"
     ]
    },
    {
     "name": "stdout",
     "output_type": "stream",
     "text": [
      "observation = [ 0.14428721 -2.42767072 -7.06858347  0.01464588  0.03882596]\n",
      "observation = [ 8.45125684e-02 -1.98152855e+00  2.35619449e-01  5.26966978e-03\n",
      "  1.84529705e-06]\n"
     ]
    },
    {
     "name": "stderr",
     "output_type": "stream",
     "text": [
      " 14%|███████████▎                                                                     | 14/100 [00:02<00:17,  4.87it/s]"
     ]
    },
    {
     "name": "stdout",
     "output_type": "stream",
     "text": [
      "observation = [ 8.00846617e-02 -2.23563978e+00 -2.35619449e-01  5.20525950e-03\n",
      "  2.73632907e-04]\n",
      "observation = [ 1.64612498e-01 -1.17909119e+00 -1.64933614e+00  1.34337533e-02\n",
      "  1.41020170e-03]\n"
     ]
    },
    {
     "name": "stderr",
     "output_type": "stream",
     "text": [
      " 16%|████████████▉                                                                    | 16/100 [00:02<00:15,  5.51it/s]"
     ]
    },
    {
     "name": "stdout",
     "output_type": "stream",
     "text": [
      "observation = [ 1.0517879   1.21487201 -1.88495559  0.08816398  0.00439591]\n",
      "observation = [ 8.75382251e-01  6.52026434e-02 -2.59181394e+00  4.91970839e-02\n",
      "  1.85983315e-03]\n"
     ]
    },
    {
     "name": "stderr",
     "output_type": "stream",
     "text": [
      " 18%|██████████████▌                                                                  | 18/100 [00:03<00:15,  5.26it/s]"
     ]
    },
    {
     "name": "stdout",
     "output_type": "stream",
     "text": [
      "observation = [ 6.63578383e-01 -1.67264112e+00  2.35619449e-01  8.39287283e-03\n",
      "  5.28948761e-04]\n",
      "observation = [ 6.85550859e-01 -1.65617792e+00  2.35619449e-01  8.81948313e-03\n",
      "  5.91563508e-04]\n"
     ]
    },
    {
     "name": "stderr",
     "output_type": "stream",
     "text": [
      " 20%|████████████████▏                                                                | 20/100 [00:03<00:15,  5.12it/s]"
     ]
    },
    {
     "name": "stdout",
     "output_type": "stream",
     "text": [
      "observation = [ 6.32403944e-01 -1.45649559e+00  7.06858347e-01  7.79983645e-03\n",
      "  1.44668423e-03]\n",
      "observation = [ 0.6196745  -1.43830951  0.4712389   0.00758585  0.00151177]\n"
     ]
    },
    {
     "name": "stderr",
     "output_type": "stream",
     "text": [
      "\r",
      " 21%|█████████████████                                                                | 21/100 [00:03<00:15,  5.01it/s]"
     ]
    },
    {
     "name": "stdout",
     "output_type": "stream",
     "text": [
      "observation = [ 1.06304394 -0.97621614  0.23561945  0.00846848  0.00482454]\n"
     ]
    },
    {
     "name": "stderr",
     "output_type": "stream",
     "text": [
      "\r",
      " 22%|█████████████████▊                                                               | 22/100 [00:04<00:15,  4.93it/s]"
     ]
    },
    {
     "name": "stdout",
     "output_type": "stream",
     "text": [
      "observation = [ 1.25347138 -1.28662001  0.9424778   0.01236341  0.00266675]\n"
     ]
    },
    {
     "name": "stderr",
     "output_type": "stream",
     "text": [
      "\r",
      " 23%|██████████████████▋                                                              | 23/100 [00:04<00:15,  4.85it/s]"
     ]
    },
    {
     "name": "stdout",
     "output_type": "stream",
     "text": [
      "observation = [ 1.2012102  -1.2862873   0.4712389   0.01128804  0.00248334]\n"
     ]
    },
    {
     "name": "stderr",
     "output_type": "stream",
     "text": [
      "\r",
      " 24%|███████████████████▍                                                             | 24/100 [00:04<00:15,  4.81it/s]"
     ]
    },
    {
     "name": "stdout",
     "output_type": "stream",
     "text": [
      "observation = [ 1.56691333 -0.00872686  1.64933614  0.00488259  0.01341277]\n",
      "observation = [ 1.6768359  -0.17731726  1.64933614  0.00639782  0.01154355]\n"
     ]
    },
    {
     "name": "stderr",
     "output_type": "stream",
     "text": [
      " 26%|█████████████████████                                                            | 26/100 [00:04<00:15,  4.79it/s]"
     ]
    },
    {
     "name": "stdout",
     "output_type": "stream",
     "text": [
      "observation = [ 2.13499938 -0.46267911  1.17809725  0.015019    0.01057396]\n"
     ]
    },
    {
     "name": "stderr",
     "output_type": "stream",
     "text": [
      "\r",
      " 27%|█████████████████████▊                                                           | 27/100 [00:05<00:15,  4.78it/s]"
     ]
    },
    {
     "name": "stdout",
     "output_type": "stream",
     "text": [
      "observation = [ 1.76862448 -0.04706269  1.41371669  0.00752548  0.01486274]\n",
      "observation = [ 1.58580235 -0.04217643  1.64933614  0.00544896  0.01259009]\n"
     ]
    },
    {
     "name": "stderr",
     "output_type": "stream",
     "text": [
      " 30%|████████████████████████▎                                                        | 30/100 [00:05<00:14,  4.83it/s]"
     ]
    },
    {
     "name": "stdout",
     "output_type": "stream",
     "text": [
      "observation = [ 0.87471356 -0.15245501  1.17809725  0.00167677  0.01010644]\n",
      "observation = [ 1.1380392  -0.33104619  2.59181394  0.0038725   0.00953945]\n"
     ]
    },
    {
     "name": "stderr",
     "output_type": "stream",
     "text": [
      "\r",
      " 31%|█████████████████████████                                                        | 31/100 [00:05<00:14,  4.90it/s]"
     ]
    },
    {
     "name": "stdout",
     "output_type": "stream",
     "text": [
      "observation = [1.95463627 0.59850504 1.64933614 0.00435618 0.02493582]\n"
     ]
    },
    {
     "name": "stderr",
     "output_type": "stream",
     "text": [
      "\r",
      " 32%|█████████████████████████▉                                                       | 32/100 [00:06<00:16,  4.12it/s]"
     ]
    },
    {
     "name": "stdout",
     "output_type": "stream",
     "text": [
      "observation = [1.87121543 0.51890448 1.64933614 0.003601   0.02140094]\n"
     ]
    },
    {
     "name": "stderr",
     "output_type": "stream",
     "text": [
      "\r",
      " 33%|██████████████████████████▋                                                      | 33/100 [00:06<00:15,  4.25it/s]"
     ]
    },
    {
     "name": "stdout",
     "output_type": "stream",
     "text": [
      "observation = [2.23628923 0.32858009 1.41371669 0.00873645 0.02163718]\n"
     ]
    },
    {
     "name": "stderr",
     "output_type": "stream",
     "text": [
      "\r",
      " 34%|███████████████████████████▌                                                     | 34/100 [00:06<00:15,  4.24it/s]"
     ]
    },
    {
     "name": "stdout",
     "output_type": "stream",
     "text": [
      "observation = [2.31890977 0.93614512 1.41371669 0.00439895 0.03008077]\n"
     ]
    },
    {
     "name": "stderr",
     "output_type": "stream",
     "text": [
      "\r",
      " 35%|████████████████████████████▎                                                    | 35/100 [00:06<00:15,  4.17it/s]"
     ]
    },
    {
     "name": "stdout",
     "output_type": "stream",
     "text": [
      "observation = [2.29433955 0.34247705 1.64933614 0.00965973 0.02274125]\n"
     ]
    },
    {
     "name": "stderr",
     "output_type": "stream",
     "text": [
      "\r",
      " 36%|█████████████████████████████▏                                                   | 36/100 [00:07<00:15,  4.11it/s]"
     ]
    },
    {
     "name": "stdout",
     "output_type": "stream",
     "text": [
      "observation = [1.46062469 0.22599382 1.17809725 0.00329299 0.01731746]\n"
     ]
    },
    {
     "name": "stderr",
     "output_type": "stream",
     "text": [
      "\r",
      " 37%|█████████████████████████████▉                                                   | 37/100 [00:07<00:16,  3.92it/s]"
     ]
    },
    {
     "name": "stdout",
     "output_type": "stream",
     "text": [
      "observation = [1.11693322e+00 4.62964716e-01 7.06858347e-01 7.45293351e-04\n",
      " 1.81658055e-02]\n"
     ]
    },
    {
     "name": "stderr",
     "output_type": "stream",
     "text": [
      "\r",
      " 38%|██████████████████████████████▊                                                  | 38/100 [00:07<00:15,  3.95it/s]"
     ]
    },
    {
     "name": "stdout",
     "output_type": "stream",
     "text": [
      "observation = [1.96767105 0.66035281 1.41371669 0.00464358 0.02639259]\n"
     ]
    },
    {
     "name": "stderr",
     "output_type": "stream",
     "text": [
      "\r",
      " 39%|███████████████████████████████▌                                                 | 39/100 [00:07<00:15,  3.84it/s]"
     ]
    },
    {
     "name": "stdout",
     "output_type": "stream",
     "text": [
      "observation = [2.50485124 0.86840792 1.41371669 0.00694804 0.03082395]\n"
     ]
    },
    {
     "name": "stderr",
     "output_type": "stream",
     "text": [
      "\r",
      " 40%|████████████████████████████████▍                                                | 40/100 [00:08<00:15,  3.76it/s]"
     ]
    },
    {
     "name": "stdout",
     "output_type": "stream",
     "text": [
      "observation = [2.18499345 0.61026696 1.41371669 0.00748123 0.02848392]\n"
     ]
    },
    {
     "name": "stderr",
     "output_type": "stream",
     "text": [
      "\r",
      " 41%|█████████████████████████████████▏                                               | 41/100 [00:08<00:15,  3.72it/s]"
     ]
    },
    {
     "name": "stdout",
     "output_type": "stream",
     "text": [
      "observation = [1.7735215  0.91598285 0.9424778  0.00226053 0.03141718]\n"
     ]
    },
    {
     "name": "stderr",
     "output_type": "stream",
     "text": [
      "\r",
      " 42%|██████████████████████████████████                                               | 42/100 [00:08<00:15,  3.68it/s]"
     ]
    },
    {
     "name": "stdout",
     "output_type": "stream",
     "text": [
      "observation = [1.8757952  0.54599346 1.64933614 0.00392554 0.02164531]\n"
     ]
    },
    {
     "name": "stderr",
     "output_type": "stream",
     "text": [
      "\r",
      " 43%|██████████████████████████████████▊                                              | 43/100 [00:09<00:15,  3.61it/s]"
     ]
    },
    {
     "name": "stdout",
     "output_type": "stream",
     "text": [
      "observation = [2.48179811 0.13590393 1.17809725 0.01365435 0.02000909]\n"
     ]
    },
    {
     "name": "stderr",
     "output_type": "stream",
     "text": [
      "\r",
      " 44%|███████████████████████████████████▋                                             | 44/100 [00:09<00:15,  3.58it/s]"
     ]
    },
    {
     "name": "stdout",
     "output_type": "stream",
     "text": [
      "observation = [1.71454053 0.95630157 1.41371669 0.00183283 0.0312946 ]\n"
     ]
    },
    {
     "name": "stderr",
     "output_type": "stream",
     "text": [
      "\r",
      " 45%|████████████████████████████████████▍                                            | 45/100 [00:09<00:15,  3.56it/s]"
     ]
    },
    {
     "name": "stdout",
     "output_type": "stream",
     "text": [
      "observation = [1.85318207 0.95798232 1.41371669 0.00283461 0.03403124]\n"
     ]
    },
    {
     "name": "stderr",
     "output_type": "stream",
     "text": [
      "\r",
      " 46%|█████████████████████████████████████▎                                           | 46/100 [00:09<00:14,  3.68it/s]"
     ]
    },
    {
     "name": "stdout",
     "output_type": "stream",
     "text": [
      "observation = [1.74454386 0.97220211 1.17809725 0.0020099  0.03237653]\n"
     ]
    },
    {
     "name": "stderr",
     "output_type": "stream",
     "text": [
      "\r",
      " 47%|██████████████████████████████████████                                           | 47/100 [00:10<00:15,  3.37it/s]"
     ]
    },
    {
     "name": "stdout",
     "output_type": "stream",
     "text": [
      "observation = [2.4436018  0.95432347 1.17809725 0.00614775 0.03207204]\n"
     ]
    },
    {
     "name": "stderr",
     "output_type": "stream",
     "text": [
      "\r",
      " 48%|██████████████████████████████████████▉                                          | 48/100 [00:10<00:14,  3.54it/s]"
     ]
    },
    {
     "name": "stdout",
     "output_type": "stream",
     "text": [
      "observation = [2.43352577 1.07872498 1.17809725 0.00573368 0.03610873]\n"
     ]
    },
    {
     "name": "stderr",
     "output_type": "stream",
     "text": [
      "\r",
      " 49%|███████████████████████████████████████▋                                         | 49/100 [00:10<00:14,  3.59it/s]"
     ]
    },
    {
     "name": "stdout",
     "output_type": "stream",
     "text": [
      "observation = [2.35219096 1.34110989 1.41371669 0.00422282 0.04399162]\n"
     ]
    },
    {
     "name": "stderr",
     "output_type": "stream",
     "text": [
      "\r",
      " 50%|████████████████████████████████████████▌                                        | 50/100 [00:11<00:13,  3.71it/s]"
     ]
    },
    {
     "name": "stdout",
     "output_type": "stream",
     "text": [
      "observation = [2.27182614 0.76790218 1.64933614 0.008267   0.03508546]\n"
     ]
    },
    {
     "name": "stderr",
     "output_type": "stream",
     "text": [
      "\r",
      " 51%|█████████████████████████████████████████▎                                       | 51/100 [00:11<00:13,  3.74it/s]"
     ]
    },
    {
     "name": "stdout",
     "output_type": "stream",
     "text": [
      "observation = [2.09143474e+00 1.36805007e+00 1.41371669e+00 1.96124802e-03\n",
      " 3.94537153e-02]\n"
     ]
    },
    {
     "name": "stderr",
     "output_type": "stream",
     "text": [
      "\r",
      " 52%|██████████████████████████████████████████                                       | 52/100 [00:11<00:12,  3.77it/s]"
     ]
    },
    {
     "name": "stdout",
     "output_type": "stream",
     "text": [
      "observation = [2.26613578 1.31641364 1.17809725 0.00343348 0.04121144]\n"
     ]
    },
    {
     "name": "stderr",
     "output_type": "stream",
     "text": [
      "\r",
      " 53%|██████████████████████████████████████████▉                                      | 53/100 [00:11<00:12,  3.79it/s]"
     ]
    },
    {
     "name": "stdout",
     "output_type": "stream",
     "text": [
      "observation = [2.29378986 1.28464253 1.17809725 0.00381387 0.04050335]\n"
     ]
    },
    {
     "name": "stderr",
     "output_type": "stream",
     "text": [
      "\r",
      " 54%|███████████████████████████████████████████▋                                     | 54/100 [00:12<00:12,  3.57it/s]"
     ]
    },
    {
     "name": "stdout",
     "output_type": "stream",
     "text": [
      "observation = [2.17733708 1.38438642 1.17809725 0.00256502 0.04187564]\n"
     ]
    },
    {
     "name": "stderr",
     "output_type": "stream",
     "text": [
      "\r",
      " 55%|████████████████████████████████████████████▌                                    | 55/100 [00:12<00:12,  3.52it/s]"
     ]
    },
    {
     "name": "stdout",
     "output_type": "stream",
     "text": [
      "observation = [2.12490861e+00 1.48177421e+00 9.42477796e-01 2.04142833e-03\n",
      " 4.43513858e-02]\n"
     ]
    },
    {
     "name": "stderr",
     "output_type": "stream",
     "text": [
      "\r",
      " 56%|█████████████████████████████████████████████▎                                   | 56/100 [00:12<00:12,  3.55it/s]"
     ]
    },
    {
     "name": "stdout",
     "output_type": "stream",
     "text": [
      "observation = [2.06737062e+00 1.38297194e+00 9.42477796e-01 1.73410065e-03\n",
      " 3.96278049e-02]\n"
     ]
    },
    {
     "name": "stderr",
     "output_type": "stream",
     "text": [
      "\r",
      " 57%|██████████████████████████████████████████████▏                                  | 57/100 [00:13<00:12,  3.52it/s]"
     ]
    },
    {
     "name": "stdout",
     "output_type": "stream",
     "text": [
      "observation = [2.48526633e+00 1.94301703e+00 1.17809725e+00 1.74200527e-03\n",
      " 5.68562768e-02]\n"
     ]
    },
    {
     "name": "stderr",
     "output_type": "stream",
     "text": [
      "\r",
      " 58%|██████████████████████████████████████████████▉                                  | 58/100 [00:13<00:11,  3.53it/s]"
     ]
    },
    {
     "name": "stdout",
     "output_type": "stream",
     "text": [
      "observation = [2.25148496 1.50922583 1.17809725 0.00299453 0.0483449 ]\n"
     ]
    },
    {
     "name": "stderr",
     "output_type": "stream",
     "text": [
      "\r",
      " 59%|███████████████████████████████████████████████▊                                 | 59/100 [00:13<00:11,  3.44it/s]"
     ]
    },
    {
     "name": "stdout",
     "output_type": "stream",
     "text": [
      "observation = [2.35979563 1.38228047 1.17809725 0.00426996 0.04568426]\n"
     ]
    },
    {
     "name": "stderr",
     "output_type": "stream",
     "text": [
      "\r",
      " 60%|████████████████████████████████████████████████▌                                | 60/100 [00:13<00:11,  3.44it/s]"
     ]
    },
    {
     "name": "stdout",
     "output_type": "stream",
     "text": [
      "observation = [2.59975863 1.35264059 1.41371669 0.0069957  0.05011405]\n"
     ]
    },
    {
     "name": "stderr",
     "output_type": "stream",
     "text": [
      "\r",
      " 61%|█████████████████████████████████████████████████▍                               | 61/100 [00:14<00:13,  2.95it/s]"
     ]
    },
    {
     "name": "stdout",
     "output_type": "stream",
     "text": [
      "observation = [2.76853975 1.69689883 0.70685835 0.00482557 0.05259268]\n"
     ]
    },
    {
     "name": "stderr",
     "output_type": "stream",
     "text": [
      "\r",
      " 62%|██████████████████████████████████████████████████▏                              | 62/100 [00:14<00:12,  2.99it/s]"
     ]
    },
    {
     "name": "stdout",
     "output_type": "stream",
     "text": [
      "observation = [2.70572637 1.82569812 0.9424778  0.00384265 0.05678625]\n"
     ]
    },
    {
     "name": "stderr",
     "output_type": "stream",
     "text": [
      "\r",
      " 63%|███████████████████████████████████████████████████                              | 63/100 [00:14<00:12,  3.04it/s]"
     ]
    },
    {
     "name": "stdout",
     "output_type": "stream",
     "text": [
      "observation = [2.38305576 1.45760072 0.9424778  0.00445493 0.04898023]\n"
     ]
    },
    {
     "name": "stderr",
     "output_type": "stream",
     "text": [
      "\r",
      " 64%|███████████████████████████████████████████████████▊                             | 64/100 [00:15<00:12,  2.98it/s]"
     ]
    },
    {
     "name": "stdout",
     "output_type": "stream",
     "text": [
      "observation = [2.63669807 1.93720356 0.9424778  0.00296071 0.06018451]\n"
     ]
    },
    {
     "name": "stderr",
     "output_type": "stream",
     "text": [
      "\r",
      " 65%|████████████████████████████████████████████████████▋                            | 65/100 [00:15<00:11,  2.97it/s]"
     ]
    },
    {
     "name": "stdout",
     "output_type": "stream",
     "text": [
      "observation = [2.72616767 1.87527388 0.9424778  0.0040058  0.05930105]\n"
     ]
    },
    {
     "name": "stderr",
     "output_type": "stream",
     "text": [
      "\r",
      " 66%|█████████████████████████████████████████████████████▍                           | 66/100 [00:16<00:11,  2.98it/s]"
     ]
    },
    {
     "name": "stdout",
     "output_type": "stream",
     "text": [
      "observation = [2.92001957 1.63835947 1.64933614 0.00670313 0.05392377]\n"
     ]
    },
    {
     "name": "stderr",
     "output_type": "stream",
     "text": [
      "\r",
      " 67%|██████████████████████████████████████████████████████▎                          | 67/100 [00:16<00:11,  2.99it/s]"
     ]
    },
    {
     "name": "stdout",
     "output_type": "stream",
     "text": [
      "observation = [2.79552382 1.88050724 1.17809725 0.00469167 0.06133533]\n"
     ]
    },
    {
     "name": "stderr",
     "output_type": "stream",
     "text": [
      "\r",
      " 68%|███████████████████████████████████████████████████████                          | 68/100 [00:16<00:10,  3.00it/s]"
     ]
    },
    {
     "name": "stdout",
     "output_type": "stream",
     "text": [
      "observation = [2.77499852 1.87481333 1.17809725 0.00446984 0.06049282]\n"
     ]
    },
    {
     "name": "stderr",
     "output_type": "stream",
     "text": [
      "\r",
      " 69%|███████████████████████████████████████████████████████▉                         | 69/100 [00:17<00:10,  2.87it/s]"
     ]
    },
    {
     "name": "stdout",
     "output_type": "stream",
     "text": [
      "observation = [2.71182784 1.94284788 1.17809725 0.00377173 0.06183614]\n"
     ]
    },
    {
     "name": "stderr",
     "output_type": "stream",
     "text": [
      "\r",
      " 70%|████████████████████████████████████████████████████████▋                        | 70/100 [00:17<00:10,  2.74it/s]"
     ]
    },
    {
     "name": "stdout",
     "output_type": "stream",
     "text": [
      "observation = [2.65871785 1.83568879 1.41371669 0.0034944  0.05580046]\n"
     ]
    },
    {
     "name": "stderr",
     "output_type": "stream",
     "text": [
      "\r",
      " 71%|█████████████████████████████████████████████████████████▌                       | 71/100 [00:17<00:10,  2.64it/s]"
     ]
    },
    {
     "name": "stdout",
     "output_type": "stream",
     "text": [
      "observation = [2.59522741 1.78952643 0.9424778  0.00288855 0.05268112]\n"
     ]
    },
    {
     "name": "stderr",
     "output_type": "stream",
     "text": [
      "\r",
      " 72%|██████████████████████████████████████████████████████████▎                      | 72/100 [00:18<00:11,  2.39it/s]"
     ]
    },
    {
     "name": "stdout",
     "output_type": "stream",
     "text": [
      "observation = [2.67823041 1.92429609 1.41371669 0.00339558 0.06040475]\n"
     ]
    },
    {
     "name": "stderr",
     "output_type": "stream",
     "text": [
      "\r",
      " 73%|███████████████████████████████████████████████████████████▏                     | 73/100 [00:18<00:10,  2.48it/s]"
     ]
    },
    {
     "name": "stdout",
     "output_type": "stream",
     "text": [
      "observation = [2.81969562 1.51444884 0.9424778  0.00603966 0.0462682 ]\n"
     ]
    },
    {
     "name": "stderr",
     "output_type": "stream",
     "text": [
      "\r",
      " 74%|███████████████████████████████████████████████████████████▉                     | 74/100 [00:19<00:10,  2.53it/s]"
     ]
    },
    {
     "name": "stdout",
     "output_type": "stream",
     "text": [
      "observation = [2.79069769e+00 2.22324543e+00 1.41371669e+00 1.47514937e-03\n",
      " 6.04587446e-02]\n"
     ]
    },
    {
     "name": "stderr",
     "output_type": "stream",
     "text": [
      "\r",
      " 75%|████████████████████████████████████████████████████████████▊                    | 75/100 [00:19<00:09,  2.56it/s]"
     ]
    },
    {
     "name": "stdout",
     "output_type": "stream",
     "text": [
      "observation = [2.7776633  1.88155695 0.9424778  0.00456832 0.0607911 ]\n"
     ]
    },
    {
     "name": "stderr",
     "output_type": "stream",
     "text": [
      "\r",
      " 76%|█████████████████████████████████████████████████████████████▌                   | 76/100 [00:19<00:09,  2.50it/s]"
     ]
    },
    {
     "name": "stdout",
     "output_type": "stream",
     "text": [
      "observation = [2.75285049 1.88848218 0.4712389  0.0042623  0.06057429]\n"
     ]
    },
    {
     "name": "stderr",
     "output_type": "stream",
     "text": [
      "\r",
      " 77%|██████████████████████████████████████████████████████████████▎                  | 77/100 [00:20<00:09,  2.45it/s]"
     ]
    },
    {
     "name": "stdout",
     "output_type": "stream",
     "text": [
      "observation = [2.77753617 1.86643357 0.70685835 0.0045876  0.06013513]\n"
     ]
    },
    {
     "name": "stderr",
     "output_type": "stream",
     "text": [
      "\r",
      " 78%|███████████████████████████████████████████████████████████████▏                 | 78/100 [00:20<00:09,  2.32it/s]"
     ]
    },
    {
     "name": "stdout",
     "output_type": "stream",
     "text": [
      "observation = [2.73736329 1.91688793 0.70685835 0.00405462 0.06144411]\n"
     ]
    },
    {
     "name": "stderr",
     "output_type": "stream",
     "text": [
      "\r",
      " 79%|███████████████████████████████████████████████████████████████▉                 | 79/100 [00:21<00:09,  2.16it/s]"
     ]
    },
    {
     "name": "stdout",
     "output_type": "stream",
     "text": [
      "observation = [2.25644445 1.45206486 0.9424778  0.00306834 0.04648824]\n"
     ]
    },
    {
     "name": "stderr",
     "output_type": "stream",
     "text": [
      "\r",
      " 80%|████████████████████████████████████████████████████████████████▊                | 80/100 [00:21<00:09,  2.16it/s]"
     ]
    },
    {
     "name": "stdout",
     "output_type": "stream",
     "text": [
      "observation = [2.7180775  1.57043481 1.41371669 0.00396363 0.04865442]\n"
     ]
    },
    {
     "name": "stderr",
     "output_type": "stream",
     "text": [
      "\r",
      " 81%|█████████████████████████████████████████████████████████████████▌               | 81/100 [00:22<00:09,  1.95it/s]"
     ]
    },
    {
     "name": "stdout",
     "output_type": "stream",
     "text": [
      "observation = [2.75530692 1.90423577 0.70685835 0.00427735 0.06128271]\n"
     ]
    },
    {
     "name": "stderr",
     "output_type": "stream",
     "text": [
      "\r",
      " 82%|██████████████████████████████████████████████████████████████████▍              | 82/100 [00:22<00:09,  1.97it/s]"
     ]
    },
    {
     "name": "stdout",
     "output_type": "stream",
     "text": [
      "observation = [2.79288363 1.86221829 0.70685835 0.00477764 0.0603033 ]\n"
     ]
    },
    {
     "name": "stderr",
     "output_type": "stream",
     "text": [
      "\r",
      " 83%|███████████████████████████████████████████████████████████████████▏             | 83/100 [00:23<00:09,  1.88it/s]"
     ]
    },
    {
     "name": "stdout",
     "output_type": "stream",
     "text": [
      "observation = [2.66565988 2.0071205  0.9424778  0.00320129 0.06374714]\n"
     ]
    },
    {
     "name": "stderr",
     "output_type": "stream",
     "text": [
      "\r",
      " 84%|████████████████████████████████████████████████████████████████████             | 84/100 [00:24<00:08,  1.84it/s]"
     ]
    },
    {
     "name": "stdout",
     "output_type": "stream",
     "text": [
      "observation = [2.65402879 1.91394244 1.41371669 0.00328778 0.05911932]\n"
     ]
    },
    {
     "name": "stderr",
     "output_type": "stream",
     "text": [
      "\r",
      " 85%|████████████████████████████████████████████████████████████████████▊            | 85/100 [00:24<00:08,  1.86it/s]"
     ]
    },
    {
     "name": "stdout",
     "output_type": "stream",
     "text": [
      "observation = [2.4032129  1.77138331 0.9424778  0.00469016 0.06007164]\n"
     ]
    },
    {
     "name": "stderr",
     "output_type": "stream",
     "text": [
      "\r",
      " 86%|█████████████████████████████████████████████████████████████████████▋           | 86/100 [00:25<00:07,  1.89it/s]"
     ]
    },
    {
     "name": "stdout",
     "output_type": "stream",
     "text": [
      "observation = [2.77392078 2.06795106 0.4712389  0.00439258 0.06844623]\n"
     ]
    },
    {
     "name": "stderr",
     "output_type": "stream",
     "text": [
      "\r",
      " 87%|██████████████████████████████████████████████████████████████████████▍          | 87/100 [00:25<00:06,  1.86it/s]"
     ]
    },
    {
     "name": "stdout",
     "output_type": "stream",
     "text": [
      "observation = [2.7588505  2.05565924 0.70685835 0.00424591 0.06749063]\n"
     ]
    },
    {
     "name": "stderr",
     "output_type": "stream",
     "text": [
      "\r",
      " 88%|███████████████████████████████████████████████████████████████████████▎         | 88/100 [00:26<00:07,  1.63it/s]"
     ]
    },
    {
     "name": "stdout",
     "output_type": "stream",
     "text": [
      "observation = [2.79409542 1.96571544 0.4712389  0.00474102 0.06443248]\n"
     ]
    },
    {
     "name": "stderr",
     "output_type": "stream",
     "text": [
      "\r",
      " 89%|████████████████████████████████████████████████████████████████████████         | 89/100 [00:27<00:06,  1.70it/s]"
     ]
    },
    {
     "name": "stdout",
     "output_type": "stream",
     "text": [
      "observation = [2.74518962 1.9949888  0.4712389  0.0041     0.06478926]\n"
     ]
    },
    {
     "name": "stderr",
     "output_type": "stream",
     "text": [
      "\r",
      " 90%|████████████████████████████████████████████████████████████████████████▉        | 90/100 [00:27<00:05,  1.69it/s]"
     ]
    },
    {
     "name": "stdout",
     "output_type": "stream",
     "text": [
      "observation = [2.74063664 2.05978224 0.70685835 0.00402461 0.06729687]\n"
     ]
    },
    {
     "name": "stderr",
     "output_type": "stream",
     "text": [
      "\r",
      " 91%|█████████████████████████████████████████████████████████████████████████▋       | 91/100 [00:28<00:05,  1.66it/s]"
     ]
    },
    {
     "name": "stdout",
     "output_type": "stream",
     "text": [
      "observation = [2.95366509 1.74171564 1.64933614 0.00706734 0.05873262]\n"
     ]
    },
    {
     "name": "stderr",
     "output_type": "stream",
     "text": [
      "\r",
      " 92%|██████████████████████████████████████████████████████████████████████████▌      | 92/100 [00:28<00:04,  1.62it/s]"
     ]
    },
    {
     "name": "stdout",
     "output_type": "stream",
     "text": [
      "observation = [2.72111751 1.82315333 0.70685835 0.00394939 0.05732071]\n"
     ]
    },
    {
     "name": "stderr",
     "output_type": "stream",
     "text": [
      "\r",
      " 93%|███████████████████████████████████████████████████████████████████████████▎     | 93/100 [00:29<00:04,  1.61it/s]"
     ]
    },
    {
     "name": "stdout",
     "output_type": "stream",
     "text": [
      "observation = [2.73466682 1.74603506 1.64933614 0.00429298 0.05407078]\n"
     ]
    },
    {
     "name": "stderr",
     "output_type": "stream",
     "text": [
      "\r",
      " 94%|████████████████████████████████████████████████████████████████████████████▏    | 94/100 [00:30<00:03,  1.52it/s]"
     ]
    },
    {
     "name": "stdout",
     "output_type": "stream",
     "text": [
      "observation = [2.9129526  1.7857262  1.17809725 0.00644636 0.05969403]\n"
     ]
    },
    {
     "name": "stderr",
     "output_type": "stream",
     "text": [
      "\r",
      " 95%|████████████████████████████████████████████████████████████████████████████▉    | 95/100 [00:31<00:03,  1.48it/s]"
     ]
    },
    {
     "name": "stdout",
     "output_type": "stream",
     "text": [
      "observation = [2.71315729 1.99609804 0.70685835 0.00375597 0.06408277]\n"
     ]
    },
    {
     "name": "stderr",
     "output_type": "stream",
     "text": [
      "\r",
      " 96%|█████████████████████████████████████████████████████████████████████████████▊   | 96/100 [00:31<00:02,  1.53it/s]"
     ]
    },
    {
     "name": "stdout",
     "output_type": "stream",
     "text": [
      "observation = [2.82084855 1.86363249 0.9424778  0.0051274  0.06095323]\n"
     ]
    },
    {
     "name": "stderr",
     "output_type": "stream",
     "text": [
      "\r",
      " 97%|██████████████████████████████████████████████████████████████████████████████▌  | 97/100 [00:32<00:01,  1.56it/s]"
     ]
    },
    {
     "name": "stdout",
     "output_type": "stream",
     "text": [
      "observation = [2.74062277 1.93773638 0.70685835 0.00407458 0.06238576]\n"
     ]
    },
    {
     "name": "stderr",
     "output_type": "stream",
     "text": [
      "\r",
      " 98%|███████████████████████████████████████████████████████████████████████████████▍ | 98/100 [00:32<00:01,  1.58it/s]"
     ]
    },
    {
     "name": "stdout",
     "output_type": "stream",
     "text": [
      "observation = [2.78891418 1.9096954  0.4712389  0.00467843 0.06221359]\n"
     ]
    },
    {
     "name": "stderr",
     "output_type": "stream",
     "text": [
      "\r",
      " 99%|████████████████████████████████████████████████████████████████████████████████▏| 99/100 [00:33<00:00,  1.58it/s]"
     ]
    },
    {
     "name": "stdout",
     "output_type": "stream",
     "text": [
      "observation = [2.78578295 1.87445635 0.70685835 0.00467598 0.06065915]\n"
     ]
    },
    {
     "name": "stderr",
     "output_type": "stream",
     "text": [
      "100%|████████████████████████████████████████████████████████████████████████████████| 100/100 [00:34<00:00,  2.92it/s]"
     ]
    },
    {
     "name": "stdout",
     "output_type": "stream",
     "text": [
      "observation = [2.7452852  1.96023241 0.4712389  0.00412537 0.06334281]\n"
     ]
    },
    {
     "name": "stderr",
     "output_type": "stream",
     "text": [
      "\n"
     ]
    }
   ],
   "source": [
    "num_iter=100\n",
    "\n",
    "position_result=[]\n",
    "observation_result=[]\n",
    "gpr_list=[]\n",
    "\n",
    "best_r=-10000\n",
    "best_obs=[]\n",
    "best_pos=[[] for i in range(5)]\n",
    "\n",
    "for iterr in tqdm(range(num_iter)):\n",
    "    #initialize\n",
    "    position=np.array([[-2,-2,0],[-2,-2,0],[-2,-2,0],[-2,-2,0],[-2,-2,0]])\n",
    "    observation=observe(position)\n",
    "    u_t=[]\n",
    "    observation_t=[observation]\n",
    "    position_t=[[] for i in range(5)]\n",
    "    \n",
    "    \n",
    "    for time in range(N+1):\n",
    "        if iterr==0:\n",
    "            candidates_u=[]\n",
    "            std=[]\n",
    "            u_k, _ = decide_u(observation,np.array(candidates_u),np.array(std),init=True)\n",
    "            position_new = next_step(position,action_set[u_k])\n",
    "            observation_new = observe(position_new)\n",
    "            r = reward(observation_new)\n",
    "            \n",
    "            if flags[u_k]:\n",
    "                history_su[u_k] = observation.reshape(-1,5)\n",
    "                history_su_next[u_k] = observation_new.reshape(-1,5)  \n",
    "                history_r[u_k] = np.array([r])\n",
    "                flags[u_k]=False\n",
    "            else:\n",
    "                history_su[u_k] = np.concatenate((history_su[u_k], observation.reshape(-1,5)))\n",
    "                history_su_next[u_k] = np.concatenate((history_su_next[u_k], observation_new.reshape(-1,5)))\n",
    "                history_r[u_k] = np.concatenate((history_r[u_k],np.array([r])))\n",
    "            \n",
    "            observation=observation_new\n",
    "            position=position_new\n",
    "            u_t.append(u_k)\n",
    "            observation_t.append(observation)\n",
    "            for i in range(num_system):\n",
    "                position_t[i].append(position[i])\n",
    "            \n",
    "            \n",
    "        else:            \n",
    "            candidates_u=[]\n",
    "            std=[]\n",
    "            for i in range(6):\n",
    "                cand, var = gpr_list[i].predict(observation.reshape(-1,5), return_std=True)\n",
    "                candidates_u.append(cand[0])\n",
    "                std.append(var[0])\n",
    "            #print(candidates_u)\n",
    "            #print(var)\n",
    "            u_k, explo = decide_u(observation,np.array(candidates_u),np.array(std))\n",
    "            position_new = next_step(position,action_set[u_k])\n",
    "            observation_new = observe(position_new)\n",
    "            r = reward(observation_new)\n",
    "            #if r>0.1:\n",
    "            if explo:\n",
    "                history_su[u_k] = np.concatenate((history_su[u_k], observation.reshape(-1,5)))\n",
    "                history_su_next[u_k] = np.concatenate((history_su_next[u_k], observation_new.reshape(-1,5)))\n",
    "                history_r[u_k] = np.concatenate((history_r[u_k],np.array([r])))\n",
    "            else:\n",
    "                a=np.random.uniform()\n",
    "                if a<0.25:\n",
    "                    history_su[u_k] = np.concatenate((history_su[u_k], observation.reshape(-1,5)))\n",
    "                    history_su_next[u_k] = np.concatenate((history_su_next[u_k], observation_new.reshape(-1,5)))\n",
    "                    history_r[u_k] = np.concatenate((history_r[u_k],np.array([r])))\n",
    "            \n",
    "            observation=observation_new\n",
    "            position=position_new\n",
    "            u_t.append(u_k)\n",
    "            observation_t.append(observation)\n",
    "            for i in range(num_system):\n",
    "                position_t[i].append(position[i])\n",
    "            \n",
    "            if time%((N+1)//3+1)==0:\n",
    "                for i in range(6):\n",
    "                    history_target=history_r[i].reshape(-1,1)+0.5*generate_history_pred(gpr_list,history_su_next[i])\n",
    "                    gpr_list[i]=GaussianProcessRegressor(alpha=1e-4).fit(history_su[i], history_target)\n",
    "                \n",
    "                '''\n",
    "                for i in range(6):\n",
    "                    hist_su, hist_su_next, hist_r = trainingset_refine(history_su[i],history_su_next[i], history_r[i])\n",
    "                    history_target=hist_r.reshape(-1,1)+0.01*generate_history_pred(gpr_list,hist_su_next)\n",
    "                    gpr_list[i]=GaussianProcessRegressor(alpha=1e-4).fit(hist_su, history_target)\n",
    "                '''\n",
    "     \n",
    "            if r>100-0.03:\n",
    "                break\n",
    "            \n",
    "    if iterr==0:\n",
    "        for i in range(6):\n",
    "            gpr_list.append(GaussianProcessRegressor(alpha=1e-4).fit(history_su[i], history_r[i].reshape(-1,1)))\n",
    "    else:       \n",
    "        for i in range(6):\n",
    "            history_target=history_r[i].reshape(-1,1)+0.5*generate_history_pred(gpr_list,history_su_next[i])\n",
    "            gpr_list[i]=GaussianProcessRegressor(alpha=1e-4).fit(history_su[i], history_target)\n",
    "            #print(history_su[i].shape[0])\n",
    "        '''\n",
    "        for i in range(6):\n",
    "            hist_su, hist_su_next, hist_r = trainingset_refine(history_su[i],history_su_next[i], history_r[i])\n",
    "            history_target=hist_r.reshape(-1,1)+0.01*generate_history_pred(gpr_list,hist_su_next)\n",
    "            gpr_list[i]=GaussianProcessRegressor(alpha=1e-4).fit(hist_su, history_target)\n",
    "            print(history_su[i].shape[0])\n",
    "        '''\n",
    "            \n",
    "    print(\"observation =\",observation)\n",
    "    #print(observation_t)\n",
    "    position_result.append(position)\n",
    "    observation_result.append(observation)\n",
    "    if r>best_r:\n",
    "        best_r=r\n",
    "        best_obs=observation_t\n",
    "        best_pos=position_t\n",
    "    \n",
    "    #print(history_su.shape)\n",
    "    #print(u_t)"
   ]
  },
  {
   "cell_type": "markdown",
   "id": "279315d1",
   "metadata": {},
   "source": [
    "# Results"
   ]
  },
  {
   "cell_type": "code",
   "execution_count": 6,
   "id": "b553f371",
   "metadata": {
    "scrolled": true
   },
   "outputs": [
    {
     "data": {
      "image/png": "[encoded data removed]",
      "text/plain": [
       "<Figure size 640x480 with 1 Axes>"
      ]
     },
     "metadata": {},
     "output_type": "display_data"
    }
   ],
   "source": [
    "x = np.linspace(0, T, N+1)\n",
    "plt.plot(x, u_t)\n",
    "plt.xlabel('t')\n",
    "plt.ylabel('u(t)')\n",
    "plt.title(\"u(t) vs time\")\n",
    "plt.grid()\n",
    "plt.show()"
   ]
  },
  {
   "cell_type": "markdown",
   "id": "0f175b0d",
   "metadata": {},
   "source": [
    "## Last Trajectory\n"
   ]
  },
  {
   "cell_type": "code",
   "execution_count": 7,
   "id": "1f8fbeab",
   "metadata": {},
   "outputs": [
    {
     "data": {
      "image/png": "[encoded data removed]",
      "text/plain": [
       "<Figure size 640x480 with 1 Axes>"
      ]
     },
     "metadata": {},
     "output_type": "display_data"
    }
   ],
   "source": [
    "obs=np.array(observation_t)\n",
    "obs=obs[:,[0,1]]\n",
    "plt.plot(obs[:,0],obs[:,1])\n",
    "plt.xlabel('X')\n",
    "plt.ylabel('Y')\n",
    "plt.show()"
   ]
  },
  {
   "cell_type": "code",
   "execution_count": 8,
   "id": "2d01fd58",
   "metadata": {},
   "outputs": [
    {
     "data": {
      "image/png": "[encoded data removed]",
      "text/plain": [
       "<Figure size 640x480 with 1 Axes>"
      ]
     },
     "metadata": {},
     "output_type": "display_data"
    },
    {
     "name": "stdout",
     "output_type": "stream",
     "text": [
      "1.758116058352769\n"
     ]
    }
   ],
   "source": [
    "pos=[]\n",
    "for i in range(num_system):\n",
    "    obs=np.array(position_t[i])\n",
    "    obs=obs[:,[0,1]]\n",
    "    plt.plot(obs[:,0],obs[:,1])\n",
    "    pos.append(obs[-1])\n",
    "plt.xlabel('X')\n",
    "plt.ylabel('Y')\n",
    "plt.show()\n",
    "print(reward_raw(np.array(pos)))"
   ]
  },
  {
   "cell_type": "markdown",
   "id": "43d797bf",
   "metadata": {},
   "source": [
    "## Best Trajectory"
   ]
  },
  {
   "cell_type": "code",
   "execution_count": 9,
   "id": "bd99ebe4",
   "metadata": {},
   "outputs": [
    {
     "data": {
      "image/png": "[encoded data removed]",
      "text/plain": [
       "<Figure size 640x480 with 1 Axes>"
      ]
     },
     "metadata": {},
     "output_type": "display_data"
    }
   ],
   "source": [
    "obs=np.array(best_obs)\n",
    "obs=obs[:,[0,1]]\n",
    "plt.plot(obs[:,0],obs[:,1])\n",
    "plt.xlabel('X')\n",
    "plt.ylabel('Y')\n",
    "plt.show()"
   ]
  },
  {
   "cell_type": "code",
   "execution_count": 10,
   "id": "d550a85f",
   "metadata": {},
   "outputs": [
    {
     "data": {
      "image/png": "[encoded data removed]",
      "text/plain": [
       "<Figure size 640x480 with 1 Axes>"
      ]
     },
     "metadata": {},
     "output_type": "display_data"
    },
    {
     "name": "stdout",
     "output_type": "stream",
     "text": [
      "1.5909723399197833\n"
     ]
    }
   ],
   "source": [
    "pos=[]\n",
    "for i in range(num_system):\n",
    "    obs=np.array(best_pos[i])\n",
    "    obs=obs[:,[0,1]]\n",
    "    plt.plot(obs[:,0],obs[:,1])\n",
    "    pos.append(obs[-1])\n",
    "plt.xlabel('X')\n",
    "plt.ylabel('Y')\n",
    "plt.show()\n",
    "print(reward_raw(np.array(pos)))"
   ]
  },
  {
   "cell_type": "markdown",
   "id": "010a19b7",
   "metadata": {},
   "source": [
    "## Pure Exploitation Trajectory"
   ]
  },
  {
   "cell_type": "code",
   "execution_count": 11,
   "id": "1d1e02bb",
   "metadata": {
    "scrolled": false
   },
   "outputs": [
    {
     "data": {
      "image/png": "[encoded data removed]",
      "text/plain": [
       "<Figure size 640x480 with 1 Axes>"
      ]
     },
     "metadata": {},
     "output_type": "display_data"
    }
   ],
   "source": [
    "position=np.array([[-2,-2,0],[-2,-2,0],[-2,-2,0],[-2,-2,0],[-2,-2,0]])\n",
    "observation=observe(position)\n",
    "u_t=[]\n",
    "observation_t=[observation]\n",
    "position_t=[[] for i in range(5)]\n",
    "\n",
    "for time in range(N+1):           \n",
    "    candidates_u=[]\n",
    "    for i in range(6):\n",
    "        cand, _ = gpr_list[i].predict(observation.reshape(-1,5), return_std=True)\n",
    "        candidates_u.append(cand[0])\n",
    "    #print(candidates_u)\n",
    "    u_k = decide_u_exploitation(observation,np.array(candidates_u))\n",
    "    position_new = next_step(position,action_set[u_k])\n",
    "    observation_new = observe(position_new)\n",
    "    r = reward(observation_new)\n",
    "    '''\n",
    "    if explo:\n",
    "        history_su[u_k] = np.concatenate((history_su[u_k], observation.reshape(-1,5)))\n",
    "        history_r[u_k] = np.concatenate((history_r[u_k],np.array([r])))\n",
    "    '''\n",
    "    observation=observation_new\n",
    "    position=position_new\n",
    "    u_t.append(u_k)\n",
    "    observation_t.append(observation)\n",
    "    for i in range(num_system):\n",
    "        position_t[i].append(position[i])\n",
    "    '''\n",
    "    if time%((N+1)//3+1)==0:\n",
    "        for i in range(6):\n",
    "            gpr_list[i]=GaussianProcessRegressor(alpha=1e-8).fit(history_su[i], history_r[i].reshape(-1,1))\n",
    "    '''\n",
    "    if r>100-0.03:\n",
    "        break\n",
    "    \n",
    "obs=np.array(observation_t)\n",
    "obs=obs[:,[0,1]]\n",
    "plt.plot(obs[:,0],obs[:,1])\n",
    "plt.xlabel('X')\n",
    "plt.ylabel('Y')\n",
    "plt.show()"
   ]
  },
  {
   "cell_type": "code",
   "execution_count": 12,
   "id": "6e877e21",
   "metadata": {},
   "outputs": [
    {
     "data": {
      "image/png": "[encoded data removed]",
      "text/plain": [
       "<Figure size 640x480 with 1 Axes>"
      ]
     },
     "metadata": {},
     "output_type": "display_data"
    },
    {
     "name": "stdout",
     "output_type": "stream",
     "text": [
      "1.7392523229030397\n"
     ]
    }
   ],
   "source": [
    "for i in range(num_system):\n",
    "    obs=np.array(position_t[i])\n",
    "    obs=obs[:,[0,1]]\n",
    "    plt.plot(obs[:,0],obs[:,1])\n",
    "plt.xlabel('X')\n",
    "plt.ylabel('Y')\n",
    "plt.show()\n",
    "print(reward_raw(position))"
   ]
  },
  {
   "cell_type": "code",
   "execution_count": 19,
   "id": "d6a9c85a",
   "metadata": {},
   "outputs": [
    {
     "name": "stdout",
     "output_type": "stream",
     "text": [
      "[2.75040737 1.92723182 0.70685835 0.00419987 0.06213876]\n"
     ]
    }
   ],
   "source": [
    "print(observation_t[-1])\n",
    "#print(position_t[-1][0])"
   ]
  },
  {
   "cell_type": "code",
   "execution_count": 14,
   "id": "4c2a97b9",
   "metadata": {},
   "outputs": [
    {
     "data": {
      "text/plain": [
       "[2, 4]"
      ]
     },
     "execution_count": 14,
     "metadata": {},
     "output_type": "execute_result"
    }
   ],
   "source": [
    "a=[1,2,4,8]\n",
    "a[1:3]"
   ]
  },
  {
   "cell_type": "code",
   "execution_count": null,
   "id": "f5f52296",
   "metadata": {},
   "outputs": [],
   "source": []
  },
  {
   "cell_type": "code",
   "execution_count": null,
   "id": "2af518e4",
   "metadata": {},
   "outputs": [],
   "source": [
    "\n",
    "\n"
   ]
  }
 ],
 "metadata": {
  "kernelspec": {
   "display_name": "Python 3 (ipykernel)",
   "language": "python",
   "name": "python3"
  },
  "language_info": {
   "codemirror_mode": {
    "name": "ipython",
    "version": 3
   },
   "file_extension": ".py",
   "mimetype": "text/x-python",
   "name": "python",
   "nbconvert_exporter": "python",
   "pygments_lexer": "ipython3",
   "version": "3.10.9"
  }
 },
 "nbformat": 4,
 "nbformat_minor": 5
}
