{
 "cells": [
  {
   "cell_type": "markdown",
   "id": "4210cf4e",
   "metadata": {},
   "source": [
    "$V(x)=\\sum_{t=1}^T R(x(t))$ \\\n",
    "where  $R(x)=-\\|x-x_{goal}\\|-variance$ \\\n",
    "and $T=15$"
   ]
  },
  {
   "cell_type": "markdown",
   "id": "c8258d91",
   "metadata": {},
   "source": [
    "Use all datas "
   ]
  },
  {
   "cell_type": "markdown",
   "id": "d833b055",
   "metadata": {},
   "source": [
    "# Create Environment"
   ]
  },
  {
   "cell_type": "code",
   "execution_count": 6,
   "id": "65a2669a",
   "metadata": {},
   "outputs": [
    {
     "name": "stdout",
     "output_type": "stream",
     "text": [
      "[1, 1, 1, 1, 1, 1, 1, 1, 1, 1, 1, 1, 1, 1, 1, 1, 1, 1, 1, 1, 1, 1, 1, 1, 1, 1, 1, 1, 1, 1, 1, 1, 1, 1, 1, 1, 1, 1, 1, 1, 1, 1, 1, 1, 1, 1, 1, 1, 1, 1, 1]\n"
     ]
    }
   ],
   "source": [
    "import numpy as np\n",
    "import matplotlib.pylab as plt\n",
    "from sklearn.gaussian_process import GaussianProcessRegressor\n",
    "from tqdm import tqdm\n",
    "\n",
    "global N\n",
    "\n",
    "N=50\n",
    "\n",
    "global M\n",
    "M=2\n",
    "\n",
    "global T\n",
    "global target\n",
    "T=10\n",
    "target=np.array([3,2])\n",
    "global w\n",
    "w=np.pi*2/23.7\n",
    "\n",
    "global delta_t\n",
    "delta_t=T/N\n",
    "\n",
    "global beta\n",
    "beta=[0.95,0.975,1,1.025,1.05]\n",
    "\n",
    "global num_system\n",
    "num_system=5\n",
    "\n",
    "global num_action\n",
    "num_action=11\n",
    "\n",
    "global obs_para\n",
    "obs_para=6\n",
    "\n",
    "global coeff\n",
    "coeff=[]\n",
    "for i in range(N+1):\n",
    "    coeff.append(1)\n",
    "print(coeff)"
   ]
  },
  {
   "cell_type": "code",
   "execution_count": 7,
   "id": "bd2938cf",
   "metadata": {},
   "outputs": [
    {
     "data": {
      "text/plain": [
       "\"\\nx = np.linspace(0, 6.5, 1001)\\nplt.plot(x, Z(x))\\nplt.xlabel('Angle [rad]')\\nplt.ylabel('Z(theta)')\\nplt.grid()\\nplt.show()\\n\""
      ]
     },
     "execution_count": 7,
     "metadata": {},
     "output_type": "execute_result"
    }
   ],
   "source": [
    "def Z(vecs, u, v):\n",
    "    output=[]\n",
    "    for i in range(num_system):\n",
    "        vec=vecs[i]\n",
    "        x=vec[0]\n",
    "        y=vec[1]\n",
    "        theta=vec[2]\n",
    "        output.append([beta[i]*np.cos(theta)*u,beta[i]*np.sin(theta)*u,beta[i]*v])\n",
    "    return np.array(output)\n",
    "\n",
    "#check the correctness of Z\n",
    "'''\n",
    "x = np.linspace(0, 6.5, 1001)\n",
    "plt.plot(x, Z(x))\n",
    "plt.xlabel('Angle [rad]')\n",
    "plt.ylabel('Z(theta)')\n",
    "plt.grid()\n",
    "plt.show()\n",
    "'''"
   ]
  },
  {
   "cell_type": "code",
   "execution_count": 8,
   "id": "b5291895",
   "metadata": {},
   "outputs": [],
   "source": [
    "def next_step(vecs,action):  \n",
    "    u=action[0]\n",
    "    v=action[1]\n",
    "   \n",
    "    for j in range(M):\n",
    "        vecs_new=[]\n",
    "        diff=Z(vecs,u,v)\n",
    "        for i in range(num_system):\n",
    "            w=vecs[i]+delta_t/M*diff[i]\n",
    "            '''\n",
    "            if w[2]>np.pi:\n",
    "                w[2]-=2*np.pi\n",
    "            if w[2]<-np.pi:\n",
    "                w[2]+=2*np.pi\n",
    "            '''\n",
    "            vecs_new.append(w)\n",
    "        vecs=np.array(vecs_new)\n",
    "    return vecs\n",
    "\n",
    "def observe(vecs):\n",
    "    mu_x=0\n",
    "    mu_y=0\n",
    "    mu_theta=0\n",
    "    var_x=0\n",
    "    var_y=0\n",
    "    var_theta=0\n",
    "    for i in range(num_system):\n",
    "        mu_x+=vecs[i][0]\n",
    "        mu_y+=vecs[i][1]\n",
    "        mu_theta+=vecs[i][2]\n",
    "        var_x+=vecs[i][0]**2\n",
    "        var_y+=vecs[i][1]**2\n",
    "        var_theta+=vecs[i][2]**2\n",
    "    var_x-=mu_x**2/num_system\n",
    "    var_y-=mu_y**2/num_system\n",
    "    var_theta-=mu_theta**2/num_system\n",
    "    \n",
    "    w=np.array([mu_x,mu_y,mu_theta,var_x,var_y,var_theta])/num_system\n",
    "    if w[2]>np.pi:\n",
    "        w[2]-=2*np.pi\n",
    "    if w[2]<-np.pi:\n",
    "        w[2]+=2*np.pi\n",
    "    return w\n",
    "\n",
    "def reward(obs):\n",
    "    return max(10-np.sqrt((obs[0]-target[0])**2+(obs[1]-target[1])**2)-10*obs[3]-10*obs[4],0)\n",
    "\n",
    "def reward_raw(position):\n",
    "    r=0\n",
    "    for i in range(num_system):\n",
    "        r+=np.linalg.norm(position[i,[0,1]]-target)\n",
    "    return r\n",
    "\n",
    "def value_func(funcs,flags,next_state):\n",
    "    result=[]\n",
    "    for i in range(6):\n",
    "        if flags[i]:\n",
    "            result.append(0)\n",
    "        else:\n",
    "            k,_=funcs[i].predict(next_state.reshape(-1,obs_para), return_std=True)\n",
    "            result.append(k[0])\n",
    "    result=np.array(result)\n",
    "    return np.max(result)"
   ]
  },
  {
   "cell_type": "markdown",
   "id": "15ed433b",
   "metadata": {},
   "source": [
    "# Learning Settings"
   ]
  },
  {
   "cell_type": "code",
   "execution_count": 9,
   "id": "95e62df6",
   "metadata": {},
   "outputs": [],
   "source": [
    "global lr\n",
    "lr=0.01\n",
    "global eps\n",
    "eps=0.05\n",
    "global max_u\n",
    "max_u=2\n",
    "global precision\n",
    "precision=0.0002\n",
    "global action_set\n",
    "action_set=np.array([[1,np.pi/2],[-1,np.pi/2],[1,np.pi/4],[-1,np.pi/4],[1,0],[-1,0],[1,-np.pi/4],[-1,-np.pi/4],[1,-np.pi/2],[-1,-np.pi/2],[0,0]])\n",
    "\n",
    "def exploration():\n",
    "    a=np.random.uniform()\n",
    "    if a<eps:\n",
    "        return True\n",
    "    else:\n",
    "        return False\n",
    "\n",
    "def find_max(cand):\n",
    "    return np.argmax(cand)\n",
    "    \n",
    "def decide_u(funcs,flags,state,init=False):\n",
    "    explo=exploration()\n",
    "    if init or explo:\n",
    "        return np.random.randint(num_action)\n",
    "    else:\n",
    "        result=[]\n",
    "        for i in range(num_action):\n",
    "            if flags[i]:\n",
    "                return i\n",
    "            else:\n",
    "                k,_=funcs[i].predict(state.reshape(-1,obs_para), return_std=True)\n",
    "                result.append(k[0])\n",
    "    result=np.array(result)\n",
    "    return np.argmax(result)\n",
    "    \n",
    "def decide_u_exploitation(funcs,flags,state,init=False):\n",
    "    result=[]\n",
    "    for i in range(num_action):\n",
    "        if flags[i]:\n",
    "            print(\"Err\",i)\n",
    "            return i\n",
    "        else:\n",
    "            k,_=funcs[i].predict(state.reshape(-1,obs_para), return_std=True)\n",
    "            result.append(k[0])\n",
    "    result=np.array(result)\n",
    "    return np.argmax(result)\n",
    "\n",
    "history_su=[0 for i in range(num_action)]\n",
    "history_r=[0 for i in range(num_action)]\n",
    "history_su_next=[0 for i in range(num_action)]\n",
    "flags=[True for i in range(num_action)]\n",
    "\n",
    "history_rt=[[[] for i in range(num_action)] for j in range(N+1)]\n",
    "history_sut=[[[] for i in range(num_action)] for j in range(N+1)]\n",
    "flags_t=[[True for i in range(num_action)] for j in range(N+1)]"
   ]
  },
  {
   "cell_type": "markdown",
   "id": "c5f09d42",
   "metadata": {},
   "source": [
    "# Simulation\n"
   ]
  },
  {
   "cell_type": "code",
   "execution_count": 10,
   "id": "53aa277f",
   "metadata": {
    "scrolled": true
   },
   "outputs": [
    {
     "name": "stderr",
     "output_type": "stream",
     "text": [
      "  1%|▋                                                                                 | 1/120 [00:00<01:24,  1.41it/s]"
     ]
    },
    {
     "name": "stdout",
     "output_type": "stream",
     "text": [
      "observation = [-1.38881345 -1.51524913  1.30135296  0.00186546  0.0021008   0.00521238]\n"
     ]
    },
    {
     "name": "stderr",
     "output_type": "stream",
     "text": [
      "\r",
      "  2%|█▎                                                                                | 2/120 [00:01<01:22,  1.43it/s]"
     ]
    },
    {
     "name": "stdout",
     "output_type": "stream",
     "text": [
      "observation = [-2.41254556  0.19438463 -0.76742484  0.01315768  0.02070158  0.00604513]\n"
     ]
    },
    {
     "name": "stderr",
     "output_type": "stream",
     "text": [
      "\r",
      "  2%|██                                                                                | 3/120 [00:02<01:22,  1.41it/s]"
     ]
    },
    {
     "name": "stdout",
     "output_type": "stream",
     "text": [
      "observation = [-1.84712822e+00 -2.79238314e+00  5.40914785e-01  4.46754064e-04\n",
      "  1.86382314e-03  2.49824361e-03]\n"
     ]
    },
    {
     "name": "stderr",
     "output_type": "stream",
     "text": [
      "\r",
      "  3%|██▋                                                                               | 4/120 [00:02<01:28,  1.31it/s]"
     ]
    },
    {
     "name": "stdout",
     "output_type": "stream",
     "text": [
      "observation = [-2.54293262e+00 -3.46931806e+00 -2.22926140e+00  2.13254024e-03\n",
      "  9.15324093e-04  1.11033050e-03]\n"
     ]
    },
    {
     "name": "stderr",
     "output_type": "stream",
     "text": [
      "\r",
      "  4%|███▍                                                                              | 5/120 [00:03<01:30,  1.27it/s]"
     ]
    },
    {
     "name": "stdout",
     "output_type": "stream",
     "text": [
      "observation = [-1.49977791e+00 -2.34591297e+00  2.90364892e+00  6.89109144e-04\n",
      "  3.71420808e-04  5.21238482e-03]\n"
     ]
    },
    {
     "name": "stderr",
     "output_type": "stream",
     "text": [
      "\r",
      "  5%|████                                                                              | 6/120 [00:04<01:36,  1.18it/s]"
     ]
    },
    {
     "name": "stdout",
     "output_type": "stream",
     "text": [
      "observation = [ 0.57075576 -2.2444502   1.5142917   0.01547435  0.03286555  0.00521238]\n"
     ]
    },
    {
     "name": "stderr",
     "output_type": "stream",
     "text": [
      "\r",
      "  6%|████▊                                                                             | 7/120 [00:05<01:41,  1.11it/s]"
     ]
    },
    {
     "name": "stdout",
     "output_type": "stream",
     "text": [
      "observation = [-1.26443409e+00 -1.20751359e+00  2.31294672e+00  9.58423171e-04\n",
      "  8.79609413e-04  8.91348647e-03]\n"
     ]
    },
    {
     "name": "stderr",
     "output_type": "stream",
     "text": [
      "\r",
      "  7%|█████▍                                                                            | 8/120 [00:06<01:47,  1.05it/s]"
     ]
    },
    {
     "name": "stdout",
     "output_type": "stream",
     "text": [
      "observation = [-1.97767856e+00 -1.99486394e+00 -5.54311455e-01  1.68297660e-05\n",
      "  2.00856551e-05  2.77582624e-04]\n"
     ]
    },
    {
     "name": "stderr",
     "output_type": "stream",
     "text": [
      "\r",
      "  8%|██████▏                                                                           | 9/120 [00:07<01:51,  1.00s/it]"
     ]
    },
    {
     "name": "stdout",
     "output_type": "stream",
     "text": [
      "observation = [-1.24154309e+00 -4.56158836e-01  2.23056283e+00  1.11435580e-04\n",
      "  3.10319704e-03  3.73194416e-03]\n"
     ]
    },
    {
     "name": "stderr",
     "output_type": "stream",
     "text": [
      "\r",
      "  8%|██████▊                                                                          | 10/120 [00:09<01:53,  1.03s/it]"
     ]
    },
    {
     "name": "stdout",
     "output_type": "stream",
     "text": [
      "observation = [-1.72630796e+00 -3.11114320e+00  2.64017188e+00  5.03119656e-03\n",
      "  1.88087589e-05  8.91348647e-03]\n"
     ]
    },
    {
     "name": "stderr",
     "output_type": "stream",
     "text": [
      "\r",
      "  9%|███████▍                                                                         | 11/120 [00:10<01:56,  1.07s/it]"
     ]
    },
    {
     "name": "stdout",
     "output_type": "stream",
     "text": [
      "observation = [-5.23454124e-01 -4.25356359e+00  1.81277887e+00  2.94753337e-02\n",
      "  1.03511914e-02  2.49824361e-03]\n"
     ]
    },
    {
     "name": "stderr",
     "output_type": "stream",
     "text": [
      "\r",
      " 10%|████████                                                                         | 12/120 [00:11<02:03,  1.15s/it]"
     ]
    },
    {
     "name": "stdout",
     "output_type": "stream",
     "text": [
      "observation = [ 0.21722325 -1.75966965  2.23328871  0.00456085  0.01914349  0.00999297]\n"
     ]
    },
    {
     "name": "stderr",
     "output_type": "stream",
     "text": [
      "\r",
      " 11%|████████▊                                                                        | 13/120 [00:12<02:09,  1.21s/it]"
     ]
    },
    {
     "name": "stdout",
     "output_type": "stream",
     "text": [
      "observation = [-2.49732430e+00 -1.39983851e+00 -1.07533030e+00  6.47524147e-04\n",
      "  1.00605607e-04  3.08425138e-05]\n"
     ]
    },
    {
     "name": "stderr",
     "output_type": "stream",
     "text": [
      "\r",
      " 12%|█████████▍                                                                       | 14/120 [00:14<02:14,  1.27s/it]"
     ]
    },
    {
     "name": "stdout",
     "output_type": "stream",
     "text": [
      "observation = [-1.44479525e+00 -2.08031446e-01  2.22310767e+00  1.00129148e-03\n",
      "  2.50931817e-03  7.71062844e-04]\n"
     ]
    },
    {
     "name": "stderr",
     "output_type": "stream",
     "text": [
      "\r",
      " 12%|██████████▏                                                                      | 15/120 [00:16<02:27,  1.41s/it]"
     ]
    },
    {
     "name": "stdout",
     "output_type": "stream",
     "text": [
      "observation = [-1.29371027e+00 -3.73384949e-01  2.43949458e+00  1.26079255e-04\n",
      "  2.70186140e-03  4.44132198e-03]\n"
     ]
    },
    {
     "name": "stderr",
     "output_type": "stream",
     "text": [
      "\r",
      " 13%|██████████▊                                                                      | 16/120 [00:17<02:32,  1.47s/it]"
     ]
    },
    {
     "name": "stdout",
     "output_type": "stream",
     "text": [
      "observation = [-1.43688118 -2.81961926 -1.53618817  0.03334772  0.03184316  0.00789568]\n"
     ]
    },
    {
     "name": "stderr",
     "output_type": "stream",
     "text": [
      "\r",
      " 14%|███████████▍                                                                     | 17/120 [00:19<02:37,  1.53s/it]"
     ]
    },
    {
     "name": "stdout",
     "output_type": "stream",
     "text": [
      "observation = [-1.42464495 -0.38024739  2.13854299  0.00286222  0.00378308  0.00521238]\n"
     ]
    },
    {
     "name": "stderr",
     "output_type": "stream",
     "text": [
      "\r",
      " 15%|████████████▏                                                                    | 18/120 [00:21<02:42,  1.59s/it]"
     ]
    },
    {
     "name": "stdout",
     "output_type": "stream",
     "text": [
      "observation = [9.15280998e-01 4.99157116e-01 3.11262703e+00 4.81393745e-03\n",
      " 4.65459481e-02 3.08425138e-03]\n"
     ]
    },
    {
     "name": "stderr",
     "output_type": "stream",
     "text": [
      "\r",
      " 16%|████████████▊                                                                    | 19/120 [00:23<02:53,  1.72s/it]"
     ]
    },
    {
     "name": "stdout",
     "output_type": "stream",
     "text": [
      "observation = [1.1354661  1.0221977  3.053074   0.05371439 0.01461277 0.00693957]\n"
     ]
    },
    {
     "name": "stderr",
     "output_type": "stream",
     "text": [
      "\r",
      " 17%|█████████████▌                                                                   | 20/120 [00:24<02:51,  1.72s/it]"
     ]
    },
    {
     "name": "stdout",
     "output_type": "stream",
     "text": [
      "observation = [-9.73169374e-01 -1.97916686e+00  1.81884614e+00  4.01341466e-03\n",
      "  2.42836587e-04  2.77582624e-04]\n"
     ]
    },
    {
     "name": "stderr",
     "output_type": "stream",
     "text": [
      "\r",
      " 18%|██████████████▏                                                                  | 21/120 [00:26<02:52,  1.74s/it]"
     ]
    },
    {
     "name": "stdout",
     "output_type": "stream",
     "text": [
      "observation = [ 1.13640328e+00  2.87403224e-01 -3.00847428e+00  3.55252647e-04\n",
      "  5.29197010e-02  7.89568352e-03]\n"
     ]
    },
    {
     "name": "stderr",
     "output_type": "stream",
     "text": [
      "\r",
      " 18%|██████████████▊                                                                  | 22/120 [00:28<02:56,  1.81s/it]"
     ]
    },
    {
     "name": "stdout",
     "output_type": "stream",
     "text": [
      "observation = [-7.49936207e-01 -8.27265676e-01  2.37333810e+00  3.67961376e-04\n",
      "  7.13335465e-03  6.04513270e-03]\n"
     ]
    },
    {
     "name": "stderr",
     "output_type": "stream",
     "text": [
      "\r",
      " 19%|███████████████▌                                                                 | 23/120 [00:30<03:02,  1.88s/it]"
     ]
    },
    {
     "name": "stdout",
     "output_type": "stream",
     "text": [
      "observation = [-1.36807315e+00 -2.36220739e+00  3.01102615e+00  2.30871155e-03\n",
      "  1.86864815e-04  5.21238482e-03]\n"
     ]
    },
    {
     "name": "stderr",
     "output_type": "stream",
     "text": [
      "\r",
      " 20%|████████████████▏                                                                | 24/120 [00:32<03:08,  1.96s/it]"
     ]
    },
    {
     "name": "stdout",
     "output_type": "stream",
     "text": [
      "observation = [-2.46992730e+00 -7.76515177e-01  1.53320865e-01  1.68020855e-05\n",
      "  3.14027876e-03  1.51128317e-03]\n"
     ]
    },
    {
     "name": "stderr",
     "output_type": "stream",
     "text": [
      "\r",
      " 21%|████████████████▉                                                                | 25/120 [00:34<03:13,  2.04s/it]"
     ]
    },
    {
     "name": "stdout",
     "output_type": "stream",
     "text": [
      "observation = [-1.38756281e+00 -1.35627864e+00  2.93042698e+00  7.47623074e-05\n",
      "  7.44661855e-05  1.36015486e-02]\n"
     ]
    },
    {
     "name": "stderr",
     "output_type": "stream",
     "text": [
      "\r",
      " 22%|█████████████████▌                                                               | 26/120 [00:37<03:20,  2.14s/it]"
     ]
    },
    {
     "name": "stdout",
     "output_type": "stream",
     "text": [
      "observation = [ 2.45147587e-01 -5.93598860e-01  2.96605225e+00  2.76246693e-04\n",
      "  4.39754825e-02  1.11341475e-02]\n"
     ]
    },
    {
     "name": "stderr",
     "output_type": "stream",
     "text": [
      "\r",
      " 22%|██████████████████▏                                                              | 27/120 [00:39<03:31,  2.28s/it]"
     ]
    },
    {
     "name": "stdout",
     "output_type": "stream",
     "text": [
      "observation = [-1.97195136e+00 -1.89606542e+00  1.10990606e+00  1.60439729e-05\n",
      "  3.15281479e-05  1.23370055e-04]\n"
     ]
    },
    {
     "name": "stderr",
     "output_type": "stream",
     "text": [
      "\r",
      " 23%|██████████████████▉                                                              | 28/120 [00:42<03:42,  2.42s/it]"
     ]
    },
    {
     "name": "stdout",
     "output_type": "stream",
     "text": [
      "observation = [ 6.17860948e-01 -1.93841619e+00  2.32717445e+00  1.71009356e-02\n",
      "  1.63711319e-02  1.11033050e-03]\n"
     ]
    },
    {
     "name": "stderr",
     "output_type": "stream",
     "text": [
      "\r",
      " 24%|███████████████████▌                                                             | 29/120 [00:45<03:52,  2.55s/it]"
     ]
    },
    {
     "name": "stdout",
     "output_type": "stream",
     "text": [
      "observation = [ 0.68145874  1.55033859 -3.05359768  0.02029965  0.12414709  0.01360155]\n"
     ]
    },
    {
     "name": "stderr",
     "output_type": "stream",
     "text": [
      "\r",
      " 25%|████████████████████▎                                                            | 30/120 [00:48<03:58,  2.65s/it]"
     ]
    },
    {
     "name": "stdout",
     "output_type": "stream",
     "text": [
      "observation = [-4.50943875e-01  1.33307494e+00  2.65667291e+00  2.15722369e-05\n",
      "  2.45245954e-02  3.08425138e-03]\n"
     ]
    },
    {
     "name": "stderr",
     "output_type": "stream",
     "text": [
      "\r",
      " 26%|████████████████████▉                                                            | 31/120 [00:51<04:02,  2.72s/it]"
     ]
    },
    {
     "name": "stdout",
     "output_type": "stream",
     "text": [
      "observation = [-9.03101673e-01  1.20067592e+00  2.48959038e+00  1.24227511e-04\n",
      "  1.90340830e-02  1.97392088e-03]\n"
     ]
    },
    {
     "name": "stderr",
     "output_type": "stream",
     "text": [
      "\r",
      " 27%|█████████████████████▌                                                           | 32/120 [00:54<04:10,  2.85s/it]"
     ]
    },
    {
     "name": "stdout",
     "output_type": "stream",
     "text": [
      "observation = [-1.59176775  0.9810202   2.34056559  0.01555063  0.00721567  0.00521238]\n"
     ]
    },
    {
     "name": "stderr",
     "output_type": "stream",
     "text": [
      "\r",
      " 28%|██████████████████████▎                                                          | 33/120 [00:57<04:15,  2.94s/it]"
     ]
    },
    {
     "name": "stdout",
     "output_type": "stream",
     "text": [
      "observation = [-2.13424959  2.08290073  2.26821959  0.04342396  0.01003181  0.00521238]\n"
     ]
    },
    {
     "name": "stderr",
     "output_type": "stream",
     "text": [
      "\r",
      " 28%|██████████████████████▉                                                          | 34/120 [01:00<04:20,  3.03s/it]"
     ]
    },
    {
     "name": "stdout",
     "output_type": "stream",
     "text": [
      "observation = [-1.71951767  1.93265744  1.93381806  0.07429914  0.0038548   0.00693957]\n"
     ]
    },
    {
     "name": "stderr",
     "output_type": "stream",
     "text": [
      "\r",
      " 29%|███████████████████████▋                                                         | 35/120 [01:04<04:24,  3.11s/it]"
     ]
    },
    {
     "name": "stdout",
     "output_type": "stream",
     "text": [
      "observation = [ 0.94807388 -2.33644732  1.69911676  0.0126583   0.00868684  0.00693957]\n"
     ]
    },
    {
     "name": "stderr",
     "output_type": "stream",
     "text": [
      "\r",
      " 30%|████████████████████████▎                                                        | 36/120 [01:07<04:29,  3.21s/it]"
     ]
    },
    {
     "name": "stdout",
     "output_type": "stream",
     "text": [
      "observation = [-1.06999574  1.50101735  2.72616594  0.00441112  0.01594682  0.00521238]\n"
     ]
    },
    {
     "name": "stderr",
     "output_type": "stream",
     "text": [
      "\r",
      " 31%|████████████████████████▉                                                        | 37/120 [01:11<04:38,  3.35s/it]"
     ]
    },
    {
     "name": "stdout",
     "output_type": "stream",
     "text": [
      "observation = [-5.39504149e-01  4.91455668e-01  2.39654767e+00  1.58866393e-03\n",
      "  5.97027761e-03  1.97392088e-03]\n"
     ]
    },
    {
     "name": "stderr",
     "output_type": "stream",
     "text": [
      "\r",
      " 32%|█████████████████████████▋                                                       | 38/120 [01:14<04:44,  3.47s/it]"
     ]
    },
    {
     "name": "stdout",
     "output_type": "stream",
     "text": [
      "observation = [-1.61603823e-01  3.63023010e-01  2.56123898e+00  1.16838042e-04\n",
      "  1.08122379e-02  4.44132198e-03]\n"
     ]
    },
    {
     "name": "stderr",
     "output_type": "stream",
     "text": [
      "\r",
      " 32%|██████████████████████████▎                                                      | 39/120 [01:18<04:47,  3.55s/it]"
     ]
    },
    {
     "name": "stdout",
     "output_type": "stream",
     "text": [
      "observation = [-1.35765100e-01  1.21815839e+00  2.43092547e+00  2.81189840e-02\n",
      "  4.19157781e-04  9.99297446e-03]\n"
     ]
    },
    {
     "name": "stderr",
     "output_type": "stream",
     "text": [
      "\r",
      " 33%|███████████████████████████                                                      | 40/120 [01:22<04:49,  3.62s/it]"
     ]
    },
    {
     "name": "stdout",
     "output_type": "stream",
     "text": [
      "observation = [1.23129320e-01 2.76060396e-01 2.40513370e+00 4.60506560e-05\n",
      " 1.98742330e-02 6.04513270e-03]\n"
     ]
    },
    {
     "name": "stderr",
     "output_type": "stream",
     "text": [
      "\r",
      " 34%|███████████████████████████▋                                                     | 41/120 [01:26<04:59,  3.79s/it]"
     ]
    },
    {
     "name": "stdout",
     "output_type": "stream",
     "text": [
      "observation = [7.27032021e-02 9.12332928e-02 1.99142302e+00 1.84982607e-02\n",
      " 1.01497923e-03 9.99297446e-03]\n"
     ]
    },
    {
     "name": "stderr",
     "output_type": "stream",
     "text": [
      "\r",
      " 35%|████████████████████████████▎                                                    | 42/120 [01:32<05:39,  4.36s/it]"
     ]
    },
    {
     "name": "stdout",
     "output_type": "stream",
     "text": [
      "observation = [0.0938346  0.08577288 2.27844179 0.00438533 0.01579044 0.00308425]\n"
     ]
    },
    {
     "name": "stderr",
     "output_type": "stream",
     "text": [
      "\r",
      " 36%|█████████████████████████████                                                    | 43/120 [01:38<06:17,  4.91s/it]"
     ]
    },
    {
     "name": "stdout",
     "output_type": "stream",
     "text": [
      "observation = [-2.97590135e-01  1.77331148e+00  1.91542215e+00  1.04119250e-03\n",
      "  1.88559616e-02  1.11033050e-03]\n"
     ]
    },
    {
     "name": "stderr",
     "output_type": "stream",
     "text": [
      "\r",
      " 37%|█████████████████████████████▋                                                   | 44/120 [01:43<06:05,  4.81s/it]"
     ]
    },
    {
     "name": "stdout",
     "output_type": "stream",
     "text": [
      "observation = [ 1.90030511e+00 -2.92210366e-01 -3.07309381e+00  9.94782676e-04\n",
      "  1.08720990e-01  1.77652879e-02]\n"
     ]
    },
    {
     "name": "stderr",
     "output_type": "stream",
     "text": [
      "\r",
      " 38%|██████████████████████████████▍                                                  | 45/120 [01:48<06:05,  4.87s/it]"
     ]
    },
    {
     "name": "stdout",
     "output_type": "stream",
     "text": [
      "observation = [-2.00213317e-01  1.53917275e-02  2.21950861e+00  5.67652987e-04\n",
      "  1.81694410e-02  7.89568352e-03]\n"
     ]
    },
    {
     "name": "stderr",
     "output_type": "stream",
     "text": [
      "\r",
      " 38%|███████████████████████████████                                                  | 46/120 [01:52<05:55,  4.81s/it]"
     ]
    },
    {
     "name": "stdout",
     "output_type": "stream",
     "text": [
      "observation = [ 5.88353072e-01  7.09680407e-01 -3.06958578e+00  3.53415628e-04\n",
      "  2.33416148e-02  1.23370055e-02]\n"
     ]
    },
    {
     "name": "stderr",
     "output_type": "stream",
     "text": [
      "\r",
      " 39%|███████████████████████████████▋                                                 | 47/120 [01:58<06:19,  5.20s/it]"
     ]
    },
    {
     "name": "stdout",
     "output_type": "stream",
     "text": [
      "observation = [5.31294549e-01 2.16194734e-01 2.79587584e+00 1.51356109e-02\n",
      " 9.28031633e-04 3.08425138e-03]\n"
     ]
    },
    {
     "name": "stderr",
     "output_type": "stream",
     "text": [
      "\r",
      " 40%|████████████████████████████████▍                                                | 48/120 [02:04<06:24,  5.35s/it]"
     ]
    },
    {
     "name": "stdout",
     "output_type": "stream",
     "text": [
      "observation = [-5.35526817e-01 -1.04797293e+00  1.13928132e+00  4.39164975e-04\n",
      "  6.06159354e-03  3.73194416e-03]\n"
     ]
    },
    {
     "name": "stderr",
     "output_type": "stream",
     "text": [
      "\r",
      " 41%|█████████████████████████████████                                                | 49/120 [02:10<06:31,  5.52s/it]"
     ]
    },
    {
     "name": "stdout",
     "output_type": "stream",
     "text": [
      "observation = [ 5.75787858e-01 -2.54272035e-02  2.71439100e+00  2.59395744e-03\n",
      "  2.57425009e-02  1.49277767e-02]\n"
     ]
    },
    {
     "name": "stderr",
     "output_type": "stream",
     "text": [
      "\r",
      " 42%|█████████████████████████████████▊                                               | 50/120 [02:16<06:37,  5.67s/it]"
     ]
    },
    {
     "name": "stdout",
     "output_type": "stream",
     "text": [
      "observation = [ 1.55167434 -1.90215148  2.48736357  0.02151835  0.03595242  0.01233701]\n"
     ]
    },
    {
     "name": "stderr",
     "output_type": "stream",
     "text": [
      "\r",
      " 42%|██████████████████████████████████▍                                              | 51/120 [02:22<06:45,  5.87s/it]"
     ]
    },
    {
     "name": "stdout",
     "output_type": "stream",
     "text": [
      "observation = [ 5.42663800e-01 -3.63316739e-01  2.34697645e+00  1.81758865e-03\n",
      "  2.32390395e-02  8.91348647e-03]\n"
     ]
    },
    {
     "name": "stderr",
     "output_type": "stream",
     "text": [
      "\r",
      " 43%|███████████████████████████████████                                              | 52/120 [02:29<06:50,  6.03s/it]"
     ]
    },
    {
     "name": "stdout",
     "output_type": "stream",
     "text": [
      "observation = [ 0.97102258 -1.5825254   2.25330988  0.00713647  0.00662232  0.01360155]\n"
     ]
    },
    {
     "name": "stderr",
     "output_type": "stream",
     "text": [
      "\r",
      " 44%|███████████████████████████████████▊                                             | 53/120 [02:36<06:57,  6.23s/it]"
     ]
    },
    {
     "name": "stdout",
     "output_type": "stream",
     "text": [
      "observation = [ 2.06577346e+00 -4.07306908e-01  3.05982155e+00  2.11094830e-04\n",
      "  8.26255249e-02  1.92765711e-02]\n"
     ]
    },
    {
     "name": "stderr",
     "output_type": "stream",
     "text": [
      "\r",
      " 45%|████████████████████████████████████▍                                            | 54/120 [02:42<07:02,  6.40s/it]"
     ]
    },
    {
     "name": "stdout",
     "output_type": "stream",
     "text": [
      "observation = [ 2.79445059 -0.12124315 -3.00717184  0.04948692  0.02507891  0.00373194]\n"
     ]
    },
    {
     "name": "stderr",
     "output_type": "stream",
     "text": [
      "\r",
      " 46%|█████████████████████████████████████▏                                           | 55/120 [02:49<07:08,  6.60s/it]"
     ]
    },
    {
     "name": "stdout",
     "output_type": "stream",
     "text": [
      "observation = [1.44123340e-01 1.34921762e-01 2.18347893e+00 1.67728100e-02\n",
      " 2.96314335e-03 7.71062844e-04]\n"
     ]
    },
    {
     "name": "stderr",
     "output_type": "stream",
     "text": [
      "\r",
      " 47%|█████████████████████████████████████▊                                           | 56/120 [02:57<07:14,  6.79s/it]"
     ]
    },
    {
     "name": "stdout",
     "output_type": "stream",
     "text": [
      "observation = [5.08947069e-01 2.93179024e-02 2.31921104e+00 1.83162721e-03\n",
      " 1.99267390e-02 6.04513270e-03]\n"
     ]
    },
    {
     "name": "stderr",
     "output_type": "stream",
     "text": [
      "\r",
      " 48%|██████████████████████████████████████▍                                          | 57/120 [03:04<07:24,  7.06s/it]"
     ]
    },
    {
     "name": "stdout",
     "output_type": "stream",
     "text": [
      "observation = [ 2.81390319e+00 -2.34561959e-01 -3.03287425e+00  2.81012365e-03\n",
      "  1.71687455e-01  2.08495393e-02]\n"
     ]
    },
    {
     "name": "stderr",
     "output_type": "stream",
     "text": [
      "\r",
      " 48%|███████████████████████████████████████▏                                         | 58/120 [03:13<07:40,  7.43s/it]"
     ]
    },
    {
     "name": "stdout",
     "output_type": "stream",
     "text": [
      "observation = [-6.46351984e-01 -8.58656292e-01  7.89289830e-01  1.78419945e-03\n",
      "  1.95601965e-03  1.23370055e-04]\n"
     ]
    },
    {
     "name": "stderr",
     "output_type": "stream",
     "text": [
      "\r",
      " 49%|███████████████████████████████████████▊                                         | 59/120 [03:21<07:49,  7.70s/it]"
     ]
    },
    {
     "name": "stdout",
     "output_type": "stream",
     "text": [
      "observation = [6.15534422e-01 3.27371470e-01 2.55707539e+00 7.37726436e-04\n",
      " 1.02096673e-02 6.04513270e-03]\n"
     ]
    },
    {
     "name": "stderr",
     "output_type": "stream",
     "text": [
      "\r",
      " 50%|████████████████████████████████████████▌                                        | 60/120 [03:30<08:02,  8.05s/it]"
     ]
    },
    {
     "name": "stdout",
     "output_type": "stream",
     "text": [
      "observation = [ 1.2337848  -0.7973746   2.84895489  0.00912004  0.02428109  0.01113415]\n"
     ]
    },
    {
     "name": "stderr",
     "output_type": "stream",
     "text": [
      "\r",
      " 51%|█████████████████████████████████████████▏                                       | 61/120 [03:39<08:13,  8.36s/it]"
     ]
    },
    {
     "name": "stdout",
     "output_type": "stream",
     "text": [
      "observation = [3.09154295 2.19434799 3.0368585  0.18009675 0.05186037 0.02418053]\n"
     ]
    },
    {
     "name": "stderr",
     "output_type": "stream",
     "text": [
      "\r",
      " 52%|█████████████████████████████████████████▊                                       | 62/120 [03:49<08:42,  9.00s/it]"
     ]
    },
    {
     "name": "stdout",
     "output_type": "stream",
     "text": [
      "observation = [ 6.31022039e-01 -3.75049917e+00 -1.66715370e+00  3.84296853e-03\n",
      "  7.43557751e-04  1.11033050e-03]\n"
     ]
    },
    {
     "name": "stderr",
     "output_type": "stream",
     "text": [
      "\r",
      " 52%|██████████████████████████████████████████▌                                      | 63/120 [04:01<09:24,  9.90s/it]"
     ]
    },
    {
     "name": "stdout",
     "output_type": "stream",
     "text": [
      "observation = [ 4.49426071e-01 -7.51336079e-03 -4.22880001e-01  2.16583886e-03\n",
      "  1.94962507e-02  1.23370055e-04]\n"
     ]
    },
    {
     "name": "stderr",
     "output_type": "stream",
     "text": [
      "\r",
      " 53%|███████████████████████████████████████████▏                                     | 64/120 [04:12<09:25, 10.09s/it]"
     ]
    },
    {
     "name": "stdout",
     "output_type": "stream",
     "text": [
      "observation = [3.25487195 1.83859308 2.88403482 0.19381427 0.09259498 0.02775826]\n"
     ]
    },
    {
     "name": "stderr",
     "output_type": "stream",
     "text": [
      "\r",
      " 54%|███████████████████████████████████████████▉                                     | 65/120 [04:23<09:39, 10.53s/it]"
     ]
    },
    {
     "name": "stdout",
     "output_type": "stream",
     "text": [
      "observation = [ 2.39919064 -1.91406356  2.95716456  0.01342235  0.0156436   0.01776529]\n"
     ]
    },
    {
     "name": "stderr",
     "output_type": "stream",
     "text": [
      "\r",
      " 55%|████████████████████████████████████████████▌                                    | 66/120 [04:34<09:23, 10.43s/it]"
     ]
    },
    {
     "name": "stdout",
     "output_type": "stream",
     "text": [
      "observation = [ 3.23789256 -0.44643414  3.01772182  0.04973428  0.08220499  0.00521238]\n"
     ]
    },
    {
     "name": "stderr",
     "output_type": "stream",
     "text": [
      "\r",
      " 56%|█████████████████████████████████████████████▏                                   | 67/120 [04:45<09:22, 10.61s/it]"
     ]
    },
    {
     "name": "stdout",
     "output_type": "stream",
     "text": [
      "observation = [ 2.44091469  0.31664462 -2.8831173   0.01007892  0.10844045  0.01233701]\n"
     ]
    },
    {
     "name": "stderr",
     "output_type": "stream",
     "text": [
      "\r",
      " 57%|█████████████████████████████████████████████▉                                   | 68/120 [04:57<09:34, 11.05s/it]"
     ]
    },
    {
     "name": "stdout",
     "output_type": "stream",
     "text": [
      "observation = [ 0.80416489 -0.94032088  2.30335439  0.00431787  0.02213325  0.00891349]\n"
     ]
    },
    {
     "name": "stderr",
     "output_type": "stream",
     "text": [
      "\r",
      " 57%|██████████████████████████████████████████████▌                                  | 69/120 [05:08<09:28, 11.16s/it]"
     ]
    },
    {
     "name": "stdout",
     "output_type": "stream",
     "text": [
      "observation = [ 0.76781043  0.14054853 -3.0051746   0.06295748  0.02183197  0.00444132]\n"
     ]
    },
    {
     "name": "stderr",
     "output_type": "stream",
     "text": [
      "\r",
      " 58%|███████████████████████████████████████████████▎                                 | 70/120 [05:20<09:25, 11.32s/it]"
     ]
    },
    {
     "name": "stdout",
     "output_type": "stream",
     "text": [
      "observation = [0.35850339 0.32839581 1.81124648 0.00240779 0.03103285 0.00693957]\n"
     ]
    },
    {
     "name": "stderr",
     "output_type": "stream",
     "text": [
      "\r",
      " 59%|███████████████████████████████████████████████▉                                 | 71/120 [05:32<09:22, 11.48s/it]"
     ]
    },
    {
     "name": "stdout",
     "output_type": "stream",
     "text": [
      "observation = [ 3.32045361  1.97122701 -3.05207243  0.14226694  0.02679411  0.01927657]\n"
     ]
    },
    {
     "name": "stderr",
     "output_type": "stream",
     "text": [
      "\r",
      " 60%|████████████████████████████████████████████████▌                                | 72/120 [05:44<09:20, 11.68s/it]"
     ]
    },
    {
     "name": "stdout",
     "output_type": "stream",
     "text": [
      "observation = [ 3.27971723  0.36078879 -3.13677879  0.06969962  0.02784903  0.01492778]\n"
     ]
    },
    {
     "name": "stderr",
     "output_type": "stream",
     "text": [
      "\r",
      " 61%|█████████████████████████████████████████████████▎                               | 73/120 [05:56<09:21, 11.96s/it]"
     ]
    },
    {
     "name": "stdout",
     "output_type": "stream",
     "text": [
      "observation = [-0.12135267 -0.29511653  1.62475075  0.02869843  0.00357629  0.01631569]\n"
     ]
    },
    {
     "name": "stderr",
     "output_type": "stream",
     "text": [
      "\r",
      " 62%|█████████████████████████████████████████████████▉                               | 74/120 [06:10<09:26, 12.32s/it]"
     ]
    },
    {
     "name": "stdout",
     "output_type": "stream",
     "text": [
      "observation = [ 1.82200182  2.73871678 -3.1396533   0.02643335  0.03800626  0.00373194]\n"
     ]
    },
    {
     "name": "stderr",
     "output_type": "stream",
     "text": [
      "\r",
      " 62%|██████████████████████████████████████████████████▋                              | 75/120 [06:23<09:33, 12.75s/it]"
     ]
    },
    {
     "name": "stdout",
     "output_type": "stream",
     "text": [
      "observation = [2.02825754 1.26477524 2.98816344 0.0032311  0.13741188 0.01492778]\n"
     ]
    },
    {
     "name": "stderr",
     "output_type": "stream",
     "text": [
      "\r",
      " 63%|███████████████████████████████████████████████████▎                             | 76/120 [06:37<09:37, 13.13s/it]"
     ]
    },
    {
     "name": "stdout",
     "output_type": "stream",
     "text": [
      "observation = [ 1.22640709e+00  1.56125801e+00 -2.94963397e+00  1.45254174e-04\n",
      "  4.20894144e-02  1.23370055e-02]\n"
     ]
    },
    {
     "name": "stderr",
     "output_type": "stream",
     "text": [
      "\r",
      " 64%|███████████████████████████████████████████████████▉                             | 77/120 [06:51<09:35, 13.38s/it]"
     ]
    },
    {
     "name": "stdout",
     "output_type": "stream",
     "text": [
      "observation = [6.79400690e-01 1.72187494e+00 2.76264705e+00 2.13747784e-05\n",
      " 1.99827604e-02 6.93956559e-03]\n"
     ]
    },
    {
     "name": "stderr",
     "output_type": "stream",
     "text": [
      "\r",
      " 65%|████████████████████████████████████████████████████▋                            | 78/120 [07:06<09:35, 13.71s/it]"
     ]
    },
    {
     "name": "stdout",
     "output_type": "stream",
     "text": [
      "observation = [1.08558310e+00 1.90138871e+00 2.90948579e+00 3.93216526e-05\n",
      " 3.01429674e-02 8.91348647e-03]\n"
     ]
    },
    {
     "name": "stderr",
     "output_type": "stream",
     "text": [
      "\r",
      " 66%|█████████████████████████████████████████████████████▎                           | 79/120 [07:20<09:32, 13.96s/it]"
     ]
    },
    {
     "name": "stdout",
     "output_type": "stream",
     "text": [
      "observation = [2.16675073 2.09956254 3.08660537 0.18771223 0.01373946 0.02593855]\n"
     ]
    },
    {
     "name": "stderr",
     "output_type": "stream",
     "text": [
      "\r",
      " 67%|██████████████████████████████████████████████████████                           | 80/120 [07:35<09:27, 14.19s/it]"
     ]
    },
    {
     "name": "stdout",
     "output_type": "stream",
     "text": [
      "observation = [ 3.44406837  1.9067365  -3.0047357   0.20540217  0.05961012  0.02418053]\n"
     ]
    },
    {
     "name": "stderr",
     "output_type": "stream",
     "text": [
      "\r",
      " 68%|██████████████████████████████████████████████████████▋                          | 81/120 [07:50<09:24, 14.49s/it]"
     ]
    },
    {
     "name": "stdout",
     "output_type": "stream",
     "text": [
      "observation = [ 2.35369283 -0.75902141 -3.09175876  0.04375899  0.06731024  0.00521238]\n"
     ]
    },
    {
     "name": "stderr",
     "output_type": "stream",
     "text": [
      "\r",
      " 68%|███████████████████████████████████████████████████████▎                         | 82/120 [08:07<09:37, 15.19s/it]"
     ]
    },
    {
     "name": "stdout",
     "output_type": "stream",
     "text": [
      "observation = [0.08429039 0.21460568 0.68670878 0.00267369 0.01304133 0.00151128]\n"
     ]
    },
    {
     "name": "stderr",
     "output_type": "stream",
     "text": [
      "\r",
      " 69%|████████████████████████████████████████████████████████                         | 83/120 [08:24<09:38, 15.63s/it]"
     ]
    },
    {
     "name": "stdout",
     "output_type": "stream",
     "text": [
      "observation = [ 8.08185378e-01  3.36187036e+00 -2.88248461e+00  2.72979115e-03\n",
      "  2.54461657e-02  7.89568352e-03]\n"
     ]
    },
    {
     "name": "stderr",
     "output_type": "stream",
     "text": [
      "\r",
      " 70%|████████████████████████████████████████████████████████▋                        | 84/120 [08:48<11:00, 18.34s/it]"
     ]
    },
    {
     "name": "stdout",
     "output_type": "stream",
     "text": [
      "observation = [ 3.42168572 -0.37938418 -2.90628971  0.06193224  0.11185023  0.00444132]\n"
     ]
    },
    {
     "name": "stderr",
     "output_type": "stream",
     "text": [
      "\r",
      " 71%|█████████████████████████████████████████████████████████▍                       | 85/120 [09:19<12:46, 21.91s/it]"
     ]
    },
    {
     "name": "stdout",
     "output_type": "stream",
     "text": [
      "observation = [ 1.14259457e+00 -4.49257939e-01  2.75033606e+00  2.85424307e-04\n",
      "  5.00547582e-02  1.63156898e-02]\n"
     ]
    },
    {
     "name": "stderr",
     "output_type": "stream",
     "text": [
      "\r",
      " 72%|██████████████████████████████████████████████████████████                       | 86/120 [09:50<14:02, 24.79s/it]"
     ]
    },
    {
     "name": "stdout",
     "output_type": "stream",
     "text": [
      "observation = [0.57464616 1.03079519 2.23594617 0.0131184  0.03385905 0.00999297]\n"
     ]
    },
    {
     "name": "stderr",
     "output_type": "stream",
     "text": [
      "\r",
      " 72%|██████████████████████████████████████████████████████████▋                      | 87/120 [11:39<27:33, 50.12s/it]"
     ]
    },
    {
     "name": "stdout",
     "output_type": "stream",
     "text": [
      "observation = [1.63898727e+00 1.13438265e+00 2.25812743e+00 2.34517620e-02\n",
      " 1.44098706e-02 1.97392088e-03]\n"
     ]
    },
    {
     "name": "stderr",
     "output_type": "stream",
     "text": [
      "\r",
      " 73%|███████████████████████████████████████████████████████████▍                     | 88/120 [14:27<45:35, 85.48s/it]"
     ]
    },
    {
     "name": "stdout",
     "output_type": "stream",
     "text": [
      "observation = [1.53216899e+00 7.78733023e-01 2.61112779e+00 6.38059086e-04\n",
      " 6.79749782e-02 9.99297446e-03]\n"
     ]
    },
    {
     "name": "stderr",
     "output_type": "stream",
     "text": [
      "\r",
      " 74%|█████████████████████████████████████████████████████████▊                    | 89/120 [17:58<1:03:33, 123.03s/it]"
     ]
    },
    {
     "name": "stdout",
     "output_type": "stream",
     "text": [
      "observation = [1.78656044 0.67837925 2.56243436 0.01388829 0.04203472 0.00604513]\n"
     ]
    },
    {
     "name": "stderr",
     "output_type": "stream",
     "text": [
      "\r",
      " 75%|██████████████████████████████████████████████████████████▌                   | 90/120 [22:15<1:21:39, 163.32s/it]"
     ]
    },
    {
     "name": "stdout",
     "output_type": "stream",
     "text": [
      "observation = [1.53248399 1.13910852 2.81260777 0.03032531 0.00525021 0.00308425]\n"
     ]
    },
    {
     "name": "stderr",
     "output_type": "stream",
     "text": [
      "\r",
      " 76%|███████████████████████████████████████████████████████████▏                  | 91/120 [26:45<1:34:21, 195.24s/it]"
     ]
    },
    {
     "name": "stdout",
     "output_type": "stream",
     "text": [
      "observation = [-1.46450787e-01 -1.02347425e+00  4.73780811e-01  2.88163464e-04\n",
      "  1.13331253e-02  1.97392088e-03]\n"
     ]
    },
    {
     "name": "stderr",
     "output_type": "stream",
     "text": [
      "\r",
      " 77%|███████████████████████████████████████████████████████████▊                  | 92/120 [31:58<1:47:37, 230.62s/it]"
     ]
    },
    {
     "name": "stdout",
     "output_type": "stream",
     "text": [
      "observation = [1.79654637e+00 8.25724533e-01 2.49988963e+00 4.28809130e-02\n",
      " 6.26616683e-03 1.51128317e-03]\n"
     ]
    },
    {
     "name": "stderr",
     "output_type": "stream",
     "text": [
      "\r",
      " 78%|████████████████████████████████████████████████████████████▍                 | 93/120 [37:45<1:59:28, 265.49s/it]"
     ]
    },
    {
     "name": "stdout",
     "output_type": "stream",
     "text": [
      "observation = [1.14617936 0.83206326 1.94832684 0.00277198 0.02182831 0.00308425]\n"
     ]
    },
    {
     "name": "stderr",
     "output_type": "stream",
     "text": [
      "\r",
      " 78%|█████████████████████████████████████████████████████████████                 | 94/120 [44:15<2:11:14, 302.87s/it]"
     ]
    },
    {
     "name": "stdout",
     "output_type": "stream",
     "text": [
      "observation = [ 1.00538925 -1.21889589  3.03952888  0.01378842  0.02414038  0.00444132]\n"
     ]
    },
    {
     "name": "stderr",
     "output_type": "stream",
     "text": [
      "\r",
      " 79%|█████████████████████████████████████████████████████████████▊                | 95/120 [49:08<2:04:57, 299.88s/it]"
     ]
    },
    {
     "name": "stdout",
     "output_type": "stream",
     "text": [
      "observation = [2.17892092 2.71573723 3.10161425 0.20666438 0.02230597 0.02418053]\n"
     ]
    },
    {
     "name": "stderr",
     "output_type": "stream",
     "text": [
      "\r",
      " 80%|██████████████████████████████████████████████████████████████▍               | 96/120 [49:54<1:29:28, 223.67s/it]"
     ]
    },
    {
     "name": "stdout",
     "output_type": "stream",
     "text": [
      "observation = [ 2.90900569e+00  2.68498271e+00 -3.01232996e+00  1.05207526e-01\n",
      "  2.55019319e-04  1.36015486e-02]\n"
     ]
    },
    {
     "name": "stderr",
     "output_type": "stream",
     "text": [
      "\r",
      " 81%|███████████████████████████████████████████████████████████████               | 97/120 [50:44<1:05:43, 171.45s/it]"
     ]
    },
    {
     "name": "stdout",
     "output_type": "stream",
     "text": [
      "observation = [ 0.90945605 -1.05281707  2.71264121  0.01623661  0.02252179  0.00693957]\n"
     ]
    },
    {
     "name": "stderr",
     "output_type": "stream",
     "text": [
      "\r",
      " 82%|█████████████████████████████████████████████████████████████████▎              | 98/120 [51:33<49:29, 134.98s/it]"
     ]
    },
    {
     "name": "stdout",
     "output_type": "stream",
     "text": [
      "observation = [ 1.89249272e+00  3.27231968e+00 -1.25540475e+00  7.36701534e-04\n",
      "  1.37835592e-01  1.11033050e-03]\n"
     ]
    },
    {
     "name": "stderr",
     "output_type": "stream",
     "text": [
      "\r",
      " 82%|██████████████████████████████████████████████████████████████████              | 99/120 [52:22<38:08, 108.99s/it]"
     ]
    },
    {
     "name": "stdout",
     "output_type": "stream",
     "text": [
      "observation = [ 1.15436347 -1.12892903  2.54022391  0.01619041  0.03220383  0.00789568]\n"
     ]
    },
    {
     "name": "stderr",
     "output_type": "stream",
     "text": [
      "\r",
      " 83%|██████████████████████████████████████████████████████████████████▋             | 100/120 [53:15<30:46, 92.31s/it]"
     ]
    },
    {
     "name": "stdout",
     "output_type": "stream",
     "text": [
      "observation = [ 3.03838496e+00  2.83198170e+00 -1.60408742e+00  1.66735844e-04\n",
      "  2.00224272e-01  7.71062844e-04]\n"
     ]
    },
    {
     "name": "stderr",
     "output_type": "stream",
     "text": [
      "\r",
      " 84%|███████████████████████████████████████████████████████████████████▎            | 101/120 [54:08<25:26, 80.32s/it]"
     ]
    },
    {
     "name": "stdout",
     "output_type": "stream",
     "text": [
      "observation = [ 2.89207587  2.3576314  -2.93283713  0.18305229  0.00889275  0.02084954]\n"
     ]
    },
    {
     "name": "stderr",
     "output_type": "stream",
     "text": [
      "\r",
      " 85%|████████████████████████████████████████████████████████████████████            | 102/120 [55:04<21:58, 73.25s/it]"
     ]
    },
    {
     "name": "stdout",
     "output_type": "stream",
     "text": [
      "observation = [ 2.54323804 -0.76801229 -3.05909636  0.04390464  0.06271115  0.00444132]\n"
     ]
    },
    {
     "name": "stderr",
     "output_type": "stream",
     "text": [
      "\r",
      " 86%|████████████████████████████████████████████████████████████████████▋           | 103/120 [56:04<19:34, 69.07s/it]"
     ]
    },
    {
     "name": "stdout",
     "output_type": "stream",
     "text": [
      "observation = [ 4.29152776  0.85413779 -3.12527134  0.12714196  0.0432998   0.02084954]\n"
     ]
    },
    {
     "name": "stderr",
     "output_type": "stream",
     "text": [
      "\r",
      " 87%|█████████████████████████████████████████████████████████████████████▎          | 104/120 [57:01<17:30, 65.67s/it]"
     ]
    },
    {
     "name": "stdout",
     "output_type": "stream",
     "text": [
      "observation = [ 3.46035969  2.61678115 -2.86318057  0.05372633  0.01796045  0.00789568]\n"
     ]
    },
    {
     "name": "stderr",
     "output_type": "stream",
     "text": [
      "\r",
      " 88%|██████████████████████████████████████████████████████████████████████          | 105/120 [57:56<15:34, 62.31s/it]"
     ]
    },
    {
     "name": "stdout",
     "output_type": "stream",
     "text": [
      "observation = [2.12241480e+00 4.07482510e+00 2.49247054e+00 2.92967916e-03\n",
      " 6.14294711e-02 4.44132198e-03]\n"
     ]
    },
    {
     "name": "stderr",
     "output_type": "stream",
     "text": [
      "\r",
      " 88%|██████████████████████████████████████████████████████████████████████▋         | 106/120 [58:48<13:51, 59.36s/it]"
     ]
    },
    {
     "name": "stdout",
     "output_type": "stream",
     "text": [
      "observation = [ 2.79208303 -0.52103038 -2.85243748  0.04776809  0.07504763  0.00373194]\n"
     ]
    },
    {
     "name": "stderr",
     "output_type": "stream",
     "text": [
      "\r",
      " 89%|███████████████████████████████████████████████████████████████████████▎        | 107/120 [59:41<12:24, 57.30s/it]"
     ]
    },
    {
     "name": "stdout",
     "output_type": "stream",
     "text": [
      "observation = [ 1.17651928 -0.75565146  2.6884804   0.0231259   0.03096072  0.00789568]\n"
     ]
    },
    {
     "name": "stderr",
     "output_type": "stream",
     "text": [
      "\r",
      " 90%|██████████████████████████████████████████████████████████████████████▏       | 108/120 [1:00:45<11:53, 59.43s/it]"
     ]
    },
    {
     "name": "stdout",
     "output_type": "stream",
     "text": [
      "observation = [2.62111750e+00 3.18259342e+00 3.09659399e+00 1.83257351e-03\n",
      " 1.56251834e-01 1.23370055e-02]\n"
     ]
    },
    {
     "name": "stderr",
     "output_type": "stream",
     "text": [
      "\r",
      " 91%|██████████████████████████████████████████████████████████████████████▊       | 109/120 [1:01:48<11:04, 60.39s/it]"
     ]
    },
    {
     "name": "stdout",
     "output_type": "stream",
     "text": [
      "observation = [3.15689551e+00 4.55419304e+00 1.25125552e+00 7.58968363e-04\n",
      " 1.10233931e-01 1.11033050e-03]\n"
     ]
    },
    {
     "name": "stderr",
     "output_type": "stream",
     "text": [
      "\r",
      " 92%|███████████████████████████████████████████████████████████████████████▌      | 110/120 [1:02:47<10:01, 60.15s/it]"
     ]
    },
    {
     "name": "stdout",
     "output_type": "stream",
     "text": [
      "observation = [0.89540598 1.20776039 1.57609771 0.00243602 0.04277347 0.00444132]\n"
     ]
    },
    {
     "name": "stderr",
     "output_type": "stream",
     "text": [
      "\r",
      " 92%|████████████████████████████████████████████████████████████████████████▏     | 111/120 [1:03:54<09:19, 62.12s/it]"
     ]
    },
    {
     "name": "stdout",
     "output_type": "stream",
     "text": [
      "observation = [ 1.85607777e+00  1.68868332e+00 -8.48691426e-01  5.65942583e-03\n",
      "  6.84470125e-02  4.93480220e-04]\n"
     ]
    },
    {
     "name": "stderr",
     "output_type": "stream",
     "text": [
      "\r",
      " 93%|████████████████████████████████████████████████████████████████████████▊     | 112/120 [1:05:01<08:28, 63.50s/it]"
     ]
    },
    {
     "name": "stdout",
     "output_type": "stream",
     "text": [
      "observation = [3.28084640e+00 3.92474770e+00 1.19261289e+00 2.48485938e-02\n",
      " 4.96772684e-02 2.77582624e-04]\n"
     ]
    },
    {
     "name": "stderr",
     "output_type": "stream",
     "text": [
      "\r",
      " 94%|████████████████████████████████████████████████████████████████████████▌    | 113/120 [1:09:28<14:31, 124.51s/it]"
     ]
    },
    {
     "name": "stdout",
     "output_type": "stream",
     "text": [
      "observation = [2.27451851e+00 3.95214651e+00 2.53469453e+00 1.85174385e-02\n",
      " 4.02321925e-02 3.08425138e-03]\n"
     ]
    },
    {
     "name": "stderr",
     "output_type": "stream",
     "text": [
      "\r",
      " 95%|█████████████████████████████████████████████████████████████████████████▏   | 114/120 [1:17:03<22:22, 223.68s/it]"
     ]
    },
    {
     "name": "stdout",
     "output_type": "stream",
     "text": [
      "observation = [-2.61702810e-01 -3.46640829e-01  4.49466348e-01  1.83964426e-02\n",
      "  3.29100298e-04  2.96396557e-02]\n"
     ]
    },
    {
     "name": "stderr",
     "output_type": "stream",
     "text": [
      "\r",
      " 96%|█████████████████████████████████████████████████████████████████████████▊   | 115/120 [1:18:21<14:59, 179.91s/it]"
     ]
    },
    {
     "name": "stdout",
     "output_type": "stream",
     "text": [
      "observation = [ 1.56121719 -0.79343842  3.09559575  0.02679936  0.02773248  0.00444132]\n"
     ]
    },
    {
     "name": "stderr",
     "output_type": "stream",
     "text": [
      "\r",
      " 97%|██████████████████████████████████████████████████████████████████████████▍  | 116/120 [1:19:30<09:47, 146.78s/it]"
     ]
    },
    {
     "name": "stdout",
     "output_type": "stream",
     "text": [
      "observation = [2.91246795e+00 1.46744192e+00 1.57893872e-01 3.31475464e-03\n",
      " 8.01525539e-02 2.77582624e-04]\n"
     ]
    },
    {
     "name": "stderr",
     "output_type": "stream",
     "text": [
      "\r",
      " 98%|███████████████████████████████████████████████████████████████████████████  | 117/120 [1:20:46<06:17, 125.68s/it]"
     ]
    },
    {
     "name": "stdout",
     "output_type": "stream",
     "text": [
      "observation = [1.75008228e+00 3.72178872e-01 8.86136227e-01 4.08172180e-03\n",
      " 3.34342881e-02 1.51128317e-03]\n"
     ]
    },
    {
     "name": "stderr",
     "output_type": "stream",
     "text": [
      "\r",
      " 98%|███████████████████████████████████████████████████████████████████████████▋ | 118/120 [1:21:58<03:38, 109.48s/it]"
     ]
    },
    {
     "name": "stdout",
     "output_type": "stream",
     "text": [
      "observation = [ 3.61942504e+00 -3.64045864e-01 -3.03813641e+00  6.69684174e-02\n",
      "  5.44206547e-02  3.08425138e-03]\n"
     ]
    },
    {
     "name": "stderr",
     "output_type": "stream",
     "text": [
      "\r",
      " 99%|█████████████████████████████████████████████████████████████████████████████▎| 119/120 [1:23:12<01:38, 98.91s/it]"
     ]
    },
    {
     "name": "stdout",
     "output_type": "stream",
     "text": [
      "observation = [ 3.32196253e+00  2.17829186e+00 -6.28908926e-02  1.34995246e-02\n",
      "  5.00945698e-02  1.23370055e-04]\n"
     ]
    },
    {
     "name": "stderr",
     "output_type": "stream",
     "text": [
      "100%|██████████████████████████████████████████████████████████████████████████████| 120/120 [1:24:32<00:00, 42.27s/it]"
     ]
    },
    {
     "name": "stdout",
     "output_type": "stream",
     "text": [
      "observation = [ 2.18949130e+00  2.02937432e+00 -5.51194027e-01  1.18089245e-03\n",
      "  1.11993722e-01  0.00000000e+00]\n"
     ]
    },
    {
     "name": "stderr",
     "output_type": "stream",
     "text": [
      "\n"
     ]
    }
   ],
   "source": [
    "num_iter=120\n",
    "\n",
    "position_result=[]\n",
    "observation_result=[]\n",
    "gpr_list=[[0 for i in range(num_action)] for j in range(N+1)]\n",
    "\n",
    "best_r=-10000\n",
    "best_obs=[]\n",
    "best_pos=[[] for i in range(num_system)]\n",
    "best_u=[]\n",
    "\n",
    "for iterr in tqdm(range(num_iter)):\n",
    "    #initialize\n",
    "    random_pos=np.random.rand(3)-np.array([0.5,0.5,0.5])\n",
    "    random_pos[0]=random_pos[0]/5\n",
    "    random_pos[1]=random_pos[1]/5\n",
    "    random_pos[2]=random_pos[2]*np.pi\n",
    "    \n",
    "    \n",
    "    position=np.array([[-2+random_pos[0],-2+random_pos[1],0+random_pos[2]] for _ in range(num_system)])\n",
    "    \n",
    "    observation=observe(position)\n",
    "    u_t=[]\n",
    "    r_t=[]\n",
    "    observation_t=[observation]\n",
    "    position_t=[[] for i in range(num_system)]\n",
    "    \n",
    "    \n",
    "    history_target=[0 for i in range(num_action)]\n",
    "    \n",
    "    '''\n",
    "    coeff=[]\n",
    "    for i in range(N):\n",
    "        coeff.append((np.random.random()-0.5)/100+0.8**(N-i))\n",
    "    coeff.append(1)\n",
    "    #print(coeff)\n",
    "    '''\n",
    "    \n",
    "    for time in range(N+1):\n",
    "        if iterr<5:\n",
    "            #candidates_u=[]\n",
    "            u_k = decide_u(gpr_list[time],flags,observation,init=True)\n",
    "            position_new = next_step(position,action_set[u_k])\n",
    "            observation_new = observe(position_new)\n",
    "            r = reward(observation_new)\n",
    "            r_t.append(r)\n",
    "            \n",
    "            if flags[u_k]:\n",
    "                history_su[u_k] = observation.reshape(-1,obs_para)\n",
    "                history_su_next[u_k] = observation_new.reshape(-1,obs_para)  \n",
    "                history_r[u_k] = np.array([r])\n",
    "                flags[u_k]=False\n",
    "            else:\n",
    "                history_su[u_k] = np.concatenate((history_su[u_k], observation.reshape(-1,obs_para)))\n",
    "                history_su_next[u_k] = np.concatenate((history_su_next[u_k], observation_new.reshape(-1,obs_para)))\n",
    "                history_r[u_k] = np.concatenate((history_r[u_k],np.array([r])))\n",
    "            \n",
    "            \n",
    "            observation=observation_new\n",
    "            position=position_new\n",
    "            u_t.append(u_k)\n",
    "            observation_t.append(observation)\n",
    "            for i in range(num_system):\n",
    "                position_t[i].append(position[i])\n",
    "            \n",
    "            \n",
    "        else:\n",
    "            #candidates_u=[]\n",
    "            u_k = decide_u(gpr_list[time],flags,observation)\n",
    "            #print(candidates_u)\n",
    "            #u_k, explo = decide_u(observation,np.array(candidates_u))\n",
    "            \n",
    "            position_new = next_step(position,action_set[u_k])\n",
    "            observation_new = observe(position_new)\n",
    "            r = reward(observation_new)\n",
    "            r_t.append(r)\n",
    "            \n",
    "            history_su[u_k] = np.concatenate((history_su[u_k], observation.reshape(-1,obs_para)))\n",
    "            history_r[u_k] = np.concatenate((history_r[u_k],np.array([r])))\n",
    "            history_su_next[u_k] = np.concatenate((history_su_next[u_k], observation_new.reshape(-1,obs_para)))\n",
    "            \n",
    "            observation=observation_new\n",
    "            position=position_new\n",
    "            u_t.append(u_k)\n",
    "            observation_t.append(observation)\n",
    "            for i in range(num_system):\n",
    "                position_t[i].append(position[i])\n",
    "            \n",
    "            \n",
    "            \n",
    "            \n",
    "    #update\n",
    "    #calculate cumulative r \n",
    "    \n",
    "\n",
    "    '''\n",
    "    for j in range(6):\n",
    "        history_target[j]=last_coeff*history_r[u_t[-i]]\n",
    "        gpr_list[-i][j]=GaussianProcessRegressor(alpha=1e-4).fit(history_su[j], history_target[j])\n",
    "    '''  \n",
    "         \n",
    "    #TODO\n",
    "       \n",
    "    for i in range(N+1):\n",
    "        if i==1:\n",
    "            for j in range(num_action):\n",
    "                history_target[j]=coeff[-1]*history_r[j]\n",
    "                gpr_list[-i][j]=GaussianProcessRegressor(alpha=1e-8).fit(np.array(history_su[j]).reshape(-1,obs_para), history_target[j].reshape(-1,1))\n",
    "            \n",
    "        elif i>1:\n",
    "            for j in range(num_action):\n",
    "                history_tar=[]\n",
    "                for k in range(history_r[j].shape[0]):\n",
    "                    history_tar.append(coeff[N+1-i]*history_r[j][k]+value_func(gpr_list[-i+1],flags_t[-i+1],history_su_next[j][k]))\n",
    "                gpr_list[-i][j]=GaussianProcessRegressor(alpha=1e-8).fit(np.array(history_su[j]).reshape(-1,obs_para), np.array(history_tar).reshape(-1,1))\n",
    "            '''\n",
    "            r_t[-i]=0.5**(N+1-i)*r_t[-i]+value_func(gpr_list[-i+1],flags_t[-i+1],observation_t[-i+1])\n",
    "            history_rt[-i][u_t[-i]].append(r_t[-i])\n",
    "            history_sut[-i][u_t[-i]].append(observation_t[-i])\n",
    "            gpr_list[-i][u_t[-i]]=GaussianProcessRegressor(alpha=1e-4).fit(np.array(history_sut[-i][u_t[-i]]).reshape(-1,5), np.array(history_rt[-i][u_t[-i]]).reshape(-1,1))\n",
    "            if flags_t[-i][u_t[-i]]:\n",
    "                flags_t[-i][u_t[-i]]=False\n",
    "            '''\n",
    "    for j in range(num_action):\n",
    "        history_tar=[]\n",
    "        for k in range(history_r[j].shape[0]):\n",
    "            history_tar.append(coeff[0]*history_r[j][k]+value_func(gpr_list[1],flags_t[1],history_su_next[j][k]))\n",
    "        gpr_list[0][j]=GaussianProcessRegressor(alpha=1e-8).fit(np.array(history_su[j]).reshape(-1,obs_para), np.array(history_tar).reshape(-1,1))\n",
    "\n",
    "            \n",
    "        \n",
    "    print(\"observation =\",observation)\n",
    "    #print(observation_t)\n",
    "    position_result.append(position)\n",
    "    observation_result.append(observation)\n",
    "    if r>best_r:\n",
    "        best_r=r\n",
    "        best_obs=observation_t\n",
    "        best_pos=position_t\n",
    "        best_u=u_t\n",
    "    \n",
    "    #print(history_su.shape)\n",
    "    #print(u_t)"
   ]
  },
  {
   "cell_type": "markdown",
   "id": "279315d1",
   "metadata": {},
   "source": [
    "# Results"
   ]
  },
  {
   "cell_type": "code",
   "execution_count": 11,
   "id": "b553f371",
   "metadata": {},
   "outputs": [
    {
     "data": {
      "image/png": "[encoded data removed]",
      "text/plain": [
       "<Figure size 640x480 with 1 Axes>"
      ]
     },
     "metadata": {},
     "output_type": "display_data"
    },
    {
     "data": {
      "image/png": "[encoded data removed]",
      "text/plain": [
       "<Figure size 640x480 with 1 Axes>"
      ]
     },
     "metadata": {},
     "output_type": "display_data"
    }
   ],
   "source": [
    "us=[action_set[i][0] for i in u_t]\n",
    "vs=[action_set[i][1] for i in u_t]\n",
    "\n",
    "u=[]\n",
    "v=[]\n",
    "for i in range(len(us)):\n",
    "    for j in range(20):\n",
    "        u.append(us[i])\n",
    "        v.append(vs[i])\n",
    "        \n",
    "x = np.linspace(0, T, (N+1)*20)\n",
    "plt.plot(x, u)\n",
    "plt.xlabel('t')\n",
    "plt.ylabel('u(t)')\n",
    "plt.title(\"u(t) vs time\")\n",
    "plt.grid()\n",
    "plt.show()\n",
    "\n",
    "x = np.linspace(0, T, (N+1)*20)\n",
    "plt.plot(x, v)\n",
    "plt.xlabel('t')\n",
    "plt.ylabel('v(t)')\n",
    "plt.title(\"v(t) vs time\")\n",
    "plt.grid()\n",
    "plt.show()"
   ]
  },
  {
   "cell_type": "markdown",
   "id": "0f175b0d",
   "metadata": {},
   "source": [
    "## Last Trajectory\n"
   ]
  },
  {
   "cell_type": "code",
   "execution_count": 12,
   "id": "1f8fbeab",
   "metadata": {},
   "outputs": [
    {
     "data": {
      "image/png": "[encoded data removed]",
      "text/plain": [
       "<Figure size 640x480 with 1 Axes>"
      ]
     },
     "metadata": {},
     "output_type": "display_data"
    }
   ],
   "source": [
    "obs=np.array(observation_t)\n",
    "obs=obs[:,[0,1]]\n",
    "plt.plot(obs[:,0],obs[:,1])\n",
    "plt.xlabel('X')\n",
    "plt.ylabel('Y')\n",
    "plt.show()"
   ]
  },
  {
   "cell_type": "code",
   "execution_count": 13,
   "id": "a6f1d8d1",
   "metadata": {},
   "outputs": [
    {
     "data": {
      "image/png": "[encoded data removed]",
      "text/plain": [
       "<Figure size 640x480 with 1 Axes>"
      ]
     },
     "metadata": {},
     "output_type": "display_data"
    },
    {
     "name": "stdout",
     "output_type": "stream",
     "text": [
      "4.374798230112635\n"
     ]
    },
    {
     "data": {
      "image/png": "[encoded data removed]",
      "text/plain": [
       "<Figure size 640x480 with 1 Axes>"
      ]
     },
     "metadata": {},
     "output_type": "display_data"
    }
   ],
   "source": [
    "pos=[]\n",
    "for i in range(num_system):\n",
    "    obs=np.array(position_t[i])\n",
    "    obs=obs[:,[0,1]]\n",
    "    plt.plot(obs[:,0],obs[:,1])\n",
    "    pos.append(obs[-1])\n",
    "plt.xlabel('X')\n",
    "plt.ylabel('Y')\n",
    "plt.show()\n",
    "print(reward_raw(np.array(pos)))\n",
    "\n",
    "cord_x=[]\n",
    "cord_y=[]\n",
    "for i in range(num_system):\n",
    "    cord_x.append(pos[i][0])\n",
    "    cord_y.append(pos[i][1])\n",
    "plt.plot(np.array(cord_x),np.array(cord_y), 'o')\n",
    "plt.plot(np.array([3]),np.array([2]), 'o')\n",
    "#plt.plot(obs[-1,0],obs[-1,1])\n",
    "plt.xlabel('X')\n",
    "plt.ylabel('Y')\n",
    "plt.grid()\n",
    "plt.show()\n"
   ]
  },
  {
   "cell_type": "markdown",
   "id": "43d797bf",
   "metadata": {},
   "source": [
    "## Best Trajectory"
   ]
  },
  {
   "cell_type": "code",
   "execution_count": 14,
   "id": "bd99ebe4",
   "metadata": {},
   "outputs": [
    {
     "data": {
      "image/png": "[encoded data removed]",
      "text/plain": [
       "<Figure size 640x480 with 1 Axes>"
      ]
     },
     "metadata": {},
     "output_type": "display_data"
    },
    {
     "data": {
      "image/png": "[encoded data removed]",
      "text/plain": [
       "<Figure size 640x480 with 1 Axes>"
      ]
     },
     "metadata": {},
     "output_type": "display_data"
    }
   ],
   "source": [
    "us=[action_set[i][0] for i in best_u]\n",
    "vs=[action_set[i][1] for i in best_u]\n",
    "\n",
    "\n",
    "u=[]\n",
    "v=[]\n",
    "for i in range(len(us)):\n",
    "    for j in range(20):\n",
    "        u.append(us[i])\n",
    "        v.append(vs[i])\n",
    "\n",
    "x = np.linspace(0, T, (N+1)*20)\n",
    "plt.plot(x, u)\n",
    "plt.xlabel('t')\n",
    "plt.ylabel('u(t)')\n",
    "plt.title(\"u(t) vs time\")\n",
    "plt.grid()\n",
    "plt.show()\n",
    "\n",
    "x = np.linspace(0, T, (N+1)*20)\n",
    "plt.plot(x, v)\n",
    "plt.xlabel('t')\n",
    "plt.ylabel('v(t)')\n",
    "plt.title(\"v(t) vs time\")\n",
    "plt.grid()\n",
    "plt.show()"
   ]
  },
  {
   "cell_type": "code",
   "execution_count": 15,
   "id": "21c1b981",
   "metadata": {},
   "outputs": [
    {
     "data": {
      "image/png": "[encoded data removed]",
      "text/plain": [
       "<Figure size 640x480 with 1 Axes>"
      ]
     },
     "metadata": {},
     "output_type": "display_data"
    }
   ],
   "source": [
    "obs=np.array(best_obs)\n",
    "obs=obs[:,[0,1]]\n",
    "plt.plot(obs[:,0],obs[:,1])\n",
    "plt.xlabel('X')\n",
    "plt.ylabel('Y')\n",
    "plt.show()"
   ]
  },
  {
   "cell_type": "code",
   "execution_count": 16,
   "id": "8bc91eff",
   "metadata": {},
   "outputs": [
    {
     "data": {
      "image/png": "[encoded data removed]",
      "text/plain": [
       "<Figure size 640x480 with 1 Axes>"
      ]
     },
     "metadata": {},
     "output_type": "display_data"
    },
    {
     "name": "stdout",
     "output_type": "stream",
     "text": [
      "2.0375040282710972\n"
     ]
    }
   ],
   "source": [
    "pos=[]\n",
    "for i in range(num_system):\n",
    "    obs=np.array(best_pos[i])\n",
    "    obs=obs[:,[0,1]]\n",
    "    plt.plot(obs[:,0],obs[:,1])\n",
    "    pos.append(obs[-1])\n",
    "plt.xlabel('X')\n",
    "plt.ylabel('Y')\n",
    "plt.show()\n",
    "print(reward_raw(np.array(pos)))"
   ]
  },
  {
   "cell_type": "code",
   "execution_count": 17,
   "id": "831b1f9a",
   "metadata": {},
   "outputs": [
    {
     "data": {
      "image/png": "[encoded data removed]",
      "text/plain": [
       "<Figure size 640x480 with 1 Axes>"
      ]
     },
     "metadata": {},
     "output_type": "display_data"
    }
   ],
   "source": [
    "pos=[]\n",
    "for i in range(num_system):\n",
    "    obs=np.array(best_pos[i])\n",
    "    obs=obs[:,[0,1]]\n",
    "    #plt.plot(obs[:,0],obs[:,1])\n",
    "    pos.append(obs[-1])\n",
    "\n",
    "cord_x=[]\n",
    "cord_y=[]\n",
    "for i in range(num_system):\n",
    "    cord_x.append(pos[i][0])\n",
    "    cord_y.append(pos[i][1])\n",
    "plt.plot(np.array(cord_x),np.array(cord_y), 'o')\n",
    "plt.plot(np.array([3]),np.array([2]), 'o')\n",
    "#plt.plot(obs[-1,0],obs[-1,1])\n",
    "plt.xlabel('X')\n",
    "plt.ylabel('Y')\n",
    "plt.grid()\n",
    "plt.show()"
   ]
  },
  {
   "cell_type": "markdown",
   "id": "010a19b7",
   "metadata": {},
   "source": [
    "## Pure Exploitation Trajectory"
   ]
  },
  {
   "cell_type": "code",
   "execution_count": 18,
   "id": "1d1e02bb",
   "metadata": {
    "scrolled": false
   },
   "outputs": [
    {
     "data": {
      "image/png": "[encoded data removed]",
      "text/plain": [
       "<Figure size 640x480 with 1 Axes>"
      ]
     },
     "metadata": {},
     "output_type": "display_data"
    },
    {
     "data": {
      "image/png": "[encoded data removed]",
      "text/plain": [
       "<Figure size 640x480 with 1 Axes>"
      ]
     },
     "metadata": {},
     "output_type": "display_data"
    },
    {
     "data": {
      "image/png": "[encoded data removed]",
      "text/plain": [
       "<Figure size 640x480 with 1 Axes>"
      ]
     },
     "metadata": {},
     "output_type": "display_data"
    }
   ],
   "source": [
    "position=np.array([[-2,-2,0] for _ in range(num_system)])\n",
    "observation=observe(position)\n",
    "u_t=[]\n",
    "observation_t=[observation]\n",
    "position_t=[[] for i in range(num_system)]\n",
    "\n",
    "for time in range(N+1):           \n",
    "    \n",
    "    #print(candidates_u)\n",
    "    u_k = decide_u_exploitation(gpr_list[time],flags,observation)\n",
    "    position_new = next_step(position,action_set[u_k])\n",
    "    observation_new = observe(position_new)\n",
    "    r = reward(observation_new)\n",
    "    '''\n",
    "    if explo:\n",
    "        history_su[u_k] = np.concatenate((history_su[u_k], observation.reshape(-1,5)))\n",
    "        history_r[u_k] = np.concatenate((history_r[u_k],np.array([r])))\n",
    "    '''\n",
    "    observation=observation_new\n",
    "    position=position_new\n",
    "    u_t.append(u_k)\n",
    "    observation_t.append(observation)\n",
    "    for i in range(num_system):\n",
    "        position_t[i].append(position[i])\n",
    "    '''\n",
    "    if time%((N+1)//3+1)==0:\n",
    "        for i in range(6):\n",
    "            gpr_list[i]=GaussianProcessRegressor(alpha=1e-8).fit(history_su[i], history_r[i].reshape(-1,1))\n",
    "    '''\n",
    "    \n",
    "us=[action_set[i][0] for i in u_t]\n",
    "vs=[action_set[i][1] for i in u_t]\n",
    "\n",
    "\n",
    "u=[]\n",
    "v=[]\n",
    "for i in range(len(us)):\n",
    "    for j in range(20):\n",
    "        u.append(us[i])\n",
    "        v.append(vs[i])\n",
    "    \n",
    "\n",
    "x = np.linspace(0, T, (N+1)*20)\n",
    "plt.plot(x, u)\n",
    "plt.xlabel('t')\n",
    "plt.ylabel('u(t)')\n",
    "plt.title(\"u(t) vs time\")\n",
    "plt.grid()\n",
    "plt.show()\n",
    "\n",
    "x = np.linspace(0, T, (N+1)*20)\n",
    "plt.plot(x, v)\n",
    "plt.xlabel('t')\n",
    "plt.ylabel('v(t)')\n",
    "plt.title(\"v(t) vs time\")\n",
    "plt.grid()\n",
    "plt.show()\n",
    "\n",
    "obs=np.array(observation_t)\n",
    "obs=obs[:,[0,1]]\n",
    "plt.plot(obs[:,0],obs[:,1])\n",
    "plt.xlabel('X')\n",
    "plt.ylabel('Y')\n",
    "plt.show()"
   ]
  },
  {
   "cell_type": "code",
   "execution_count": 19,
   "id": "ec3ad861",
   "metadata": {},
   "outputs": [
    {
     "data": {
      "image/png": "[encoded data removed]",
      "text/plain": [
       "<Figure size 640x480 with 1 Axes>"
      ]
     },
     "metadata": {},
     "output_type": "display_data"
    },
    {
     "name": "stdout",
     "output_type": "stream",
     "text": [
      "1.334179635175302\n"
     ]
    },
    {
     "data": {
      "image/png": "[encoded data removed]",
      "text/plain": [
       "<Figure size 640x480 with 1 Axes>"
      ]
     },
     "metadata": {},
     "output_type": "display_data"
    }
   ],
   "source": [
    "pos=[]\n",
    "for i in range(num_system):\n",
    "    obs=np.array(position_t[i])\n",
    "    obs=obs[:,[0,1]]\n",
    "    plt.plot(obs[:,0],obs[:,1])\n",
    "    pos.append(obs[-1])\n",
    "plt.xlabel('X')\n",
    "plt.ylabel('Y')\n",
    "plt.show()\n",
    "print(reward_raw(position))\n",
    "\n",
    "cord_x=[]\n",
    "cord_y=[]\n",
    "for i in range(num_system):\n",
    "    cord_x.append(pos[i][0])\n",
    "    cord_y.append(pos[i][1])\n",
    "plt.plot(np.array(cord_x),np.array(cord_y), 'o')\n",
    "plt.plot(np.array([3]),np.array([2]), 'o')\n",
    "#plt.plot(obs[-1,0],obs[-1,1])\n",
    "plt.xlabel('X')\n",
    "plt.ylabel('Y')\n",
    "plt.grid()\n",
    "plt.show()"
   ]
  },
  {
   "cell_type": "code",
   "execution_count": null,
   "id": "d6a9c85a",
   "metadata": {},
   "outputs": [],
   "source": []
  },
  {
   "cell_type": "code",
   "execution_count": null,
   "id": "4c2a97b9",
   "metadata": {},
   "outputs": [],
   "source": []
  }
 ],
 "metadata": {
  "kernelspec": {
   "display_name": "Python 3 (ipykernel)",
   "language": "python",
   "name": "python3"
  },
  "language_info": {
   "codemirror_mode": {
    "name": "ipython",
    "version": 3
   },
   "file_extension": ".py",
   "mimetype": "text/x-python",
   "name": "python",
   "nbconvert_exporter": "python",
   "pygments_lexer": "ipython3",
   "version": "3.10.9"
  }
 },
 "nbformat": 4,
 "nbformat_minor": 5
}
