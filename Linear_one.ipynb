{
 "cells": [
  {
   "cell_type": "markdown",
   "id": "8c6532cf",
   "metadata": {},
   "source": [
    "System: $\\dot{X}=\\beta X(t)+u(t)$ \\\n",
    "where $\\beta=1$"
   ]
  },
  {
   "cell_type": "markdown",
   "id": "4210cf4e",
   "metadata": {},
   "source": [
    "$V(x)=\\sum_{t=1}^T R(x(t))$ \\\n",
    "where  $R(x)=-\\|x-x_{goal}\\|^2-variance$ \\\n",
    "and $T=5$"
   ]
  },
  {
   "cell_type": "markdown",
   "id": "c8258d91",
   "metadata": {},
   "source": [
    "Use all datas "
   ]
  },
  {
   "cell_type": "markdown",
   "id": "d833b055",
   "metadata": {},
   "source": [
    "# Create Environment"
   ]
  },
  {
   "cell_type": "code",
   "execution_count": 14,
   "id": "65a2669a",
   "metadata": {},
   "outputs": [],
   "source": [
    "import numpy as np\n",
    "import matplotlib.pylab as plt\n",
    "from sklearn.gaussian_process import GaussianProcessRegressor\n",
    "from tqdm import tqdm\n",
    "\n",
    "global N\n",
    "\n",
    "N=20\n",
    "\n",
    "global M\n",
    "M=10\n",
    "\n",
    "global T\n",
    "global target\n",
    "T=5\n",
    "target=np.array([0])\n",
    "global w\n",
    "w=np.pi*2/23.7\n",
    "\n",
    "global delta_t\n",
    "delta_t=T/N\n",
    "\n",
    "global obs_para\n",
    "obs_para=2\n",
    "\n",
    "global beta\n",
    "beta=[1]\n",
    "\n",
    "global num_system\n",
    "num_system=1\n",
    "\n",
    "\n",
    "global coeff\n",
    "coeff=[1 for i in range(N+1)]"
   ]
  },
  {
   "cell_type": "code",
   "execution_count": 2,
   "id": "bd2938cf",
   "metadata": {},
   "outputs": [
    {
     "data": {
      "text/plain": [
       "\"\\nx = np.linspace(0, 6.5, 1001)\\nplt.plot(x, Z(x))\\nplt.xlabel('Angle [rad]')\\nplt.ylabel('Z(theta)')\\nplt.grid()\\nplt.show()\\n\""
      ]
     },
     "execution_count": 2,
     "metadata": {},
     "output_type": "execute_result"
    }
   ],
   "source": [
    "def Z(vecs, u):\n",
    "    output=[]\n",
    "    for i in range(num_system):\n",
    "        vec=vecs[i]\n",
    "        x=vec[0]\n",
    "        output.append([beta[i]*x+u])\n",
    "    return np.array(output)\n",
    "\n",
    "#check the correctness of Z\n",
    "'''\n",
    "x = np.linspace(0, 6.5, 1001)\n",
    "plt.plot(x, Z(x))\n",
    "plt.xlabel('Angle [rad]')\n",
    "plt.ylabel('Z(theta)')\n",
    "plt.grid()\n",
    "plt.show()\n",
    "'''"
   ]
  },
  {
   "cell_type": "code",
   "execution_count": 3,
   "id": "b5291895",
   "metadata": {},
   "outputs": [],
   "source": [
    "def next_step(vecs,action):  \n",
    "   \n",
    "    for j in range(M):\n",
    "        vecs_new=[]\n",
    "        diff=Z(vecs,action)\n",
    "        for i in range(num_system):\n",
    "            w=vecs[i]+delta_t/M*diff[i]\n",
    "            '''\n",
    "            if w[2]>np.pi:\n",
    "                w[2]-=2*np.pi\n",
    "            if w[2]<-np.pi:\n",
    "                w[2]+=2*np.pi\n",
    "            '''\n",
    "            vecs_new.append(w)\n",
    "        vecs=np.array(vecs_new)\n",
    "    return vecs\n",
    "\n",
    "def observe(vecs):\n",
    "    mu_x=0\n",
    "    var_x=0\n",
    "    for i in range(num_system):\n",
    "        mu_x+=vecs[i][0]\n",
    "        var_x+=vecs[i][0]**2\n",
    "    var_x=var_x-mu_x**2/num_system\n",
    "    \n",
    "    w=np.array([mu_x,var_x])/num_system\n",
    "\n",
    "    return w\n",
    "\n",
    "def reward(obs):\n",
    "    #return max(3000-(obs[0]-target[0])**2-obs[1],0)\n",
    "    return -(obs[0]-target[0])**2-obs[1]\n",
    "\n",
    "def reward_raw(position):\n",
    "    r=0\n",
    "    for i in range(num_system):\n",
    "        r+=np.linalg.norm(position[i]-target)\n",
    "    return r\n",
    "\n",
    "def value_func(funcs,next_state):\n",
    "    x_cand = generate_cand(next_state)\n",
    "    candidates_u, std_u = funcs.predict(x_cand.reshape(-1,obs_para+1), return_std=True)\n",
    "    result=np.max(candidates_u)\n",
    "    return result"
   ]
  },
  {
   "cell_type": "markdown",
   "id": "15ed433b",
   "metadata": {},
   "source": [
    "# Learning Settings"
   ]
  },
  {
   "cell_type": "code",
   "execution_count": 4,
   "id": "95e62df6",
   "metadata": {},
   "outputs": [],
   "source": [
    "global lr\n",
    "lr=0.01\n",
    "global eps\n",
    "eps=0.05\n",
    "global max_u\n",
    "max_u=5\n",
    "global precision\n",
    "precision=0.01\n",
    "global action_set\n",
    "action_set=np.array([[1,np.pi/4],[-1,np.pi/4],[1,0],[-1,0],[1,-np.pi/4],[-1,-np.pi/4]])\n",
    "\n",
    "def exploration():\n",
    "    a=np.random.uniform()\n",
    "    if a<eps:\n",
    "        return True\n",
    "    else:\n",
    "        return False\n",
    "\n",
    "def find_max(cand):\n",
    "    return np.argmax(cand)\n",
    "\n",
    "def generate_cand(state):\n",
    "    possible=np.linspace(-max_u, max_u,  int(2*max_u/precision+1))\n",
    "    cand=[]\n",
    "    for i in range( int(2*max_u/precision+1)):\n",
    "        cand.append(np.concatenate((state,np.array([possible[i]]))))\n",
    "    return np.array(cand)\n",
    "\n",
    "def decide_u(funcs,state,init=False):\n",
    "    explo=exploration()\n",
    "    if init or explo:\n",
    "        result=np.random.randint(int(2*max_u/precision+1))\n",
    "        return np.linspace(-max_u, max_u,  int(2*max_u/precision+1))[result]\n",
    "    else:\n",
    "        x_cand = generate_cand(state)\n",
    "        candidates_u, std_u = funcs.predict(x_cand.reshape(-1,obs_para+1), return_std=True)\n",
    "        result=np.argmax(candidates_u)\n",
    "    return np.linspace(-max_u, max_u,  int(2*max_u/precision+1))[result]\n",
    "    \n",
    "def decide_u_exploitation(funcs,flags,state,init=False):\n",
    "    result=[]\n",
    "    for i in range(6):\n",
    "        if flags[i]:\n",
    "            print(\"Err\",i)\n",
    "            return i\n",
    "        else:\n",
    "            k,_=funcs[i].predict(state.reshape(-1,obs_para+1), return_std=True)\n",
    "            result.append(k[0])\n",
    "    result=np.array(result)\n",
    "    return np.argmax(result)\n",
    "\n",
    "history_su=[]\n",
    "history_r=[]\n",
    "history_su_next=[]\n",
    "#flags=[True for i in range(6)]\n",
    "\n",
    "history_rt=[[] for j in range(N+1)]\n",
    "history_sut=[[] for j in range(N+1)]\n",
    "#flags_t=[[True for i in range(6)] for j in range(N+1)]"
   ]
  },
  {
   "cell_type": "markdown",
   "id": "c5f09d42",
   "metadata": {},
   "source": [
    "# Simulation\n"
   ]
  },
  {
   "cell_type": "code",
   "execution_count": 5,
   "id": "53aa277f",
   "metadata": {
    "scrolled": true
   },
   "outputs": [
    {
     "name": "stderr",
     "output_type": "stream",
     "text": [
      "  5%|████▏                                                                              | 1/20 [00:02<00:56,  2.99s/it]"
     ]
    },
    {
     "name": "stdout",
     "output_type": "stream",
     "text": [
      "observation = [686.61965403   0.        ]\n"
     ]
    },
    {
     "name": "stderr",
     "output_type": "stream",
     "text": [
      "\r",
      " 10%|████████▎                                                                          | 2/20 [00:08<01:20,  4.49s/it]"
     ]
    },
    {
     "name": "stdout",
     "output_type": "stream",
     "text": [
      "observation = [-529.29357768    0.        ]\n"
     ]
    },
    {
     "name": "stderr",
     "output_type": "stream",
     "text": [
      "\r",
      " 15%|████████████▍                                                                      | 3/20 [00:17<01:54,  6.75s/it]"
     ]
    },
    {
     "name": "stdout",
     "output_type": "stream",
     "text": [
      "observation = [308.18422683   0.        ]\n"
     ]
    },
    {
     "name": "stderr",
     "output_type": "stream",
     "text": [
      "\r",
      " 20%|████████████████▌                                                                  | 4/20 [00:31<02:30,  9.40s/it]"
     ]
    },
    {
     "name": "stdout",
     "output_type": "stream",
     "text": [
      "observation = [-2.08356965  0.        ]\n"
     ]
    },
    {
     "name": "stderr",
     "output_type": "stream",
     "text": [
      "\r",
      " 25%|████████████████████▊                                                              | 5/20 [00:51<03:20, 13.40s/it]"
     ]
    },
    {
     "name": "stdout",
     "output_type": "stream",
     "text": [
      "observation = [-0.28769801  0.        ]\n"
     ]
    },
    {
     "name": "stderr",
     "output_type": "stream",
     "text": [
      "\r",
      " 30%|████████████████████████▉                                                          | 6/20 [01:21<04:22, 18.78s/it]"
     ]
    },
    {
     "name": "stdout",
     "output_type": "stream",
     "text": [
      "observation = [-0.75609055  0.        ]\n"
     ]
    },
    {
     "name": "stderr",
     "output_type": "stream",
     "text": [
      "\r",
      " 35%|█████████████████████████████                                                      | 7/20 [01:58<05:22, 24.77s/it]"
     ]
    },
    {
     "name": "stdout",
     "output_type": "stream",
     "text": [
      "observation = [-32.48972266   0.        ]\n"
     ]
    },
    {
     "name": "stderr",
     "output_type": "stream",
     "text": [
      "\r",
      " 40%|█████████████████████████████████▏                                                 | 8/20 [02:44<06:21, 31.76s/it]"
     ]
    },
    {
     "name": "stdout",
     "output_type": "stream",
     "text": [
      "observation = [0.06701129 0.        ]\n"
     ]
    },
    {
     "name": "stderr",
     "output_type": "stream",
     "text": [
      "\r",
      " 45%|█████████████████████████████████████▎                                             | 9/20 [03:47<07:35, 41.39s/it]"
     ]
    },
    {
     "name": "stdout",
     "output_type": "stream",
     "text": [
      "observation = [4.99410036 0.        ]\n"
     ]
    },
    {
     "name": "stderr",
     "output_type": "stream",
     "text": [
      "\r",
      " 50%|█████████████████████████████████████████                                         | 10/20 [04:59<08:28, 50.83s/it]"
     ]
    },
    {
     "name": "stdout",
     "output_type": "stream",
     "text": [
      "observation = [18.50799952  0.        ]\n"
     ]
    },
    {
     "name": "stderr",
     "output_type": "stream",
     "text": [
      "\r",
      " 55%|█████████████████████████████████████████████                                     | 11/20 [06:39<09:52, 65.80s/it]"
     ]
    },
    {
     "name": "stdout",
     "output_type": "stream",
     "text": [
      "observation = [266.98866769   0.        ]\n"
     ]
    },
    {
     "name": "stderr",
     "output_type": "stream",
     "text": [
      "\r",
      " 60%|█████████████████████████████████████████████████▏                                | 12/20 [08:38<10:57, 82.13s/it]"
     ]
    },
    {
     "name": "stdout",
     "output_type": "stream",
     "text": [
      "observation = [-102.26891078    0.        ]\n"
     ]
    },
    {
     "name": "stderr",
     "output_type": "stream",
     "text": [
      "\r",
      " 65%|████████████████████████████████████████████████████▋                            | 13/20 [11:06<11:54, 102.06s/it]"
     ]
    },
    {
     "name": "stdout",
     "output_type": "stream",
     "text": [
      "observation = [293.90939083   0.        ]\n"
     ]
    },
    {
     "name": "stderr",
     "output_type": "stream",
     "text": [
      "\r",
      " 70%|████████████████████████████████████████████████████████▋                        | 14/20 [14:16<12:51, 128.62s/it]"
     ]
    },
    {
     "name": "stdout",
     "output_type": "stream",
     "text": [
      "observation = [-0.08539305  0.        ]\n"
     ]
    },
    {
     "name": "stderr",
     "output_type": "stream",
     "text": [
      "\r",
      " 75%|████████████████████████████████████████████████████████████▊                    | 15/20 [17:50<12:50, 154.18s/it]"
     ]
    },
    {
     "name": "stdout",
     "output_type": "stream",
     "text": [
      "observation = [137.1593474   0.       ]\n"
     ]
    },
    {
     "name": "stderr",
     "output_type": "stream",
     "text": [
      "\r",
      " 80%|████████████████████████████████████████████████████████████████▊                | 16/20 [21:42<11:51, 177.84s/it]"
     ]
    },
    {
     "name": "stdout",
     "output_type": "stream",
     "text": [
      "observation = [485.25840138   0.        ]\n"
     ]
    },
    {
     "name": "stderr",
     "output_type": "stream",
     "text": [
      "\r",
      " 85%|████████████████████████████████████████████████████████████████████▊            | 17/20 [26:13<10:17, 205.84s/it]"
     ]
    },
    {
     "name": "stdout",
     "output_type": "stream",
     "text": [
      "observation = [173.05265519   0.        ]\n"
     ]
    },
    {
     "name": "stderr",
     "output_type": "stream",
     "text": [
      "\r",
      " 90%|████████████████████████████████████████████████████████████████████████▉        | 18/20 [31:30<07:58, 239.20s/it]"
     ]
    },
    {
     "name": "stdout",
     "output_type": "stream",
     "text": [
      "observation = [117.31820607   0.        ]\n"
     ]
    },
    {
     "name": "stderr",
     "output_type": "stream",
     "text": [
      "\r",
      " 95%|████████████████████████████████████████████████████████████████████████████▉    | 19/20 [37:32<04:36, 276.06s/it]"
     ]
    },
    {
     "name": "stdout",
     "output_type": "stream",
     "text": [
      "observation = [-0.03519246  0.        ]\n"
     ]
    },
    {
     "name": "stderr",
     "output_type": "stream",
     "text": [
      "100%|█████████████████████████████████████████████████████████████████████████████████| 20/20 [44:23<00:00, 133.16s/it]"
     ]
    },
    {
     "name": "stdout",
     "output_type": "stream",
     "text": [
      "observation = [-0.0152116  0.       ]\n"
     ]
    },
    {
     "name": "stderr",
     "output_type": "stream",
     "text": [
      "\n"
     ]
    }
   ],
   "source": [
    "num_iter=20\n",
    "\n",
    "position_result=[]\n",
    "observation_result=[]\n",
    "gpr_list=[0 for j in range(N+1)]\n",
    "\n",
    "best_r=-10000\n",
    "best_obs=[]\n",
    "best_pos=[[] for i in range(num_system)]\n",
    "best_u=[]\n",
    "\n",
    "for iterr in tqdm(range(num_iter)):\n",
    "    #initialize\n",
    "    position=np.array([[2] for _ in range(num_system)])\n",
    "    observation=observe(position)\n",
    "    u_t=[]\n",
    "    r_t=[]\n",
    "    observation_t=[observation]\n",
    "    position_t=[[] for i in range(num_system)]\n",
    "    \n",
    "    \n",
    "    history_target=[0 for i in range(6)]\n",
    "    \n",
    "    \n",
    "    for time in range(N+1):\n",
    "        if iterr==0:\n",
    "            #candidates_u=[]\n",
    "            u_k = decide_u(gpr_list[time],observation,init=True)\n",
    "            position_new = next_step(position,u_k)\n",
    "            observation_new = observe(position_new)\n",
    "            r = reward(observation_new)\n",
    "            r_t.append(r)\n",
    "            \n",
    "            \n",
    "            if time==0:\n",
    "                history_su = np.concatenate((observation,np.array([u_k]))).reshape(-1,obs_para+1)\n",
    "                history_su_next = np.array(observation_new).reshape(-1,obs_para)\n",
    "                history_r = np.array([r])\n",
    "            \n",
    "            \n",
    "            else:\n",
    "                obs_su=np.concatenate((observation,np.array([u_k])))\n",
    "                history_su = np.concatenate((history_su, obs_su.reshape(-1,obs_para+1)))\n",
    "                history_su_next = np.concatenate((history_su_next, observation_new.reshape(-1,obs_para)))\n",
    "                history_r = np.concatenate((history_r,np.array([r])))\n",
    "            \n",
    "            \n",
    "            observation=observation_new\n",
    "            position=position_new\n",
    "            u_t.append(u_k)\n",
    "            observation_t.append(observation)\n",
    "            for i in range(num_system):\n",
    "                position_t[i].append(position[i])\n",
    "            \n",
    "            \n",
    "        else:\n",
    "            #candidates_u=[]\n",
    "            u_k = decide_u(gpr_list[time],observation)\n",
    "            #print(candidates_u)\n",
    "            #u_k, explo = decide_u(observation,np.array(candidates_u))\n",
    "            \n",
    "            position_new = next_step(position,u_k)\n",
    "            observation_new = observe(position_new)\n",
    "            r = reward(observation_new)\n",
    "            r_t.append(r)\n",
    "            \n",
    "            \n",
    "            obs_su=np.concatenate((observation,np.array([u_k])))\n",
    "            \n",
    "            \n",
    "            history_su = np.concatenate((history_su, obs_su.reshape(-1,obs_para+1)))\n",
    "            history_su_next = np.concatenate((history_su_next, observation_new.reshape(-1,obs_para)))\n",
    "            history_r = np.concatenate((history_r,np.array([r])))\n",
    "            \n",
    "            observation=observation_new\n",
    "            position=position_new\n",
    "            u_t.append(u_k)\n",
    "            observation_t.append(observation)\n",
    "            for i in range(num_system):\n",
    "                position_t[i].append(position[i])\n",
    "            \n",
    "            \n",
    "            \n",
    "            \n",
    "    #update\n",
    "    #calculate cumulative r \n",
    "    \n",
    "\n",
    "    '''\n",
    "    for j in range(6):\n",
    "        history_target[j]=last_coeff*history_r[u_t[-i]]\n",
    "        gpr_list[-i][j]=GaussianProcessRegressor(alpha=1e-4).fit(history_su[j], history_target[j])\n",
    "    '''  \n",
    "         \n",
    "       \n",
    "    for i in range(N+1):\n",
    "        if i==1:\n",
    "            history_target=coeff[-1]*history_r\n",
    "            gpr_list[-i]=GaussianProcessRegressor(alpha=1e-4).fit(np.array(history_su).reshape(-1,obs_para+1), history_target.reshape(-1,1))\n",
    "            \n",
    "        elif i>1:\n",
    "            history_tar=[]\n",
    "            for k in range(history_r.shape[0]):\n",
    "                history_tar.append(coeff[N+1-i]*history_r[k]+value_func(gpr_list[-i+1],history_su_next[k]))\n",
    "            gpr_list[-i]=GaussianProcessRegressor(alpha=1e-4).fit(np.array(history_su).reshape(-1,obs_para+1), np.array(history_tar).reshape(-1,1))\n",
    "            '''\n",
    "            r_t[-i]=0.5**(N+1-i)*r_t[-i]+value_func(gpr_list[-i+1],flags_t[-i+1],observation_t[-i+1])\n",
    "            history_rt[-i][u_t[-i]].append(r_t[-i])\n",
    "            history_sut[-i][u_t[-i]].append(observation_t[-i])\n",
    "            gpr_list[-i][u_t[-i]]=GaussianProcessRegressor(alpha=1e-4).fit(np.array(history_sut[-i][u_t[-i]]).reshape(-1,5), np.array(history_rt[-i][u_t[-i]]).reshape(-1,1))\n",
    "            if flags_t[-i][u_t[-i]]:\n",
    "                flags_t[-i][u_t[-i]]=False\n",
    "            '''\n",
    "    \n",
    "    history_tar=[]\n",
    "    for k in range(history_r.shape[0]):\n",
    "        history_tar.append(coeff[0]*history_r[k]+value_func(gpr_list[1],history_su_next[k]))\n",
    "    gpr_list[0]=GaussianProcessRegressor(alpha=1e-4).fit(np.array(history_su).reshape(-1,obs_para+1), np.array(history_tar).reshape(-1,1))\n",
    "\n",
    "            \n",
    "        \n",
    "    print(\"observation =\",observation)\n",
    "    #print(observation_t)\n",
    "    position_result.append(position)\n",
    "    observation_result.append(observation)\n",
    "    if r>best_r:\n",
    "        best_r=r\n",
    "        best_obs=observation_t\n",
    "        best_pos=position_t\n",
    "        best_u=u_t\n",
    "    \n",
    "    #print(history_su.shape)\n",
    "    #print(u_t)"
   ]
  },
  {
   "cell_type": "markdown",
   "id": "279315d1",
   "metadata": {},
   "source": [
    "# Results"
   ]
  },
  {
   "cell_type": "code",
   "execution_count": 6,
   "id": "b553f371",
   "metadata": {},
   "outputs": [
    {
     "data": {
      "image/png": "[encoded data removed]",
      "text/plain": [
       "<Figure size 640x480 with 1 Axes>"
      ]
     },
     "metadata": {},
     "output_type": "display_data"
    },
    {
     "data": {
      "text/plain": [
       "'\\nx = np.linspace(0, T, (N+1)*20)\\nplt.plot(x, v)\\nplt.xlabel(\\'t\\')\\nplt.ylabel(\\'v(t)\\')\\nplt.title(\"v(t) vs time\")\\nplt.grid()\\nplt.show()\\n'"
      ]
     },
     "execution_count": 6,
     "metadata": {},
     "output_type": "execute_result"
    }
   ],
   "source": [
    "'''\n",
    "us=[2*(0.5-i%2) for i in u_t]\n",
    "vs=[(1-i//2)*np.pi/4 for i in u_t]\n",
    "\n",
    "u=[]\n",
    "v=[]\n",
    "for i in range(len(us)):\n",
    "    for j in range(20):\n",
    "        u.append(us[i])\n",
    "        v.append(vs[i])\n",
    "'''     \n",
    "\n",
    "us=[]\n",
    "for i in range(len(u_t)):\n",
    "    for j in range(20):\n",
    "        us.append(u_t[i])\n",
    "\n",
    "\n",
    "x = np.linspace(0, T, (N+1)*20)\n",
    "plt.plot(x, us)\n",
    "plt.xlabel('t')\n",
    "plt.ylabel('u(t)')\n",
    "plt.title(\"u(t) vs time\")\n",
    "plt.grid()\n",
    "plt.show()\n",
    "\n",
    "'''\n",
    "x = np.linspace(0, T, (N+1)*20)\n",
    "plt.plot(x, v)\n",
    "plt.xlabel('t')\n",
    "plt.ylabel('v(t)')\n",
    "plt.title(\"v(t) vs time\")\n",
    "plt.grid()\n",
    "plt.show()\n",
    "'''"
   ]
  },
  {
   "cell_type": "markdown",
   "id": "0f175b0d",
   "metadata": {},
   "source": [
    "## Last Trajectory\n"
   ]
  },
  {
   "cell_type": "code",
   "execution_count": 7,
   "id": "1f8fbeab",
   "metadata": {},
   "outputs": [
    {
     "data": {
      "text/plain": [
       "\"\\nobs=np.array(observation_t)\\nx = np.linspace(0, T, N+2)\\nobs=obs[:,[0,1]]\\nplt.plot(x,obs[:,0])\\nplt.xlabel('t')\\nplt.ylabel('X')\\nplt.show()\\n\""
      ]
     },
     "execution_count": 7,
     "metadata": {},
     "output_type": "execute_result"
    }
   ],
   "source": [
    "'''\n",
    "obs=np.array(observation_t)\n",
    "x = np.linspace(0, T, N+2)\n",
    "obs=obs[:,[0,1]]\n",
    "plt.plot(x,obs[:,0])\n",
    "plt.xlabel('t')\n",
    "plt.ylabel('X')\n",
    "plt.show()\n",
    "'''"
   ]
  },
  {
   "cell_type": "code",
   "execution_count": 8,
   "id": "a6f1d8d1",
   "metadata": {},
   "outputs": [
    {
     "data": {
      "image/png": "[encoded data removed]",
      "text/plain": [
       "<Figure size 640x480 with 1 Axes>"
      ]
     },
     "metadata": {},
     "output_type": "display_data"
    },
    {
     "name": "stdout",
     "output_type": "stream",
     "text": [
      "0.015211596572640951\n"
     ]
    },
    {
     "data": {
      "text/plain": [
       "\"\\nplt.plot(np.array(cord_x),np.array(cord_y), 'o')\\nplt.plot(np.array([3]),np.array([2]), 'o')\\n#plt.plot(obs[-1,0],obs[-1,1])\\nplt.xlabel('X')\\nplt.ylabel('Y')\\nplt.grid()\\nplt.show()\\n\""
      ]
     },
     "execution_count": 8,
     "metadata": {},
     "output_type": "execute_result"
    }
   ],
   "source": [
    "pos=[]\n",
    "x = np.linspace(0, T, N+1)\n",
    "for i in range(num_system):\n",
    "    obs=np.array(position_t[i])\n",
    "    obs=obs[:,[0]]\n",
    "    plt.plot(x,obs[:,0])\n",
    "    pos.append(obs[-1])\n",
    "plt.xlabel('t')\n",
    "plt.ylabel('X')\n",
    "plt.title(\"X vs time\")\n",
    "plt.show()\n",
    "print(reward_raw(np.array(pos)))\n",
    "\n",
    "cord_x=[]\n",
    "cord_y=[]\n",
    "for i in range(num_system):\n",
    "    cord_x.append(pos[i][0])\n",
    "    \n",
    "'''\n",
    "plt.plot(np.array(cord_x),np.array(cord_y), 'o')\n",
    "plt.plot(np.array([3]),np.array([2]), 'o')\n",
    "#plt.plot(obs[-1,0],obs[-1,1])\n",
    "plt.xlabel('X')\n",
    "plt.ylabel('Y')\n",
    "plt.grid()\n",
    "plt.show()\n",
    "'''\n"
   ]
  },
  {
   "cell_type": "markdown",
   "id": "43d797bf",
   "metadata": {},
   "source": [
    "## Best Trajectory"
   ]
  },
  {
   "cell_type": "code",
   "execution_count": 9,
   "id": "bd99ebe4",
   "metadata": {},
   "outputs": [
    {
     "data": {
      "image/png": "[encoded data removed]",
      "text/plain": [
       "<Figure size 640x480 with 1 Axes>"
      ]
     },
     "metadata": {},
     "output_type": "display_data"
    },
    {
     "data": {
      "text/plain": [
       "'\\nx = np.linspace(0, T, (N+1)*20)\\nplt.plot(x, v)\\nplt.xlabel(\\'t\\')\\nplt.ylabel(\\'v(t)\\')\\nplt.title(\"v(t) vs time\")\\nplt.grid()\\nplt.show()\\n'"
      ]
     },
     "execution_count": 9,
     "metadata": {},
     "output_type": "execute_result"
    }
   ],
   "source": [
    "'''\n",
    "us=[2*(0.5-i%2) for i in best_u]\n",
    "vs=[(1-i//2)*np.pi/4 for i in best_u]\n",
    "\n",
    "u=[]\n",
    "v=[]\n",
    "for i in range(len(us)):\n",
    "    for j in range(20):\n",
    "        u.append(us[i])\n",
    "        v.append(vs[i])\n",
    "'''\n",
    "us=[]\n",
    "for i in range(len(best_u)):\n",
    "    for j in range(20):\n",
    "        us.append(u_t[i])\n",
    "        \n",
    "x = np.linspace(0, T, (N+1)*20)\n",
    "plt.plot(x, us)\n",
    "plt.xlabel('t')\n",
    "plt.ylabel('u(t)')\n",
    "plt.title(\"u(t) vs time\")\n",
    "plt.grid()\n",
    "plt.show()\n",
    "\n",
    "'''\n",
    "x = np.linspace(0, T, (N+1)*20)\n",
    "plt.plot(x, v)\n",
    "plt.xlabel('t')\n",
    "plt.ylabel('v(t)')\n",
    "plt.title(\"v(t) vs time\")\n",
    "plt.grid()\n",
    "plt.show()\n",
    "'''"
   ]
  },
  {
   "cell_type": "code",
   "execution_count": 10,
   "id": "21c1b981",
   "metadata": {},
   "outputs": [
    {
     "data": {
      "text/plain": [
       "\"\\nx = np.linspace(0, T, N+2)\\nobs=np.array(best_obs)\\nobs=obs[:,[0]]\\nplt.plot(x,obs[:,0])\\nplt.xlabel('X')\\nplt.ylabel('Y')\\nplt.show()\\n\""
      ]
     },
     "execution_count": 10,
     "metadata": {},
     "output_type": "execute_result"
    }
   ],
   "source": [
    "'''\n",
    "x = np.linspace(0, T, N+2)\n",
    "obs=np.array(best_obs)\n",
    "obs=obs[:,[0]]\n",
    "plt.plot(x,obs[:,0])\n",
    "plt.xlabel('X')\n",
    "plt.ylabel('Y')\n",
    "plt.show()\n",
    "'''"
   ]
  },
  {
   "cell_type": "code",
   "execution_count": 11,
   "id": "8bc91eff",
   "metadata": {},
   "outputs": [
    {
     "data": {
      "image/png": "[encoded data removed]",
      "text/plain": [
       "<Figure size 640x480 with 1 Axes>"
      ]
     },
     "metadata": {},
     "output_type": "display_data"
    },
    {
     "name": "stdout",
     "output_type": "stream",
     "text": [
      "Final Position 0.015211596572640951\n"
     ]
    },
    {
     "data": {
      "text/plain": [
       "\"\\nplt.plot(np.array(cord_x),np.array(cord_y), 'o')\\nplt.plot(np.array([3]),np.array([2]), 'o')\\n#plt.plot(obs[-1,0],obs[-1,1])\\nplt.xlabel('X')\\nplt.ylabel('Y')\\nplt.grid()\\nplt.show()\\n\""
      ]
     },
     "execution_count": 11,
     "metadata": {},
     "output_type": "execute_result"
    }
   ],
   "source": [
    "pos=[]\n",
    "x = np.linspace(0, T, N+1)\n",
    "for i in range(num_system):\n",
    "    obs=np.array(best_pos[i])\n",
    "    obs=obs[:,[0]]\n",
    "    plt.plot(x,obs[:,0])\n",
    "    pos.append(obs[-1])\n",
    "plt.xlabel('t')\n",
    "plt.ylabel('X')\n",
    "plt.title(\"X vs time\")\n",
    "plt.show()\n",
    "print(\"Final Position\",reward_raw(np.array(pos)))\n",
    "\n",
    "pos=[]\n",
    "for i in range(num_system):\n",
    "    obs=np.array(best_pos[i])\n",
    "    obs=obs[:,[0]]\n",
    "    #plt.plot(obs[:,0],obs[:,1])\n",
    "    pos.append(obs[-1])\n",
    "\n",
    "cord_x=[]\n",
    "cord_y=[]\n",
    "for i in range(num_system):\n",
    "    cord_x.append(pos[i][0])\n",
    "\n",
    "'''\n",
    "plt.plot(np.array(cord_x),np.array(cord_y), 'o')\n",
    "plt.plot(np.array([3]),np.array([2]), 'o')\n",
    "#plt.plot(obs[-1,0],obs[-1,1])\n",
    "plt.xlabel('X')\n",
    "plt.ylabel('Y')\n",
    "plt.grid()\n",
    "plt.show()\n",
    "'''"
   ]
  },
  {
   "cell_type": "markdown",
   "id": "010a19b7",
   "metadata": {},
   "source": [
    "## Pure Exploitation Trajectory"
   ]
  },
  {
   "cell_type": "code",
   "execution_count": 12,
   "id": "1d1e02bb",
   "metadata": {
    "scrolled": false
   },
   "outputs": [
    {
     "data": {
      "image/png": "[encoded data removed]",
      "text/plain": [
       "<Figure size 640x480 with 1 Axes>"
      ]
     },
     "metadata": {},
     "output_type": "display_data"
    },
    {
     "data": {
      "image/png": "[encoded data removed]",
      "text/plain": [
       "<Figure size 640x480 with 1 Axes>"
      ]
     },
     "metadata": {},
     "output_type": "display_data"
    },
    {
     "name": "stdout",
     "output_type": "stream",
     "text": [
      "Final Position: 0.01985544631018662\n"
     ]
    }
   ],
   "source": [
    "position=np.array([[2] for _ in range(num_system)])\n",
    "observation=observe(position)\n",
    "u_t=[]\n",
    "observation_t=[observation]\n",
    "position_t=[[] for i in range(num_system)]\n",
    "\n",
    "for time in range(N+1):           \n",
    "    \n",
    "    #print(candidates_u)\n",
    "    u_k = decide_u(gpr_list[time],observation)\n",
    "    position_new = next_step(position,u_k)\n",
    "    observation_new = observe(position_new)\n",
    "    r = reward(observation_new)\n",
    "    '''\n",
    "    if explo:\n",
    "        history_su[u_k] = np.concatenate((history_su[u_k], observation.reshape(-1,5)))\n",
    "        history_r[u_k] = np.concatenate((history_r[u_k],np.array([r])))\n",
    "    '''\n",
    "    observation=observation_new\n",
    "    position=position_new\n",
    "    u_t.append(u_k)\n",
    "    observation_t.append(observation)\n",
    "    for i in range(num_system):\n",
    "        position_t[i].append(position[i])\n",
    "    '''\n",
    "    if time%((N+1)//3+1)==0:\n",
    "        for i in range(6):\n",
    "            gpr_list[i]=GaussianProcessRegressor(alpha=1e-8).fit(history_su[i], history_r[i].reshape(-1,1))\n",
    "    '''\n",
    "    \n",
    "\n",
    "us=[]\n",
    "\n",
    "for i in range(len(u_t)):\n",
    "    for j in range(20):\n",
    "        us.append(u_t[i])\n",
    "    \n",
    "\n",
    "x = np.linspace(0, T, (N+1)*20)\n",
    "plt.plot(x, us)\n",
    "plt.xlabel('t')\n",
    "plt.ylabel('u(t)')\n",
    "plt.title(\"u(t) vs time\")\n",
    "plt.grid()\n",
    "plt.show()\n",
    "\n",
    "x = np.linspace(0, T, N+2)\n",
    "obs=np.array(observation_t)\n",
    "obs=obs[:,[0]]\n",
    "plt.plot(x,obs[:,0])\n",
    "plt.title(\"X vs time\")\n",
    "plt.xlabel('t')\n",
    "plt.ylabel('X')\n",
    "plt.show()\n",
    "\n",
    "\n",
    "pos=[]\n",
    "x = np.linspace(0, T, N+1)\n",
    "for i in range(num_system):\n",
    "    obs=np.array(position_t[i])\n",
    "    obs=obs[:,[0]]\n",
    "    pos.append(obs[-1])\n",
    "\n",
    "print(\"Final Position:\",reward_raw(position))"
   ]
  },
  {
   "cell_type": "code",
   "execution_count": 13,
   "id": "ec3ad861",
   "metadata": {},
   "outputs": [
    {
     "data": {
      "text/plain": [
       "\"\\npos=[]\\nx = np.linspace(0, T, N+1)\\nfor i in range(num_system):\\n    obs=np.array(position_t[i])\\n    obs=obs[:,[0]]\\n    plt.plot(x,obs[:,0])\\n    pos.append(obs[-1])\\nplt.xlabel('X')\\nplt.ylabel('Y')\\nplt.show()\\nprint(reward_raw(position))\\n\\ncord_x=[]\\nfor i in range(num_system):\\n    cord_x.append(pos[i][0])\\n\\n\\nplt.plot(np.array(cord_x),np.array(cord_y), 'o')\\nplt.plot(np.array([3]),np.array([2]), 'o')\\n#plt.plot(obs[-1,0],obs[-1,1])\\nplt.xlabel('X')\\nplt.ylabel('Y')\\nplt.grid()\\nplt.show()\\n\""
      ]
     },
     "execution_count": 13,
     "metadata": {},
     "output_type": "execute_result"
    }
   ],
   "source": [
    "'''\n",
    "pos=[]\n",
    "x = np.linspace(0, T, N+1)\n",
    "for i in range(num_system):\n",
    "    obs=np.array(position_t[i])\n",
    "    obs=obs[:,[0]]\n",
    "    plt.plot(x,obs[:,0])\n",
    "    pos.append(obs[-1])\n",
    "plt.xlabel('X')\n",
    "plt.ylabel('Y')\n",
    "plt.show()\n",
    "print(reward_raw(position))\n",
    "\n",
    "cord_x=[]\n",
    "for i in range(num_system):\n",
    "    cord_x.append(pos[i][0])\n",
    "\n",
    "\n",
    "plt.plot(np.array(cord_x),np.array(cord_y), 'o')\n",
    "plt.plot(np.array([3]),np.array([2]), 'o')\n",
    "#plt.plot(obs[-1,0],obs[-1,1])\n",
    "plt.xlabel('X')\n",
    "plt.ylabel('Y')\n",
    "plt.grid()\n",
    "plt.show()\n",
    "'''\n",
    "\n"
   ]
  },
  {
   "cell_type": "code",
   "execution_count": null,
   "id": "d6a9c85a",
   "metadata": {},
   "outputs": [],
   "source": []
  },
  {
   "cell_type": "code",
   "execution_count": null,
   "id": "4c2a97b9",
   "metadata": {},
   "outputs": [],
   "source": []
  }
 ],
 "metadata": {
  "kernelspec": {
   "display_name": "Python 3 (ipykernel)",
   "language": "python",
   "name": "python3"
  },
  "language_info": {
   "codemirror_mode": {
    "name": "ipython",
    "version": 3
   },
   "file_extension": ".py",
   "mimetype": "text/x-python",
   "name": "python",
   "nbconvert_exporter": "python",
   "pygments_lexer": "ipython3",
   "version": "3.10.9"
  }
 },
 "nbformat": 4,
 "nbformat_minor": 5
}
