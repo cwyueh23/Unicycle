{
 "cells": [
  {
   "cell_type": "markdown",
   "id": "4210cf4e",
   "metadata": {},
   "source": [
    "$V(x)=\\sum_{t=1}^T R(x(t))$ \\\n",
    "where  $R(x)=-\\|x-x_{goal}\\|-variance$ \\\n",
    "and $T=15$"
   ]
  },
  {
   "cell_type": "markdown",
   "id": "c8258d91",
   "metadata": {},
   "source": [
    "Use all datas "
   ]
  },
  {
   "cell_type": "markdown",
   "id": "d833b055",
   "metadata": {},
   "source": [
    "# Create Environment"
   ]
  },
  {
   "cell_type": "code",
   "execution_count": 1,
   "id": "65a2669a",
   "metadata": {},
   "outputs": [
    {
     "name": "stdout",
     "output_type": "stream",
     "text": [
      "[1.1258999068426271e-35, 5.629499534213136e-35, 2.8147497671065676e-34, 1.4073748835532837e-33, 7.036874417766418e-33, 3.5184372088832087e-32, 1.7592186044416043e-31, 8.796093022208022e-31, 4.39804651110401e-30, 2.199023255552005e-29, 1.0995116277760024e-28, 5.497558138880012e-28, 2.7487790694400056e-27, 1.374389534720003e-26, 6.871947673600013e-26, 3.4359738368000065e-25, 1.717986918400003e-24, 8.589934592000015e-24, 4.294967296000008e-23, 2.1474836480000035e-22, 1.0737418240000018e-21, 5.368709120000009e-21, 2.684354560000004e-20, 1.342177280000002e-19, 6.71088640000001e-19, 3.3554432000000048e-18, 1.6777216000000023e-17, 8.388608000000011e-17, 4.194304000000005e-16, 2.0971520000000026e-15, 1.0485760000000012e-14, 5.2428800000000056e-14, 2.6214400000000027e-13, 1.3107200000000013e-12, 6.5536000000000055e-12, 3.276800000000003e-11, 1.6384000000000013e-10, 8.192000000000005e-10, 4.096000000000002e-09, 2.0480000000000012e-08, 1.0240000000000006e-07, 5.120000000000002e-07, 2.5600000000000013e-06, 1.2800000000000005e-05, 6.400000000000002e-05, 0.0003200000000000001, 0.0016000000000000003, 0.008000000000000002, 0.04000000000000001, 0.2, 1.0]\n"
     ]
    }
   ],
   "source": [
    "import numpy as np\n",
    "import matplotlib.pylab as plt\n",
    "from sklearn.gaussian_process import GaussianProcessRegressor\n",
    "from tqdm import tqdm\n",
    "\n",
    "global N\n",
    "\n",
    "N=50\n",
    "\n",
    "global M\n",
    "M=10\n",
    "\n",
    "global T\n",
    "global target\n",
    "T=12\n",
    "target=np.array([3,2])\n",
    "global w\n",
    "w=np.pi*2/23.7\n",
    "\n",
    "global delta_t\n",
    "delta_t=T/N\n",
    "\n",
    "global beta\n",
    "beta=[0.95,0.975,1,1.025,1.05]\n",
    "\n",
    "global num_system\n",
    "num_system=5\n",
    "\n",
    "global num_action\n",
    "num_action=8\n",
    "\n",
    "global obs_para\n",
    "obs_para=6\n",
    "\n",
    "global coeff\n",
    "coeff=[]\n",
    "for i in range(N+1):\n",
    "    coeff.append(0.2**(N-i))\n",
    "print(coeff)"
   ]
  },
  {
   "cell_type": "code",
   "execution_count": 2,
   "id": "bd2938cf",
   "metadata": {},
   "outputs": [
    {
     "data": {
      "text/plain": [
       "\"\\nx = np.linspace(0, 6.5, 1001)\\nplt.plot(x, Z(x))\\nplt.xlabel('Angle [rad]')\\nplt.ylabel('Z(theta)')\\nplt.grid()\\nplt.show()\\n\""
      ]
     },
     "execution_count": 2,
     "metadata": {},
     "output_type": "execute_result"
    }
   ],
   "source": [
    "def Z(vecs, u, v):\n",
    "    output=[]\n",
    "    for i in range(num_system):\n",
    "        vec=vecs[i]\n",
    "        x=vec[0]\n",
    "        y=vec[1]\n",
    "        theta=vec[2]\n",
    "        output.append([beta[i]*np.cos(theta)*u,beta[i]*np.sin(theta)*u,beta[i]*v])\n",
    "    return np.array(output)\n",
    "\n",
    "#check the correctness of Z\n",
    "'''\n",
    "x = np.linspace(0, 6.5, 1001)\n",
    "plt.plot(x, Z(x))\n",
    "plt.xlabel('Angle [rad]')\n",
    "plt.ylabel('Z(theta)')\n",
    "plt.grid()\n",
    "plt.show()\n",
    "'''"
   ]
  },
  {
   "cell_type": "code",
   "execution_count": 3,
   "id": "b5291895",
   "metadata": {},
   "outputs": [],
   "source": [
    "def next_step(vecs,action):  \n",
    "    u=action[0]\n",
    "    v=action[1]\n",
    "   \n",
    "    for j in range(M):\n",
    "        vecs_new=[]\n",
    "        diff=Z(vecs,u,v)\n",
    "        for i in range(num_system):\n",
    "            w=vecs[i]+delta_t/M*diff[i]\n",
    "            '''\n",
    "            if w[2]>np.pi:\n",
    "                w[2]-=2*np.pi\n",
    "            if w[2]<-np.pi:\n",
    "                w[2]+=2*np.pi\n",
    "            '''\n",
    "            vecs_new.append(w)\n",
    "        vecs=np.array(vecs_new)\n",
    "    return vecs\n",
    "\n",
    "def observe(vecs):\n",
    "    mu_x=0\n",
    "    mu_y=0\n",
    "    mu_theta=0\n",
    "    var_x=0\n",
    "    var_y=0\n",
    "    var_theta=0\n",
    "    for i in range(num_system):\n",
    "        mu_x+=vecs[i][0]\n",
    "        mu_y+=vecs[i][1]\n",
    "        mu_theta+=vecs[i][2]\n",
    "        var_x+=vecs[i][0]**2\n",
    "        var_y+=vecs[i][1]**2\n",
    "        var_theta+=vecs[i][2]**2\n",
    "    var_x-=mu_x**2/num_system\n",
    "    var_y-=mu_y**2/num_system\n",
    "    var_theta-=mu_theta**2/num_system\n",
    "    \n",
    "    w=np.array([mu_x,mu_y,mu_theta,var_x,var_y,var_theta])/num_system\n",
    "    if w[2]>np.pi:\n",
    "        w[2]-=2*np.pi\n",
    "    if w[2]<-np.pi:\n",
    "        w[2]+=2*np.pi\n",
    "    return w\n",
    "\n",
    "def reward(obs):\n",
    "    return max(10-np.sqrt((obs[0]-target[0])**2+(obs[1]-target[1])**2)-10*obs[3]-10*obs[4],0)\n",
    "\n",
    "def reward_raw(position):\n",
    "    r=0\n",
    "    for i in range(num_system):\n",
    "        r+=np.linalg.norm(position[i,[0,1]]-target)\n",
    "    return r\n",
    "\n",
    "def value_func(funcs,flags,next_state):\n",
    "    result=[]\n",
    "    for i in range(6):\n",
    "        if flags[i]:\n",
    "            result.append(0)\n",
    "        else:\n",
    "            k,_=funcs[i].predict(next_state.reshape(-1,obs_para), return_std=True)\n",
    "            result.append(k[0])\n",
    "    result=np.array(result)\n",
    "    return np.max(result)"
   ]
  },
  {
   "cell_type": "markdown",
   "id": "15ed433b",
   "metadata": {},
   "source": [
    "# Learning Settings"
   ]
  },
  {
   "cell_type": "code",
   "execution_count": 4,
   "id": "95e62df6",
   "metadata": {},
   "outputs": [],
   "source": [
    "global lr\n",
    "lr=0.01\n",
    "global eps\n",
    "eps=0.05\n",
    "global max_u\n",
    "max_u=2\n",
    "global precision\n",
    "precision=0.0002\n",
    "global action_set\n",
    "action_set=np.array([[1,np.pi/2],[-1,np.pi/2],[1,np.pi/4],[-1,np.pi/4],[1,0],[-1,0],[1,-np.pi/4],[-1,-np.pi/4],[1,-np.pi/2],[-1,-np.pi/2]])\n",
    "\n",
    "def exploration():\n",
    "    a=np.random.uniform()\n",
    "    if a<eps:\n",
    "        return True\n",
    "    else:\n",
    "        return False\n",
    "\n",
    "def find_max(cand):\n",
    "    return np.argmax(cand)\n",
    "    \n",
    "def decide_u(funcs,flags,state,init=False):\n",
    "    explo=exploration()\n",
    "    if init or explo:\n",
    "        return np.random.randint(num_action)\n",
    "    else:\n",
    "        result=[]\n",
    "        for i in range(num_action):\n",
    "            if flags[i]:\n",
    "                return i\n",
    "            else:\n",
    "                k,_=funcs[i].predict(state.reshape(-1,obs_para), return_std=True)\n",
    "                result.append(k[0])\n",
    "    result=np.array(result)\n",
    "    return np.argmax(result)\n",
    "    \n",
    "def decide_u_exploitation(funcs,flags,state,init=False):\n",
    "    result=[]\n",
    "    for i in range(num_action):\n",
    "        if flags[i]:\n",
    "            print(\"Err\",i)\n",
    "            return i\n",
    "        else:\n",
    "            k,_=funcs[i].predict(state.reshape(-1,obs_para), return_std=True)\n",
    "            result.append(k[0])\n",
    "    result=np.array(result)\n",
    "    return np.argmax(result)\n",
    "\n",
    "history_su=[0 for i in range(num_action)]\n",
    "history_r=[0 for i in range(num_action)]\n",
    "history_su_next=[0 for i in range(num_action)]\n",
    "flags=[True for i in range(num_action)]\n",
    "\n",
    "history_rt=[[[] for i in range(num_action)] for j in range(N+1)]\n",
    "history_sut=[[[] for i in range(num_action)] for j in range(N+1)]\n",
    "flags_t=[[True for i in range(num_action)] for j in range(N+1)]"
   ]
  },
  {
   "cell_type": "markdown",
   "id": "c5f09d42",
   "metadata": {},
   "source": [
    "# Simulation\n"
   ]
  },
  {
   "cell_type": "code",
   "execution_count": null,
   "id": "53aa277f",
   "metadata": {
    "scrolled": true
   },
   "outputs": [
    {
     "name": "stderr",
     "output_type": "stream",
     "text": [
      "  1%|▋                                                                                 | 1/130 [00:00<01:30,  1.42it/s]"
     ]
    },
    {
     "name": "stdout",
     "output_type": "stream",
     "text": [
      "observation = [-2.95593492 -4.16853127  3.01592895  0.0055629   0.00477823  0.01136978]\n"
     ]
    },
    {
     "name": "stderr",
     "output_type": "stream",
     "text": [
      "\r",
      "  2%|█▎                                                                                | 2/130 [00:01<01:19,  1.61it/s]"
     ]
    },
    {
     "name": "stdout",
     "output_type": "stream",
     "text": [
      "observation = [-1.16146225e+00 -1.55250882e+00  2.07345115e+00  4.66253064e-04\n",
      "  2.10803455e-03  5.37399960e-03]\n"
     ]
    },
    {
     "name": "stderr",
     "output_type": "stream",
     "text": [
      "\r",
      "  2%|█▉                                                                                | 3/130 [00:01<01:17,  1.63it/s]"
     ]
    },
    {
     "name": "stdout",
     "output_type": "stream",
     "text": [
      "observation = [7.14133545e-01 1.07756750e-01 2.26194671e+00 7.44277204e-04\n",
      " 3.95728064e-02 6.39550365e-03]\n"
     ]
    },
    {
     "name": "stderr",
     "output_type": "stream",
     "text": [
      "\r",
      "  3%|██▌                                                                               | 4/130 [00:02<01:18,  1.61it/s]"
     ]
    },
    {
     "name": "stdout",
     "output_type": "stream",
     "text": [
      "observation = [-2.5292737  -0.25434799  0.87964594  0.11630882  0.00498496  0.06413269]\n"
     ]
    },
    {
     "name": "stderr",
     "output_type": "stream",
     "text": [
      "\r",
      "  4%|███▏                                                                              | 5/130 [00:03<01:18,  1.59it/s]"
     ]
    },
    {
     "name": "stdout",
     "output_type": "stream",
     "text": [
      "observation = [-1.14862783e-01 -2.07530482e+00 -6.28318531e-01  7.56477069e-04\n",
      "  6.83104233e-02  3.99718978e-02]\n"
     ]
    },
    {
     "name": "stderr",
     "output_type": "stream",
     "text": [
      "\r",
      "  5%|███▊                                                                              | 6/130 [00:03<01:24,  1.48it/s]"
     ]
    },
    {
     "name": "stdout",
     "output_type": "stream",
     "text": [
      "observation = [ 2.15286125 -2.05420429 -0.43982297  0.15948468  0.1946051   0.0426811 ]\n"
     ]
    },
    {
     "name": "stderr",
     "output_type": "stream",
     "text": [
      "\r",
      "  5%|████▍                                                                             | 7/130 [00:04<01:28,  1.39it/s]"
     ]
    },
    {
     "name": "stdout",
     "output_type": "stream",
     "text": [
      "observation = [ 1.92791959e+00 -6.48893201e-01  9.42477796e-01  1.49833818e-02\n",
      "  1.04449001e-02  1.11033050e-03]\n"
     ]
    },
    {
     "name": "stderr",
     "output_type": "stream",
     "text": [
      "\r",
      "  6%|█████                                                                             | 8/130 [00:05<01:31,  1.33it/s]"
     ]
    },
    {
     "name": "stdout",
     "output_type": "stream",
     "text": [
      "observation = [ 3.98689353  3.6622711  -2.136283    0.14336344  0.82795611  0.021496  ]\n"
     ]
    },
    {
     "name": "stderr",
     "output_type": "stream",
     "text": [
      "\r",
      "  7%|█████▋                                                                            | 9/130 [00:06<01:35,  1.27it/s]"
     ]
    },
    {
     "name": "stdout",
     "output_type": "stream",
     "text": [
      "observation = [ 2.5385077  -1.79783673 -0.25132741  0.11259856  0.25601855  0.04547914]\n"
     ]
    },
    {
     "name": "stderr",
     "output_type": "stream",
     "text": [
      "\r",
      "  8%|██████▏                                                                          | 10/130 [00:07<01:39,  1.20it/s]"
     ]
    },
    {
     "name": "stdout",
     "output_type": "stream",
     "text": [
      "observation = [ 1.15672257 -0.50973112  1.50796447  0.00930892  0.06011339  0.00284245]\n"
     ]
    },
    {
     "name": "stderr",
     "output_type": "stream",
     "text": [
      "\r",
      "  8%|██████▊                                                                          | 11/130 [00:08<01:43,  1.15it/s]"
     ]
    },
    {
     "name": "stdout",
     "output_type": "stream",
     "text": [
      "observation = [-0.40503777  0.65129651  1.88495559  0.0027506   0.0146623   0.00444132]\n"
     ]
    },
    {
     "name": "stderr",
     "output_type": "stream",
     "text": [
      "\r",
      "  9%|███████▍                                                                         | 12/130 [00:09<01:47,  1.10it/s]"
     ]
    },
    {
     "name": "stdout",
     "output_type": "stream",
     "text": [
      "observation = [ 1.57998582 -0.64288395  1.88495559  0.0172624   0.06485605  0.00444132]\n"
     ]
    },
    {
     "name": "stderr",
     "output_type": "stream",
     "text": [
      "\r",
      " 10%|████████                                                                         | 13/130 [00:10<01:53,  1.03it/s]"
     ]
    },
    {
     "name": "stdout",
     "output_type": "stream",
     "text": [
      "observation = [6.63501090e-01 2.97030582e-01 2.07345115e+00 5.87936308e-04\n",
      " 2.16572946e-02 5.37399960e-03]\n"
     ]
    },
    {
     "name": "stderr",
     "output_type": "stream",
     "text": [
      "\r",
      " 11%|████████▋                                                                        | 14/130 [00:11<01:57,  1.01s/it]"
     ]
    },
    {
     "name": "stdout",
     "output_type": "stream",
     "text": [
      "observation = [1.14103372e-01 2.70465202e-01 2.26194671e+00 1.65271020e-05\n",
      " 2.04018237e-02 6.39550365e-03]\n"
     ]
    },
    {
     "name": "stderr",
     "output_type": "stream",
     "text": [
      "\r",
      " 12%|█████████▎                                                                       | 15/130 [00:12<02:04,  1.09s/it]"
     ]
    },
    {
     "name": "stdout",
     "output_type": "stream",
     "text": [
      "observation = [2.28352789e-01 2.51124868e-01 2.07345115e+00 1.43935132e-04\n",
      " 2.16876344e-02 5.37399960e-03]\n"
     ]
    },
    {
     "name": "stderr",
     "output_type": "stream",
     "text": [
      "\r",
      " 12%|█████████▉                                                                       | 16/130 [00:14<02:09,  1.14s/it]"
     ]
    },
    {
     "name": "stdout",
     "output_type": "stream",
     "text": [
      "observation = [-0.89451989  0.04098292  1.88495559  0.00238844  0.00914082  0.00444132]\n"
     ]
    },
    {
     "name": "stderr",
     "output_type": "stream",
     "text": [
      "\r",
      " 13%|██████████▌                                                                      | 17/130 [00:15<02:14,  1.19s/it]"
     ]
    },
    {
     "name": "stdout",
     "output_type": "stream",
     "text": [
      "observation = [0.66223541 0.00905525 2.45044227 0.00259312 0.0317826  0.00750583]\n"
     ]
    },
    {
     "name": "stderr",
     "output_type": "stream",
     "text": [
      "\r",
      " 14%|███████████▏                                                                     | 18/130 [00:16<02:20,  1.25s/it]"
     ]
    },
    {
     "name": "stdout",
     "output_type": "stream",
     "text": [
      "observation = [ 4.40067432e+00 -1.92064090e+00 -1.13097336e+00  4.67650214e-02\n",
      "  1.12569975e-04  1.59887591e-03]\n"
     ]
    },
    {
     "name": "stderr",
     "output_type": "stream",
     "text": [
      "\r",
      " 15%|███████████▊                                                                     | 19/130 [00:18<02:25,  1.31s/it]"
     ]
    },
    {
     "name": "stdout",
     "output_type": "stream",
     "text": [
      "observation = [6.64070981e-01 5.39870039e-01 2.45044227e+00 1.98233620e-04\n",
      " 2.88499577e-02 7.50583415e-03]\n"
     ]
    },
    {
     "name": "stderr",
     "output_type": "stream",
     "text": [
      "\r",
      " 15%|████████████▍                                                                    | 20/130 [00:19<02:31,  1.37s/it]"
     ]
    },
    {
     "name": "stdout",
     "output_type": "stream",
     "text": [
      "observation = [1.24326902e-01 5.47497509e-02 2.07345115e+00 1.51134565e-04\n",
      " 1.48673865e-02 5.37399960e-03]\n"
     ]
    },
    {
     "name": "stderr",
     "output_type": "stream",
     "text": [
      "\r",
      " 16%|█████████████                                                                    | 21/130 [00:21<02:37,  1.45s/it]"
     ]
    },
    {
     "name": "stdout",
     "output_type": "stream",
     "text": [
      "observation = [ 0.73920556 -0.09420903  2.26194671  0.00350064  0.02967961  0.0063955 ]\n"
     ]
    },
    {
     "name": "stderr",
     "output_type": "stream",
     "text": [
      "\r",
      " 17%|█████████████▋                                                                   | 22/130 [00:23<02:47,  1.55s/it]"
     ]
    },
    {
     "name": "stdout",
     "output_type": "stream",
     "text": [
      "observation = [5.38272695e-01 3.83789132e-01 2.45044227e+00 2.07790198e-04\n",
      " 3.12633290e-02 7.50583415e-03]\n"
     ]
    },
    {
     "name": "stderr",
     "output_type": "stream",
     "text": [
      "\r",
      " 18%|██████████████▎                                                                  | 23/130 [00:24<02:52,  1.61s/it]"
     ]
    },
    {
     "name": "stdout",
     "output_type": "stream",
     "text": [
      "observation = [5.17840525e-01 3.73869173e-01 2.26194671e+00 1.85069889e-04\n",
      " 3.04287464e-02 6.39550365e-03]\n"
     ]
    },
    {
     "name": "stderr",
     "output_type": "stream",
     "text": [
      "\r",
      " 18%|██████████████▉                                                                  | 24/130 [00:26<03:01,  1.71s/it]"
     ]
    },
    {
     "name": "stdout",
     "output_type": "stream",
     "text": [
      "observation = [5.73144542e-01 2.86976098e-01 2.26194671e+00 6.84701456e-04\n",
      " 2.89035318e-02 6.39550365e-03]\n"
     ]
    },
    {
     "name": "stderr",
     "output_type": "stream",
     "text": [
      "\r",
      " 19%|███████████████▌                                                                 | 25/130 [00:28<03:09,  1.81s/it]"
     ]
    },
    {
     "name": "stdout",
     "output_type": "stream",
     "text": [
      "observation = [1.03287916 0.3611794  2.45044227 0.00283791 0.04128595 0.00750583]\n"
     ]
    },
    {
     "name": "stderr",
     "output_type": "stream",
     "text": [
      "\r",
      " 20%|████████████████▏                                                                | 26/130 [00:30<03:15,  1.88s/it]"
     ]
    },
    {
     "name": "stdout",
     "output_type": "stream",
     "text": [
      "observation = [7.89493256e-01 6.50062366e-01 2.45044227e+00 7.21292632e-04\n",
      " 3.44187880e-02 7.50583415e-03]\n"
     ]
    },
    {
     "name": "stderr",
     "output_type": "stream",
     "text": [
      "\r",
      " 21%|████████████████▊                                                                | 27/130 [00:33<03:23,  1.97s/it]"
     ]
    },
    {
     "name": "stdout",
     "output_type": "stream",
     "text": [
      "observation = [6.09729233e-01 1.24433136e+00 2.45044227e+00 5.69469689e-04\n",
      " 3.01641863e-02 7.50583415e-03]\n"
     ]
    },
    {
     "name": "stderr",
     "output_type": "stream",
     "text": [
      "\r",
      " 22%|█████████████████▍                                                               | 28/130 [00:35<03:29,  2.06s/it]"
     ]
    },
    {
     "name": "stdout",
     "output_type": "stream",
     "text": [
      "observation = [9.27327858e-01 1.43223576e+00 2.82743339e+00 1.42306720e-04\n",
      " 3.24064377e-02 9.99297446e-03]\n"
     ]
    },
    {
     "name": "stderr",
     "output_type": "stream",
     "text": [
      "\r",
      " 22%|██████████████████                                                               | 29/130 [00:37<03:36,  2.15s/it]"
     ]
    },
    {
     "name": "stdout",
     "output_type": "stream",
     "text": [
      "observation = [ 3.88792479  1.27341245 -1.75929189  0.00931245  0.26440259  0.02558201]\n"
     ]
    },
    {
     "name": "stderr",
     "output_type": "stream",
     "text": [
      "\r",
      " 23%|██████████████████▋                                                              | 30/130 [00:40<03:44,  2.24s/it]"
     ]
    },
    {
     "name": "stdout",
     "output_type": "stream",
     "text": [
      "observation = [1.61133923e+00 1.19582167e+00 2.82743339e+00 1.45915978e-03\n",
      " 5.04843780e-02 9.99297446e-03]\n"
     ]
    },
    {
     "name": "stderr",
     "output_type": "stream",
     "text": [
      "\r",
      " 24%|███████████████████▎                                                             | 31/130 [00:42<03:57,  2.40s/it]"
     ]
    },
    {
     "name": "stdout",
     "output_type": "stream",
     "text": [
      "observation = [ 2.66075618  1.14024912 -3.0787608   0.00736369  0.10968495  0.01283542]\n"
     ]
    },
    {
     "name": "stderr",
     "output_type": "stream",
     "text": [
      "\r",
      " 25%|███████████████████▉                                                             | 32/130 [00:45<04:07,  2.52s/it]"
     ]
    },
    {
     "name": "stdout",
     "output_type": "stream",
     "text": [
      "observation = [ 2.98393516 -0.23913687 -1.00530965  0.11906645  0.11170222  0.03481996]\n"
     ]
    },
    {
     "name": "stderr",
     "output_type": "stream",
     "text": [
      "\r",
      " 25%|████████████████████▌                                                            | 33/130 [00:48<04:19,  2.68s/it]"
     ]
    },
    {
     "name": "stdout",
     "output_type": "stream",
     "text": [
      "observation = [ 3.21085816 -1.22263473 -0.62831853  0.25688429  0.12816006  0.0399719 ]\n"
     ]
    },
    {
     "name": "stderr",
     "output_type": "stream",
     "text": [
      "\r",
      " 26%|█████████████████████▏                                                           | 34/130 [00:51<04:31,  2.83s/it]"
     ]
    },
    {
     "name": "stdout",
     "output_type": "stream",
     "text": [
      "observation = [ 3.46961684  0.27739153 -0.62831853  0.08968203  0.16415979  0.0399719 ]\n"
     ]
    },
    {
     "name": "stderr",
     "output_type": "stream",
     "text": [
      "\r",
      " 27%|█████████████████████▊                                                           | 35/130 [00:55<04:41,  2.97s/it]"
     ]
    },
    {
     "name": "stdout",
     "output_type": "stream",
     "text": [
      "observation = [ 2.92589803  1.17776183 -1.19380521  0.01106027  0.14800651  0.03237724]\n"
     ]
    },
    {
     "name": "stderr",
     "output_type": "stream",
     "text": [
      "\r",
      " 28%|██████████████████████▍                                                          | 36/130 [00:58<04:55,  3.15s/it]"
     ]
    },
    {
     "name": "stdout",
     "output_type": "stream",
     "text": [
      "observation = [ 2.91333202e+00  1.66954269e+00 -1.38230077e+00  1.87591026e-03\n",
      "  1.33071478e-01  3.00233366e-02]\n"
     ]
    },
    {
     "name": "stderr",
     "output_type": "stream",
     "text": [
      "\r",
      " 28%|███████████████████████                                                          | 37/130 [01:02<05:08,  3.31s/it]"
     ]
    },
    {
     "name": "stdout",
     "output_type": "stream",
     "text": [
      "observation = [ 3.07555458e+00  1.71401627e+00 -1.19380521e+00  1.86854220e-03\n",
      "  1.51159030e-01  3.23772372e-02]\n"
     ]
    },
    {
     "name": "stderr",
     "output_type": "stream",
     "text": [
      "\r",
      " 29%|███████████████████████▋                                                         | 38/130 [01:06<05:20,  3.48s/it]"
     ]
    },
    {
     "name": "stdout",
     "output_type": "stream",
     "text": [
      "observation = [ 2.3579085   1.04443063 -2.51327412  0.01151372  0.06924726  0.01776529]\n"
     ]
    },
    {
     "name": "stderr",
     "output_type": "stream",
     "text": [
      "\r",
      " 30%|████████████████████████▎                                                        | 39/130 [01:10<05:32,  3.65s/it]"
     ]
    },
    {
     "name": "stdout",
     "output_type": "stream",
     "text": [
      "observation = [ 2.64690418  1.39962882 -3.0787608   0.00543109  0.10541238  0.01283542]\n"
     ]
    },
    {
     "name": "stderr",
     "output_type": "stream",
     "text": [
      "\r",
      " 31%|████████████████████████▉                                                        | 40/130 [01:14<05:44,  3.83s/it]"
     ]
    },
    {
     "name": "stdout",
     "output_type": "stream",
     "text": [
      "observation = [ 2.6743987   1.31408715 -2.70176968  0.00457358  0.11697395  0.01603317]\n"
     ]
    },
    {
     "name": "stderr",
     "output_type": "stream",
     "text": [
      "\r",
      " 32%|█████████████████████████▌                                                       | 41/130 [01:18<05:53,  3.97s/it]"
     ]
    },
    {
     "name": "stdout",
     "output_type": "stream",
     "text": [
      "observation = [ 2.70272083e+00  1.49135940e+00 -2.51327412e+00  2.32572262e-03\n",
      "  1.21748661e-01  1.77652879e-02]\n"
     ]
    },
    {
     "name": "stderr",
     "output_type": "stream",
     "text": [
      "\r",
      " 32%|██████████████████████████▏                                                      | 42/130 [01:23<06:09,  4.20s/it]"
     ]
    },
    {
     "name": "stdout",
     "output_type": "stream",
     "text": [
      "observation = [ 2.85215081  2.27565107 -1.19380521  0.00420877  0.14072537  0.03237724]\n"
     ]
    },
    {
     "name": "stderr",
     "output_type": "stream",
     "text": [
      "\r",
      " 33%|██████████████████████████▊                                                      | 43/130 [01:28<06:25,  4.43s/it]"
     ]
    },
    {
     "name": "stdout",
     "output_type": "stream",
     "text": [
      "observation = [ 2.76924144e+00  1.93458390e+00 -1.38230077e+00  1.32931557e-03\n",
      "  1.31901552e-01  3.00233366e-02]\n"
     ]
    },
    {
     "name": "stderr",
     "output_type": "stream",
     "text": [
      "\r",
      " 34%|███████████████████████████▍                                                     | 44/130 [01:33<06:41,  4.67s/it]"
     ]
    },
    {
     "name": "stdout",
     "output_type": "stream",
     "text": [
      "observation = [ 3.01192005e+00  1.65692481e+00 -1.94778745e+00  2.04422255e-03\n",
      "  1.41027671e-01  2.34945933e-02]\n"
     ]
    },
    {
     "name": "stderr",
     "output_type": "stream",
     "text": [
      "\r",
      " 35%|████████████████████████████                                                     | 45/130 [01:39<06:56,  4.89s/it]"
     ]
    },
    {
     "name": "stdout",
     "output_type": "stream",
     "text": [
      "observation = [ 3.00230865e+00  2.07348688e+00 -1.75929189e+00  1.07481111e-03\n",
      "  1.65447911e-01  2.55820146e-02]\n"
     ]
    },
    {
     "name": "stderr",
     "output_type": "stream",
     "text": [
      "\r",
      " 35%|████████████████████████████▋                                                    | 46/130 [01:45<07:14,  5.17s/it]"
     ]
    },
    {
     "name": "stdout",
     "output_type": "stream",
     "text": [
      "observation = [ 2.59653171e+00  1.42666750e+00 -2.32477856e+00  1.97847080e-03\n",
      "  1.83312609e-01  1.95862299e-02]\n"
     ]
    },
    {
     "name": "stderr",
     "output_type": "stream",
     "text": [
      "\r",
      " 36%|█████████████████████████████▎                                                   | 47/130 [01:51<07:48,  5.64s/it]"
     ]
    },
    {
     "name": "stdout",
     "output_type": "stream",
     "text": [
      "observation = [ 2.69536595  1.40285916 -2.51327412  0.00504809  0.10508325  0.01776529]\n"
     ]
    },
    {
     "name": "stderr",
     "output_type": "stream",
     "text": [
      "\r",
      " 37%|█████████████████████████████▉                                                   | 48/130 [02:00<08:43,  6.38s/it]"
     ]
    },
    {
     "name": "stdout",
     "output_type": "stream",
     "text": [
      "observation = [ 3.09597811e+00  2.17562614e+00 -1.57079633e+00  1.50986916e-03\n",
      "  1.61712698e-01  2.77582624e-02]\n"
     ]
    },
    {
     "name": "stderr",
     "output_type": "stream",
     "text": [
      "\r",
      " 38%|██████████████████████████████▌                                                  | 49/130 [02:07<09:00,  6.67s/it]"
     ]
    },
    {
     "name": "stdout",
     "output_type": "stream",
     "text": [
      "observation = [ 2.81154209  1.41956972 -2.70176968  0.00472182  0.10684272  0.01603317]\n"
     ]
    },
    {
     "name": "stderr",
     "output_type": "stream",
     "text": [
      "\r",
      " 38%|███████████████████████████████▏                                                 | 50/130 [02:14<08:59,  6.74s/it]"
     ]
    },
    {
     "name": "stdout",
     "output_type": "stream",
     "text": [
      "observation = [ 3.06502039e+00  1.87487253e+00 -1.19380521e+00  3.28495735e-04\n",
      "  1.47136765e-01  3.23772372e-02]\n"
     ]
    },
    {
     "name": "stderr",
     "output_type": "stream",
     "text": [
      "\r",
      " 39%|███████████████████████████████▊                                                 | 51/130 [02:22<09:21,  7.11s/it]"
     ]
    },
    {
     "name": "stdout",
     "output_type": "stream",
     "text": [
      "observation = [ 3.15843093e+00  1.73716891e+00 -1.38230077e+00  1.51550331e-03\n",
      "  1.49011041e-01  3.00233366e-02]\n"
     ]
    },
    {
     "name": "stderr",
     "output_type": "stream",
     "text": [
      "\r",
      " 40%|████████████████████████████████▍                                                | 52/130 [02:29<09:23,  7.22s/it]"
     ]
    },
    {
     "name": "stdout",
     "output_type": "stream",
     "text": [
      "observation = [ 2.8084047   1.42555357 -2.70176968  0.00466073  0.10649305  0.01603317]\n"
     ]
    },
    {
     "name": "stderr",
     "output_type": "stream",
     "text": [
      "\r",
      " 41%|█████████████████████████████████                                                | 53/130 [02:37<09:19,  7.26s/it]"
     ]
    },
    {
     "name": "stdout",
     "output_type": "stream",
     "text": [
      "observation = [ 3.10114601e+00  1.76326863e+00 -2.51327412e+00  1.22540869e-03\n",
      "  1.47113877e-01  1.77652879e-02]\n"
     ]
    },
    {
     "name": "stderr",
     "output_type": "stream",
     "text": [
      "\r",
      " 42%|█████████████████████████████████▋                                               | 54/130 [02:45<09:28,  7.48s/it]"
     ]
    },
    {
     "name": "stdout",
     "output_type": "stream",
     "text": [
      "observation = [ 2.91727552  1.54755776 -2.51327412  0.00422233  0.11780786  0.01776529]\n"
     ]
    },
    {
     "name": "stderr",
     "output_type": "stream",
     "text": [
      "\r",
      " 42%|██████████████████████████████████▎                                              | 55/130 [02:53<09:34,  7.65s/it]"
     ]
    },
    {
     "name": "stdout",
     "output_type": "stream",
     "text": [
      "observation = [ 3.01017767  1.53851448 -2.51327412  0.00521849  0.12092894  0.01776529]\n"
     ]
    },
    {
     "name": "stderr",
     "output_type": "stream",
     "text": [
      "\r",
      " 43%|██████████████████████████████████▉                                              | 56/130 [03:02<09:57,  8.07s/it]"
     ]
    },
    {
     "name": "stdout",
     "output_type": "stream",
     "text": [
      "observation = [ 2.77464387  1.46629748 -2.51327412  0.00624646  0.09380798  0.01776529]\n"
     ]
    },
    {
     "name": "stderr",
     "output_type": "stream",
     "text": [
      "\r",
      " 44%|███████████████████████████████████▌                                             | 57/130 [03:10<10:01,  8.24s/it]"
     ]
    },
    {
     "name": "stdout",
     "output_type": "stream",
     "text": [
      "observation = [ 3.03359857  1.56477097 -2.51327412  0.00366225  0.11785667  0.01776529]\n"
     ]
    },
    {
     "name": "stderr",
     "output_type": "stream",
     "text": [
      "\r",
      " 45%|████████████████████████████████████▏                                            | 58/130 [03:19<10:01,  8.36s/it]"
     ]
    },
    {
     "name": "stdout",
     "output_type": "stream",
     "text": [
      "observation = [ 2.99638168  1.60342979 -1.75929189  0.00355255  0.1211145   0.02558201]\n"
     ]
    },
    {
     "name": "stderr",
     "output_type": "stream",
     "text": [
      "\r",
      " 45%|████████████████████████████████████▊                                            | 59/130 [03:28<10:09,  8.58s/it]"
     ]
    },
    {
     "name": "stdout",
     "output_type": "stream",
     "text": [
      "observation = [ 2.98131954  1.61263808 -2.51327412  0.00563745  0.10669145  0.01776529]\n"
     ]
    },
    {
     "name": "stderr",
     "output_type": "stream",
     "text": [
      "\r",
      " 46%|█████████████████████████████████████▍                                           | 60/130 [03:37<10:18,  8.84s/it]"
     ]
    },
    {
     "name": "stdout",
     "output_type": "stream",
     "text": [
      "observation = [ 3.04803320e+00  2.01130286e+00 -1.00530965e+00  1.34341018e-04\n",
      "  1.15786337e-01  3.48199643e-02]\n"
     ]
    },
    {
     "name": "stderr",
     "output_type": "stream",
     "text": [
      "\r",
      " 47%|██████████████████████████████████████                                           | 61/130 [03:47<10:27,  9.09s/it]"
     ]
    },
    {
     "name": "stdout",
     "output_type": "stream",
     "text": [
      "observation = [ 2.68425534  2.35411368 -0.62831853  0.0091335   0.1060964   0.0399719 ]\n"
     ]
    },
    {
     "name": "stderr",
     "output_type": "stream",
     "text": [
      "\r",
      " 48%|██████████████████████████████████████▋                                          | 62/130 [03:57<10:39,  9.41s/it]"
     ]
    },
    {
     "name": "stdout",
     "output_type": "stream",
     "text": [
      "observation = [ 3.14581547e+00  2.02139822e+00 -8.16814090e-01  2.11720220e-04\n",
      "  1.27755303e-01  3.73515179e-02]\n"
     ]
    },
    {
     "name": "stderr",
     "output_type": "stream",
     "text": [
      "\r",
      " 48%|███████████████████████████████████████▎                                         | 63/130 [04:08<10:49,  9.70s/it]"
     ]
    },
    {
     "name": "stdout",
     "output_type": "stream",
     "text": [
      "observation = [ 2.94473795  1.57657028 -2.51327412  0.00532576  0.10322631  0.01776529]\n"
     ]
    },
    {
     "name": "stderr",
     "output_type": "stream",
     "text": [
      "\r",
      " 49%|███████████████████████████████████████▉                                         | 64/130 [04:19<11:11, 10.18s/it]"
     ]
    },
    {
     "name": "stdout",
     "output_type": "stream",
     "text": [
      "observation = [ 3.18405823e+00  2.03675825e+00 -8.16814090e-01  2.33849999e-04\n",
      "  1.33907062e-01  3.73515179e-02]\n"
     ]
    },
    {
     "name": "stderr",
     "output_type": "stream",
     "text": [
      "\r",
      " 50%|████████████████████████████████████████▌                                        | 65/130 [04:30<11:18, 10.44s/it]"
     ]
    },
    {
     "name": "stdout",
     "output_type": "stream",
     "text": [
      "observation = [ 3.01560357  1.57617837 -2.136283    0.00565323  0.10363924  0.021496  ]\n"
     ]
    },
    {
     "name": "stderr",
     "output_type": "stream",
     "text": [
      "\r",
      " 51%|█████████████████████████████████████████                                        | 66/130 [04:41<11:22, 10.67s/it]"
     ]
    },
    {
     "name": "stdout",
     "output_type": "stream",
     "text": [
      "observation = [ 2.64106366  1.48387403 -2.70176968  0.00683068  0.07713503  0.01603317]\n"
     ]
    },
    {
     "name": "stderr",
     "output_type": "stream",
     "text": [
      "\r",
      " 52%|█████████████████████████████████████████▋                                       | 67/130 [04:53<11:35, 11.04s/it]"
     ]
    },
    {
     "name": "stdout",
     "output_type": "stream",
     "text": [
      "observation = [ 3.01560357  1.57617837 -2.136283    0.00565323  0.10363924  0.021496  ]\n"
     ]
    },
    {
     "name": "stderr",
     "output_type": "stream",
     "text": [
      "\r",
      " 52%|██████████████████████████████████████████▎                                      | 68/130 [05:05<11:45, 11.37s/it]"
     ]
    },
    {
     "name": "stdout",
     "output_type": "stream",
     "text": [
      "observation = [ 3.05921100e+00  1.84972923e+00 -1.75929189e+00  1.00868140e-03\n",
      "  1.26605793e-01  2.55820146e-02]\n"
     ]
    },
    {
     "name": "stderr",
     "output_type": "stream",
     "text": [
      "\r",
      " 53%|██████████████████████████████████████████▉                                      | 69/130 [05:18<12:04, 11.88s/it]"
     ]
    },
    {
     "name": "stdout",
     "output_type": "stream",
     "text": [
      "observation = [ 2.76443261  1.43577055 -2.70176968  0.00876685  0.07848975  0.01603317]\n"
     ]
    },
    {
     "name": "stderr",
     "output_type": "stream",
     "text": [
      "\r",
      " 54%|███████████████████████████████████████████▌                                     | 70/130 [05:32<12:26, 12.45s/it]"
     ]
    },
    {
     "name": "stdout",
     "output_type": "stream",
     "text": [
      "observation = [ 2.82005577  1.59869728 -2.70176968  0.00659201  0.08768654  0.01603317]\n"
     ]
    },
    {
     "name": "stderr",
     "output_type": "stream",
     "text": [
      "\r",
      " 55%|████████████████████████████████████████████▏                                    | 71/130 [05:46<12:36, 12.83s/it]"
     ]
    },
    {
     "name": "stdout",
     "output_type": "stream",
     "text": [
      "observation = [ 3.02683179  1.4452148  -1.94778745  0.01307306  0.09493121  0.02349459]\n"
     ]
    },
    {
     "name": "stderr",
     "output_type": "stream",
     "text": [
      "\r",
      " 55%|████████████████████████████████████████████▊                                    | 72/130 [06:01<13:06, 13.56s/it]"
     ]
    },
    {
     "name": "stdout",
     "output_type": "stream",
     "text": [
      "observation = [ 2.90223443  1.37548509 -2.89026524  0.01070436  0.07968237  0.01438988]\n"
     ]
    },
    {
     "name": "stderr",
     "output_type": "stream",
     "text": [
      "\r",
      " 56%|█████████████████████████████████████████████▍                                   | 73/130 [06:17<13:32, 14.25s/it]"
     ]
    },
    {
     "name": "stdout",
     "output_type": "stream",
     "text": [
      "observation = [ 2.97678937e+00  2.05543470e+00 -1.57079633e+00  1.34859288e-03\n",
      "  1.03226533e-01  2.77582624e-02]\n"
     ]
    },
    {
     "name": "stderr",
     "output_type": "stream",
     "text": [
      "\r",
      " 57%|██████████████████████████████████████████████                                   | 74/130 [06:33<13:42, 14.69s/it]"
     ]
    },
    {
     "name": "stdout",
     "output_type": "stream",
     "text": [
      "observation = [ 3.14554912  1.51889561 -2.32477856  0.01343089  0.07701766  0.01958623]\n"
     ]
    },
    {
     "name": "stderr",
     "output_type": "stream",
     "text": [
      "\r",
      " 58%|██████████████████████████████████████████████▋                                  | 75/130 [07:07<18:49, 20.54s/it]"
     ]
    },
    {
     "name": "stdout",
     "output_type": "stream",
     "text": [
      "observation = [1.27343629e+00 1.10476467e+00 2.26194671e+00 4.47226143e-04\n",
      " 2.73695663e-02 6.39550365e-03]\n"
     ]
    },
    {
     "name": "stderr",
     "output_type": "stream",
     "text": [
      "\r",
      " 58%|███████████████████████████████████████████████▎                                 | 76/130 [07:42<22:32, 25.05s/it]"
     ]
    },
    {
     "name": "stdout",
     "output_type": "stream",
     "text": [
      "observation = [ 3.02451683  1.4777891  -2.32477856  0.02163838  0.0532391   0.01958623]\n"
     ]
    },
    {
     "name": "stderr",
     "output_type": "stream",
     "text": [
      "\r",
      " 59%|███████████████████████████████████████████████▉                                 | 77/130 [09:25<42:46, 48.43s/it]"
     ]
    },
    {
     "name": "stdout",
     "output_type": "stream",
     "text": [
      "observation = [ 2.73779666  1.15726901 -2.89026524  0.0161549   0.07417434  0.01438988]\n"
     ]
    },
    {
     "name": "stderr",
     "output_type": "stream",
     "text": [
      "\r",
      " 60%|███████████████████████████████████████████████▍                               | 78/130 [12:09<1:11:50, 82.89s/it]"
     ]
    },
    {
     "name": "stdout",
     "output_type": "stream",
     "text": [
      "observation = [ 3.17588257  1.96812641 -2.136283    0.0059303   0.08158599  0.021496  ]\n"
     ]
    },
    {
     "name": "stderr",
     "output_type": "stream",
     "text": [
      "\r",
      " 61%|███████████████████████████████████████████████▍                              | 79/130 [15:38<1:42:46, 120.91s/it]"
     ]
    },
    {
     "name": "stdout",
     "output_type": "stream",
     "text": [
      "observation = [ 3.08842653  2.0413654  -1.94778745  0.00528024  0.06616786  0.02349459]\n"
     ]
    },
    {
     "name": "stderr",
     "output_type": "stream",
     "text": [
      "\r",
      " 62%|████████████████████████████████████████████████                              | 80/130 [19:50<2:13:19, 160.00s/it]"
     ]
    },
    {
     "name": "stdout",
     "output_type": "stream",
     "text": [
      "observation = [ 2.63386929e+00  2.15284769e+00 -5.65486678e-01  1.66462502e-02\n",
      "  6.28014416e-02  3.99718978e-04]\n"
     ]
    },
    {
     "name": "stderr",
     "output_type": "stream",
     "text": [
      "\r",
      " 62%|████████████████████████████████████████████████▌                             | 81/130 [24:34<2:41:12, 197.39s/it]"
     ]
    },
    {
     "name": "stdout",
     "output_type": "stream",
     "text": [
      "observation = [ 2.92355158e+00  1.43503735e+00 -1.13097336e+00  9.91244423e-03\n",
      "  4.83723548e-02  1.59887591e-03]\n"
     ]
    },
    {
     "name": "stderr",
     "output_type": "stream",
     "text": [
      "\r",
      " 63%|█████████████████████████████████████████████████▏                            | 82/130 [30:03<3:09:32, 236.92s/it]"
     ]
    },
    {
     "name": "stdout",
     "output_type": "stream",
     "text": [
      "observation = [ 1.07267933e+00  6.93330892e-01 -1.02834408e-15  1.67353244e-03\n",
      "  3.00719063e-02  1.85799084e-30]\n"
     ]
    },
    {
     "name": "stderr",
     "output_type": "stream",
     "text": [
      "\r",
      " 64%|█████████████████████████████████████████████████▊                            | 83/130 [35:59<3:33:32, 272.61s/it]"
     ]
    },
    {
     "name": "stdout",
     "output_type": "stream",
     "text": [
      "observation = [3.26948414e+00 1.89056497e+00 7.53982237e-01 1.09297032e-02\n",
      " 6.43645554e-02 7.10611517e-04]\n"
     ]
    },
    {
     "name": "stderr",
     "output_type": "stream",
     "text": [
      "\r",
      " 65%|██████████████████████████████████████████████████▍                           | 84/130 [42:43<3:59:07, 311.90s/it]"
     ]
    },
    {
     "name": "stdout",
     "output_type": "stream",
     "text": [
      "observation = [2.90547257e+00 1.62979410e+00 1.88495559e-01 9.87086538e-03\n",
      " 5.60661011e-02 4.44132198e-05]\n"
     ]
    },
    {
     "name": "stderr",
     "output_type": "stream",
     "text": [
      "\r",
      " 65%|███████████████████████████████████████████████████                           | 85/130 [47:14<3:44:50, 299.79s/it]"
     ]
    },
    {
     "name": "stdout",
     "output_type": "stream",
     "text": [
      "observation = [ 2.87525224e+00  1.50242405e+00 -1.88495559e-01  9.25058403e-03\n",
      "  5.28604297e-02  4.44132198e-05]\n"
     ]
    },
    {
     "name": "stderr",
     "output_type": "stream",
     "text": [
      "\r",
      " 66%|███████████████████████████████████████████████████▌                          | 86/130 [48:01<2:44:06, 223.79s/it]"
     ]
    },
    {
     "name": "stdout",
     "output_type": "stream",
     "text": [
      "observation = [ 2.81263671e+00  1.54514105e+00 -3.62210262e-16  8.06260616e-03\n",
      "  5.38190707e-02  2.29732627e-31]\n"
     ]
    },
    {
     "name": "stderr",
     "output_type": "stream",
     "text": [
      "\r",
      " 67%|████████████████████████████████████████████████████▏                         | 87/130 [48:51<2:03:05, 171.77s/it]"
     ]
    },
    {
     "name": "stdout",
     "output_type": "stream",
     "text": [
      "observation = [3.04257959 2.02109134 3.01592895 0.00579636 0.06840732 0.01136978]\n"
     ]
    },
    {
     "name": "stderr",
     "output_type": "stream",
     "text": [
      "\r",
      " 68%|████████████████████████████████████████████████████▊                         | 88/130 [49:41<1:34:43, 135.32s/it]"
     ]
    },
    {
     "name": "stdout",
     "output_type": "stream",
     "text": [
      "observation = [ 2.99151647  1.75918155 -2.89026524  0.00691866  0.08537196  0.01438988]\n"
     ]
    },
    {
     "name": "stderr",
     "output_type": "stream",
     "text": [
      "\r",
      " 68%|█████████████████████████████████████████████████████▍                        | 89/130 [50:34<1:15:24, 110.36s/it]"
     ]
    },
    {
     "name": "stdout",
     "output_type": "stream",
     "text": [
      "observation = [ 3.08197189  2.09988129 -2.136283    0.0040482   0.08575375  0.021496  ]\n"
     ]
    },
    {
     "name": "stderr",
     "output_type": "stream",
     "text": [
      "\r",
      " 69%|██████████████████████████████████████████████████████▋                        | 90/130 [51:32<1:03:05, 94.65s/it]"
     ]
    },
    {
     "name": "stdout",
     "output_type": "stream",
     "text": [
      "observation = [2.77665413 2.00213037 2.26194671 0.00417581 0.06002018 0.0063955 ]\n"
     ]
    },
    {
     "name": "stderr",
     "output_type": "stream",
     "text": [
      "\r",
      " 70%|████████████████████████████████████████████████████████▋                        | 91/130 [52:29<54:13, 83.42s/it]"
     ]
    },
    {
     "name": "stdout",
     "output_type": "stream",
     "text": [
      "observation = [3.12014343 1.87386493 2.45044227 0.0073664  0.06432203 0.00750583]\n"
     ]
    },
    {
     "name": "stderr",
     "output_type": "stream",
     "text": [
      "\r",
      " 71%|█████████████████████████████████████████████████████████▎                       | 92/130 [53:34<49:24, 78.00s/it]"
     ]
    },
    {
     "name": "stdout",
     "output_type": "stream",
     "text": [
      "observation = [ 2.45046521e+00  1.17697328e+00 -1.41414658e-15  1.30544407e-02\n",
      "  3.84214521e-02  3.69486578e-30]\n"
     ]
    },
    {
     "name": "stderr",
     "output_type": "stream",
     "text": [
      "\r",
      " 72%|█████████████████████████████████████████████████████████▉                       | 93/130 [54:38<45:33, 73.88s/it]"
     ]
    },
    {
     "name": "stdout",
     "output_type": "stream",
     "text": [
      "observation = [2.54207289e+00 1.22906563e+00 9.42477796e-01 8.98462563e-03\n",
      " 4.40787164e-02 1.11033050e-03]\n"
     ]
    },
    {
     "name": "stderr",
     "output_type": "stream",
     "text": [
      "\r",
      " 72%|██████████████████████████████████████████████████████████▌                      | 94/130 [55:39<42:01, 70.04s/it]"
     ]
    },
    {
     "name": "stdout",
     "output_type": "stream",
     "text": [
      "observation = [6.23566326e-01 1.28769098e+00 2.26194671e+00 5.30186891e-04\n",
      " 4.44966906e-02 6.39550365e-03]\n"
     ]
    },
    {
     "name": "stderr",
     "output_type": "stream",
     "text": [
      "\r",
      " 73%|███████████████████████████████████████████████████████████▏                     | 95/130 [56:36<38:29, 65.99s/it]"
     ]
    },
    {
     "name": "stdout",
     "output_type": "stream",
     "text": [
      "observation = [2.95739246e+00 1.99866839e+00 1.31946891e+00 5.53980633e-03\n",
      " 6.49850122e-02 2.17624777e-03]\n"
     ]
    },
    {
     "name": "stderr",
     "output_type": "stream",
     "text": [
      "\r",
      " 74%|███████████████████████████████████████████████████████████▊                     | 96/130 [57:39<36:52, 65.08s/it]"
     ]
    },
    {
     "name": "stdout",
     "output_type": "stream",
     "text": [
      "observation = [2.46805434e+00 2.48817363e+00 2.07345115e+00 3.26936040e-04\n",
      " 6.01475672e-02 5.37399960e-03]\n"
     ]
    },
    {
     "name": "stderr",
     "output_type": "stream",
     "text": [
      "\r",
      " 75%|████████████████████████████████████████████████████████████▍                    | 97/130 [58:47<36:16, 65.94s/it]"
     ]
    },
    {
     "name": "stdout",
     "output_type": "stream",
     "text": [
      "observation = [3.37843751 1.75431292 1.88495559 0.01238318 0.06467067 0.00444132]\n"
     ]
    },
    {
     "name": "stderr",
     "output_type": "stream",
     "text": [
      "\r",
      " 75%|█████████████████████████████████████████████████████████████                    | 98/130 [59:53<35:13, 66.03s/it]"
     ]
    },
    {
     "name": "stdout",
     "output_type": "stream",
     "text": [
      "observation = [ 2.66227740e+00  1.50290729e+00 -2.70176968e+00  1.81918955e-03\n",
      "  1.27472992e-01  1.60331723e-02]\n"
     ]
    },
    {
     "name": "stderr",
     "output_type": "stream",
     "text": [
      "\r",
      " 76%|████████████████████████████████████████████████████████████▏                  | 99/130 [1:00:52<33:04, 64.01s/it]"
     ]
    },
    {
     "name": "stdout",
     "output_type": "stream",
     "text": [
      "observation = [ 2.69535714  1.97724348 -2.51327412  0.00473213  0.05911136  0.01776529]\n"
     ]
    },
    {
     "name": "stderr",
     "output_type": "stream",
     "text": [
      "\r",
      " 77%|████████████████████████████████████████████████████████████                  | 100/130 [1:01:54<31:39, 63.33s/it]"
     ]
    },
    {
     "name": "stdout",
     "output_type": "stream",
     "text": [
      "observation = [2.84764813 2.03089353 2.07345115 0.00433402 0.06367944 0.005374  ]\n"
     ]
    },
    {
     "name": "stderr",
     "output_type": "stream",
     "text": [
      "\r",
      " 78%|████████████████████████████████████████████████████████████▌                 | 101/130 [1:02:54<30:01, 62.13s/it]"
     ]
    },
    {
     "name": "stdout",
     "output_type": "stream",
     "text": [
      "observation = [2.75122959 1.67055434 1.69646003 0.0065788  0.05849854 0.00359747]\n"
     ]
    },
    {
     "name": "stderr",
     "output_type": "stream",
     "text": [
      "\r",
      " 78%|█████████████████████████████████████████████████████████████▏                | 102/130 [1:05:22<41:08, 88.15s/it]"
     ]
    },
    {
     "name": "stdout",
     "output_type": "stream",
     "text": [
      "observation = [6.48921494e+00 5.30497598e+00 7.53982237e-01 1.27879309e-02\n",
      " 2.19069366e-01 7.10611517e-04]\n"
     ]
    },
    {
     "name": "stderr",
     "output_type": "stream",
     "text": [
      "\r",
      " 79%|███████████████████████████████████████████████████████████▍               | 103/130 [1:10:42<1:10:57, 157.70s/it]"
     ]
    },
    {
     "name": "stdout",
     "output_type": "stream",
     "text": [
      "observation = [3.03860044 2.00651784 1.88495559 0.00647376 0.06755281 0.00444132]\n"
     ]
    },
    {
     "name": "stderr",
     "output_type": "stream",
     "text": [
      "\r",
      " 80%|████████████████████████████████████████████████████████████               | 104/130 [1:15:27<1:24:52, 195.85s/it]"
     ]
    },
    {
     "name": "stdout",
     "output_type": "stream",
     "text": [
      "observation = [ 4.04892745e+00 -1.13609472e+00 -4.81559237e-16  2.32629232e-02\n",
      "  3.31163619e-03  1.15023470e-30]\n"
     ]
    },
    {
     "name": "stderr",
     "output_type": "stream",
     "text": [
      "\r",
      " 81%|████████████████████████████████████████████████████████████▌              | 105/130 [1:16:31<1:05:03, 156.13s/it]"
     ]
    },
    {
     "name": "stdout",
     "output_type": "stream",
     "text": [
      "observation = [2.19338192 0.45053458 2.82743339 0.01447066 0.07529799 0.00999297]\n"
     ]
    },
    {
     "name": "stderr",
     "output_type": "stream",
     "text": [
      "\r",
      " 82%|██████████████████████████████████████████████████████████████▊              | 106/130 [1:17:31<50:55, 127.32s/it]"
     ]
    },
    {
     "name": "stdout",
     "output_type": "stream",
     "text": [
      "observation = [2.86004491 1.72416305 1.88495559 0.00685766 0.0652209  0.00444132]\n"
     ]
    },
    {
     "name": "stderr",
     "output_type": "stream",
     "text": [
      "\r",
      " 82%|███████████████████████████████████████████████████████████████▍             | 107/130 [1:18:36<41:43, 108.83s/it]"
     ]
    },
    {
     "name": "stdout",
     "output_type": "stream",
     "text": [
      "observation = [ 2.90830913e+00  2.30769832e+00 -1.38230077e+00  2.10142967e-04\n",
      "  7.27747278e-02  3.00233366e-02]\n"
     ]
    },
    {
     "name": "stderr",
     "output_type": "stream",
     "text": [
      "\r",
      " 83%|████████████████████████████████████████████████████████████████▊             | 108/130 [1:19:31<33:55, 92.51s/it]"
     ]
    },
    {
     "name": "stdout",
     "output_type": "stream",
     "text": [
      "observation = [ 3.0713449   1.99937666 -1.94778745  0.00399312  0.07782954  0.02349459]\n"
     ]
    },
    {
     "name": "stderr",
     "output_type": "stream",
     "text": [
      "\r",
      " 84%|█████████████████████████████████████████████████████████████████▍            | 109/130 [1:20:28<28:37, 81.77s/it]"
     ]
    },
    {
     "name": "stdout",
     "output_type": "stream",
     "text": [
      "observation = [2.29384156 1.42281528 2.63893783 0.00565309 0.06448605 0.00870499]\n"
     ]
    },
    {
     "name": "stderr",
     "output_type": "stream",
     "text": [
      "\r",
      " 85%|██████████████████████████████████████████████████████████████████            | 110/130 [1:21:27<25:01, 75.05s/it]"
     ]
    },
    {
     "name": "stdout",
     "output_type": "stream",
     "text": [
      "observation = [2.89983012 2.009285   1.88495559 0.00498859 0.06387192 0.00444132]\n"
     ]
    },
    {
     "name": "stderr",
     "output_type": "stream",
     "text": [
      "\r",
      " 85%|██████████████████████████████████████████████████████████████████▌           | 111/130 [1:22:39<23:30, 74.24s/it]"
     ]
    },
    {
     "name": "stdout",
     "output_type": "stream",
     "text": [
      "observation = [ 2.18275234  2.22607478 -1.94778745  0.00281487  0.03173228  0.02349459]\n"
     ]
    },
    {
     "name": "stderr",
     "output_type": "stream",
     "text": [
      "\r",
      " 86%|███████████████████████████████████████████████████████████████████▏          | 112/130 [1:23:20<19:15, 64.22s/it]"
     ]
    },
    {
     "name": "stdout",
     "output_type": "stream",
     "text": [
      "observation = [2.02261821 3.7853278  2.45044227 0.00745849 0.06620674 0.00750583]\n"
     ]
    },
    {
     "name": "stderr",
     "output_type": "stream",
     "text": [
      "\r",
      " 87%|███████████████████████████████████████████████████████████████████▊          | 113/130 [1:24:03<16:20, 57.66s/it]"
     ]
    },
    {
     "name": "stdout",
     "output_type": "stream",
     "text": [
      "observation = [2.85612004 2.01977031 1.88495559 0.00453585 0.06312584 0.00444132]\n"
     ]
    },
    {
     "name": "stderr",
     "output_type": "stream",
     "text": [
      "\r",
      " 88%|████████████████████████████████████████████████████████████████████▍         | 114/130 [1:25:51<19:24, 72.81s/it]"
     ]
    },
    {
     "name": "stdout",
     "output_type": "stream",
     "text": [
      "observation = [ 2.86623318e+00  2.62313882e+00 -1.00530965e+00  2.39274729e-04\n",
      "  6.21901718e-02  3.48199643e-02]\n"
     ]
    },
    {
     "name": "stderr",
     "output_type": "stream",
     "text": [
      "\r",
      " 88%|████████████████████████████████████████████████████████████████████         | 115/130 [1:32:12<41:20, 165.35s/it]"
     ]
    },
    {
     "name": "stdout",
     "output_type": "stream",
     "text": [
      "observation = [ 2.67309956  2.17579403 -1.57079633  0.00293592  0.05026876  0.02775826]\n"
     ]
    }
   ],
   "source": [
    "num_iter=130\n",
    "\n",
    "position_result=[]\n",
    "observation_result=[]\n",
    "gpr_list=[[0 for i in range(num_action)] for j in range(N+1)]\n",
    "\n",
    "best_r=-10000\n",
    "best_obs=[]\n",
    "best_pos=[[] for i in range(num_system)]\n",
    "best_u=[]\n",
    "\n",
    "for iterr in tqdm(range(num_iter)):\n",
    "    #initialize\n",
    "    position=np.array([[-2,-2,0] for _ in range(num_system)])\n",
    "    observation=observe(position)\n",
    "    u_t=[]\n",
    "    r_t=[]\n",
    "    observation_t=[observation]\n",
    "    position_t=[[] for i in range(num_system)]\n",
    "    \n",
    "    \n",
    "    history_target=[0 for i in range(num_action)]\n",
    "    \n",
    "    '''\n",
    "    coeff=[]\n",
    "    for i in range(N):\n",
    "        coeff.append((np.random.random()-0.5)/100+0.8**(N-i))\n",
    "    coeff.append(1)\n",
    "    #print(coeff)\n",
    "    '''\n",
    "    \n",
    "    for time in range(N+1):\n",
    "        if iterr<5:\n",
    "            #candidates_u=[]\n",
    "            u_k = decide_u(gpr_list[time],flags,observation,init=True)\n",
    "            position_new = next_step(position,action_set[u_k])\n",
    "            observation_new = observe(position_new)\n",
    "            r = reward(observation_new)\n",
    "            r_t.append(r)\n",
    "            \n",
    "            if flags[u_k]:\n",
    "                history_su[u_k] = observation.reshape(-1,obs_para)\n",
    "                history_su_next[u_k] = observation_new.reshape(-1,obs_para)  \n",
    "                history_r[u_k] = np.array([r])\n",
    "                flags[u_k]=False\n",
    "            else:\n",
    "                history_su[u_k] = np.concatenate((history_su[u_k], observation.reshape(-1,obs_para)))\n",
    "                history_su_next[u_k] = np.concatenate((history_su_next[u_k], observation_new.reshape(-1,obs_para)))\n",
    "                history_r[u_k] = np.concatenate((history_r[u_k],np.array([r])))\n",
    "            \n",
    "            \n",
    "            observation=observation_new\n",
    "            position=position_new\n",
    "            u_t.append(u_k)\n",
    "            observation_t.append(observation)\n",
    "            for i in range(num_system):\n",
    "                position_t[i].append(position[i])\n",
    "            \n",
    "            \n",
    "        else:\n",
    "            #candidates_u=[]\n",
    "            u_k = decide_u(gpr_list[time],flags,observation)\n",
    "            #print(candidates_u)\n",
    "            #u_k, explo = decide_u(observation,np.array(candidates_u))\n",
    "            \n",
    "            position_new = next_step(position,action_set[u_k])\n",
    "            observation_new = observe(position_new)\n",
    "            r = reward(observation_new)\n",
    "            r_t.append(r)\n",
    "            \n",
    "            history_su[u_k] = np.concatenate((history_su[u_k], observation.reshape(-1,obs_para)))\n",
    "            history_r[u_k] = np.concatenate((history_r[u_k],np.array([r])))\n",
    "            history_su_next[u_k] = np.concatenate((history_su_next[u_k], observation_new.reshape(-1,obs_para)))\n",
    "            \n",
    "            observation=observation_new\n",
    "            position=position_new\n",
    "            u_t.append(u_k)\n",
    "            observation_t.append(observation)\n",
    "            for i in range(num_system):\n",
    "                position_t[i].append(position[i])\n",
    "            \n",
    "            \n",
    "            \n",
    "            \n",
    "    #update\n",
    "    #calculate cumulative r \n",
    "    \n",
    "\n",
    "    '''\n",
    "    for j in range(6):\n",
    "        history_target[j]=last_coeff*history_r[u_t[-i]]\n",
    "        gpr_list[-i][j]=GaussianProcessRegressor(alpha=1e-4).fit(history_su[j], history_target[j])\n",
    "    '''  \n",
    "         \n",
    "    #TODO\n",
    "       \n",
    "    for i in range(N+1):\n",
    "        if i==1:\n",
    "            for j in range(num_action):\n",
    "                history_target[j]=coeff[-1]*history_r[j]\n",
    "                gpr_list[-i][j]=GaussianProcessRegressor(alpha=1e-6).fit(np.array(history_su[j]).reshape(-1,obs_para), history_target[j].reshape(-1,1))\n",
    "            \n",
    "        elif i>1:\n",
    "            for j in range(num_action):\n",
    "                history_tar=[]\n",
    "                for k in range(history_r[j].shape[0]):\n",
    "                    history_tar.append(coeff[N+1-i]*history_r[j][k]+value_func(gpr_list[-i+1],flags_t[-i+1],history_su_next[j][k]))\n",
    "                gpr_list[-i][j]=GaussianProcessRegressor(alpha=1e-6).fit(np.array(history_su[j]).reshape(-1,obs_para), np.array(history_tar).reshape(-1,1))\n",
    "            '''\n",
    "            r_t[-i]=0.5**(N+1-i)*r_t[-i]+value_func(gpr_list[-i+1],flags_t[-i+1],observation_t[-i+1])\n",
    "            history_rt[-i][u_t[-i]].append(r_t[-i])\n",
    "            history_sut[-i][u_t[-i]].append(observation_t[-i])\n",
    "            gpr_list[-i][u_t[-i]]=GaussianProcessRegressor(alpha=1e-4).fit(np.array(history_sut[-i][u_t[-i]]).reshape(-1,5), np.array(history_rt[-i][u_t[-i]]).reshape(-1,1))\n",
    "            if flags_t[-i][u_t[-i]]:\n",
    "                flags_t[-i][u_t[-i]]=False\n",
    "            '''\n",
    "    for j in range(num_action):\n",
    "        history_tar=[]\n",
    "        for k in range(history_r[j].shape[0]):\n",
    "            history_tar.append(coeff[0]*history_r[j][k]+value_func(gpr_list[1],flags_t[1],history_su_next[j][k]))\n",
    "        gpr_list[0][j]=GaussianProcessRegressor(alpha=1e-6).fit(np.array(history_su[j]).reshape(-1,obs_para), np.array(history_tar).reshape(-1,1))\n",
    "\n",
    "            \n",
    "        \n",
    "    print(\"observation =\",observation)\n",
    "    #print(observation_t)\n",
    "    position_result.append(position)\n",
    "    observation_result.append(observation)\n",
    "    if r>best_r:\n",
    "        best_r=r\n",
    "        best_obs=observation_t\n",
    "        best_pos=position_t\n",
    "        best_u=u_t\n",
    "    \n",
    "    #print(history_su.shape)\n",
    "    #print(u_t)"
   ]
  },
  {
   "cell_type": "markdown",
   "id": "279315d1",
   "metadata": {},
   "source": [
    "# Results"
   ]
  },
  {
   "cell_type": "code",
   "execution_count": null,
   "id": "b553f371",
   "metadata": {},
   "outputs": [],
   "source": [
    "us=[2*(0.5-i%2) for i in u_t]\n",
    "vs=[(1-i//2)*np.pi/4 for i in u_t]\n",
    "\n",
    "u=[]\n",
    "v=[]\n",
    "for i in range(len(us)):\n",
    "    for j in range(20):\n",
    "        u.append(us[i])\n",
    "        v.append(vs[i])\n",
    "        \n",
    "x = np.linspace(0, T, (N+1)*20)\n",
    "plt.plot(x, u)\n",
    "plt.xlabel('t')\n",
    "plt.ylabel('u(t)')\n",
    "plt.title(\"u(t) vs time\")\n",
    "plt.grid()\n",
    "plt.show()\n",
    "\n",
    "x = np.linspace(0, T, (N+1)*20)\n",
    "plt.plot(x, v)\n",
    "plt.xlabel('t')\n",
    "plt.ylabel('v(t)')\n",
    "plt.title(\"v(t) vs time\")\n",
    "plt.grid()\n",
    "plt.show()"
   ]
  },
  {
   "cell_type": "markdown",
   "id": "0f175b0d",
   "metadata": {},
   "source": [
    "## Last Trajectory\n"
   ]
  },
  {
   "cell_type": "code",
   "execution_count": null,
   "id": "1f8fbeab",
   "metadata": {},
   "outputs": [],
   "source": [
    "obs=np.array(observation_t)\n",
    "obs=obs[:,[0,1]]\n",
    "plt.plot(obs[:,0],obs[:,1])\n",
    "plt.xlabel('X')\n",
    "plt.ylabel('Y')\n",
    "plt.show()"
   ]
  },
  {
   "cell_type": "code",
   "execution_count": null,
   "id": "a6f1d8d1",
   "metadata": {},
   "outputs": [],
   "source": [
    "pos=[]\n",
    "for i in range(num_system):\n",
    "    obs=np.array(position_t[i])\n",
    "    obs=obs[:,[0,1]]\n",
    "    plt.plot(obs[:,0],obs[:,1])\n",
    "    pos.append(obs[-1])\n",
    "plt.xlabel('X')\n",
    "plt.ylabel('Y')\n",
    "plt.show()\n",
    "print(reward_raw(np.array(pos)))\n",
    "\n",
    "cord_x=[]\n",
    "cord_y=[]\n",
    "for i in range(num_system):\n",
    "    cord_x.append(pos[i][0])\n",
    "    cord_y.append(pos[i][1])\n",
    "plt.plot(np.array(cord_x),np.array(cord_y), 'o')\n",
    "plt.plot(np.array([3]),np.array([2]), 'o')\n",
    "#plt.plot(obs[-1,0],obs[-1,1])\n",
    "plt.xlabel('X')\n",
    "plt.ylabel('Y')\n",
    "plt.grid()\n",
    "plt.show()\n"
   ]
  },
  {
   "cell_type": "markdown",
   "id": "43d797bf",
   "metadata": {},
   "source": [
    "## Best Trajectory"
   ]
  },
  {
   "cell_type": "code",
   "execution_count": null,
   "id": "bd99ebe4",
   "metadata": {},
   "outputs": [],
   "source": [
    "us=[2*(0.5-i%2) for i in best_u]\n",
    "vs=[(1-i//2)*np.pi/4 for i in best_u]\n",
    "\n",
    "u=[]\n",
    "v=[]\n",
    "for i in range(len(us)):\n",
    "    for j in range(20):\n",
    "        u.append(us[i])\n",
    "        v.append(vs[i])\n",
    "\n",
    "x = np.linspace(0, T, (N+1)*20)\n",
    "plt.plot(x, u)\n",
    "plt.xlabel('t')\n",
    "plt.ylabel('u(t)')\n",
    "plt.title(\"u(t) vs time\")\n",
    "plt.grid()\n",
    "plt.show()\n",
    "\n",
    "x = np.linspace(0, T, (N+1)*20)\n",
    "plt.plot(x, v)\n",
    "plt.xlabel('t')\n",
    "plt.ylabel('v(t)')\n",
    "plt.title(\"v(t) vs time\")\n",
    "plt.grid()\n",
    "plt.show()"
   ]
  },
  {
   "cell_type": "code",
   "execution_count": null,
   "id": "21c1b981",
   "metadata": {},
   "outputs": [],
   "source": [
    "obs=np.array(best_obs)\n",
    "obs=obs[:,[0,1]]\n",
    "plt.plot(obs[:,0],obs[:,1])\n",
    "plt.xlabel('X')\n",
    "plt.ylabel('Y')\n",
    "plt.show()"
   ]
  },
  {
   "cell_type": "code",
   "execution_count": null,
   "id": "8bc91eff",
   "metadata": {},
   "outputs": [],
   "source": [
    "pos=[]\n",
    "for i in range(num_system):\n",
    "    obs=np.array(best_pos[i])\n",
    "    obs=obs[:,[0,1]]\n",
    "    plt.plot(obs[:,0],obs[:,1])\n",
    "    pos.append(obs[-1])\n",
    "plt.xlabel('X')\n",
    "plt.ylabel('Y')\n",
    "plt.show()\n",
    "print(reward_raw(np.array(pos)))"
   ]
  },
  {
   "cell_type": "code",
   "execution_count": null,
   "id": "831b1f9a",
   "metadata": {},
   "outputs": [],
   "source": [
    "pos=[]\n",
    "for i in range(num_system):\n",
    "    obs=np.array(best_pos[i])\n",
    "    obs=obs[:,[0,1]]\n",
    "    #plt.plot(obs[:,0],obs[:,1])\n",
    "    pos.append(obs[-1])\n",
    "\n",
    "cord_x=[]\n",
    "cord_y=[]\n",
    "for i in range(num_system):\n",
    "    cord_x.append(pos[i][0])\n",
    "    cord_y.append(pos[i][1])\n",
    "plt.plot(np.array(cord_x),np.array(cord_y), 'o')\n",
    "plt.plot(np.array([3]),np.array([2]), 'o')\n",
    "#plt.plot(obs[-1,0],obs[-1,1])\n",
    "plt.xlabel('X')\n",
    "plt.ylabel('Y')\n",
    "plt.grid()\n",
    "plt.show()"
   ]
  },
  {
   "cell_type": "markdown",
   "id": "010a19b7",
   "metadata": {},
   "source": [
    "## Pure Exploitation Trajectory"
   ]
  },
  {
   "cell_type": "code",
   "execution_count": null,
   "id": "1d1e02bb",
   "metadata": {
    "scrolled": false
   },
   "outputs": [],
   "source": [
    "position=np.array([[-2,-2,np.pi/2] for _ in range(num_system)])\n",
    "observation=observe(position)\n",
    "u_t=[]\n",
    "observation_t=[observation]\n",
    "position_t=[[] for i in range(num_system)]\n",
    "\n",
    "for time in range(N+1):           \n",
    "    \n",
    "    #print(candidates_u)\n",
    "    u_k = decide_u_exploitation(gpr_list[time],flags,observation)\n",
    "    position_new = next_step(position,action_set[u_k])\n",
    "    observation_new = observe(position_new)\n",
    "    r = reward(observation_new)\n",
    "    '''\n",
    "    if explo:\n",
    "        history_su[u_k] = np.concatenate((history_su[u_k], observation.reshape(-1,5)))\n",
    "        history_r[u_k] = np.concatenate((history_r[u_k],np.array([r])))\n",
    "    '''\n",
    "    observation=observation_new\n",
    "    position=position_new\n",
    "    u_t.append(u_k)\n",
    "    observation_t.append(observation)\n",
    "    for i in range(num_system):\n",
    "        position_t[i].append(position[i])\n",
    "    '''\n",
    "    if time%((N+1)//3+1)==0:\n",
    "        for i in range(6):\n",
    "            gpr_list[i]=GaussianProcessRegressor(alpha=1e-8).fit(history_su[i], history_r[i].reshape(-1,1))\n",
    "    '''\n",
    "    \n",
    "us=[2*(0.5-i%2) for i in u_t]\n",
    "vs=[(1-i//2)*np.pi/4 for i in u_t]\n",
    "\n",
    "u=[]\n",
    "v=[]\n",
    "for i in range(len(us)):\n",
    "    for j in range(20):\n",
    "        u.append(us[i])\n",
    "        v.append(vs[i])\n",
    "    \n",
    "\n",
    "x = np.linspace(0, T, (N+1)*20)\n",
    "plt.plot(x, u)\n",
    "plt.xlabel('t')\n",
    "plt.ylabel('u(t)')\n",
    "plt.title(\"u(t) vs time\")\n",
    "plt.grid()\n",
    "plt.show()\n",
    "\n",
    "x = np.linspace(0, T, (N+1)*20)\n",
    "plt.plot(x, v)\n",
    "plt.xlabel('t')\n",
    "plt.ylabel('v(t)')\n",
    "plt.title(\"v(t) vs time\")\n",
    "plt.grid()\n",
    "plt.show()\n",
    "\n",
    "obs=np.array(observation_t)\n",
    "obs=obs[:,[0,1]]\n",
    "plt.plot(obs[:,0],obs[:,1])\n",
    "plt.xlabel('X')\n",
    "plt.ylabel('Y')\n",
    "plt.show()"
   ]
  },
  {
   "cell_type": "code",
   "execution_count": null,
   "id": "ec3ad861",
   "metadata": {},
   "outputs": [],
   "source": [
    "pos=[]\n",
    "for i in range(num_system):\n",
    "    obs=np.array(position_t[i])\n",
    "    obs=obs[:,[0,1]]\n",
    "    plt.plot(obs[:,0],obs[:,1])\n",
    "    pos.append(obs[-1])\n",
    "plt.xlabel('X')\n",
    "plt.ylabel('Y')\n",
    "plt.show()\n",
    "print(reward_raw(position))\n",
    "\n",
    "cord_x=[]\n",
    "cord_y=[]\n",
    "for i in range(num_system):\n",
    "    cord_x.append(pos[i][0])\n",
    "    cord_y.append(pos[i][1])\n",
    "plt.plot(np.array(cord_x),np.array(cord_y), 'o')\n",
    "plt.plot(np.array([3]),np.array([2]), 'o')\n",
    "#plt.plot(obs[-1,0],obs[-1,1])\n",
    "plt.xlabel('X')\n",
    "plt.ylabel('Y')\n",
    "plt.grid()\n",
    "plt.show()"
   ]
  },
  {
   "cell_type": "code",
   "execution_count": null,
   "id": "d6a9c85a",
   "metadata": {},
   "outputs": [],
   "source": []
  },
  {
   "cell_type": "code",
   "execution_count": null,
   "id": "4c2a97b9",
   "metadata": {},
   "outputs": [],
   "source": []
  }
 ],
 "metadata": {
  "kernelspec": {
   "display_name": "Python 3 (ipykernel)",
   "language": "python",
   "name": "python3"
  },
  "language_info": {
   "codemirror_mode": {
    "name": "ipython",
    "version": 3
   },
   "file_extension": ".py",
   "mimetype": "text/x-python",
   "name": "python",
   "nbconvert_exporter": "python",
   "pygments_lexer": "ipython3",
   "version": "3.10.9"
  }
 },
 "nbformat": 4,
 "nbformat_minor": 5
}
