{
 "cells": [
  {
   "cell_type": "markdown",
   "id": "d833b055",
   "metadata": {},
   "source": [
    "# Create Environment"
   ]
  },
  {
   "cell_type": "code",
   "execution_count": 1,
   "id": "65a2669a",
   "metadata": {},
   "outputs": [
    {
     "name": "stderr",
     "output_type": "stream",
     "text": [
      "C:\\Users\\ChangWeiYueh\\anaconda3\\lib\\site-packages\\scipy\\__init__.py:155: UserWarning: A NumPy version >=1.18.5 and <1.25.0 is required for this version of SciPy (detected version 1.25.1\n",
      "  warnings.warn(f\"A NumPy version >={np_minversion} and <{np_maxversion}\"\n"
     ]
    }
   ],
   "source": [
    "import numpy as np\n",
    "import matplotlib.pylab as plt\n",
    "from sklearn.gaussian_process import GaussianProcessRegressor\n",
    "from tqdm import tqdm\n",
    "\n",
    "global N\n",
    "\n",
    "N=100\n",
    "\n",
    "global T\n",
    "global target\n",
    "global theta_0\n",
    "T=8.5\n",
    "target=3.88\n",
    "theta_0=-0.11318\n",
    "global w\n",
    "w=np.pi*2/23.7\n",
    "\n",
    "global delta_t\n",
    "delta_t=T/N"
   ]
  },
  {
   "cell_type": "code",
   "execution_count": 2,
   "id": "bd2938cf",
   "metadata": {},
   "outputs": [
    {
     "data": {
      "image/png": "[encoded data removed]",
      "text/plain": [
       "<Figure size 640x480 with 1 Axes>"
      ]
     },
     "metadata": {},
     "output_type": "display_data"
    }
   ],
   "source": [
    "def Z(theta):\n",
    "    return 1.417-2.9006*np.cos(theta)+0.0217*np.cos(2*theta)+0.0603*np.cos(3*theta)+0.02148*np.cos(4*theta)+0.1624*np.sin(theta)\n",
    "    +0.4248*np.sin(theta)+0.0553*np.sin(3*theta)-0.0126*np.sin(4*theta)\n",
    "\n",
    "#check the correctness of Z\n",
    "x = np.linspace(0, 2*np.pi, 1001)\n",
    "plt.plot(x, Z(x))\n",
    "plt.xlabel('Angle [rad]')\n",
    "plt.ylabel('Z(theta)')\n",
    "plt.grid()\n",
    "plt.show()"
   ]
  },
  {
   "cell_type": "code",
   "execution_count": 3,
   "id": "b5291895",
   "metadata": {},
   "outputs": [],
   "source": [
    "def next_step_and_reward(theta_k,u_k):\n",
    "    theta_new=theta_k+delta_t*(w+Z(theta_k)*u_k)\n",
    "    while theta_new>1.5*np.pi:\n",
    "        theta_new-=2*np.pi\n",
    "    while theta_new<-0.5*np.pi:\n",
    "        theta_new+=2*np.pi\n",
    "    return theta_new, -(theta_new-target)**2\n",
    "    #return theta_new, -0.5*(theta_new-target)**2+abs(theta-target)-abs(theta_new-target)\n",
    "\n",
    "def reward(theta_k):\n",
    "    return -(theta_k-target)**2\n",
    "\n"
   ]
  },
  {
   "cell_type": "markdown",
   "id": "15ed433b",
   "metadata": {},
   "source": [
    "# Learning Settings"
   ]
  },
  {
   "cell_type": "code",
   "execution_count": 4,
   "id": "95e62df6",
   "metadata": {},
   "outputs": [],
   "source": [
    "global lr\n",
    "lr=0.01\n",
    "global eps\n",
    "eps=0.1\n",
    "global max_u\n",
    "max_u=1\n",
    "global precision\n",
    "precision=0.0002\n",
    "def exploration():\n",
    "    a=np.random.uniform()\n",
    "    if a<eps:\n",
    "        return True\n",
    "    else:\n",
    "        return False\n",
    "\n",
    "def find_max(cand):\n",
    "    ind=np.argmax(cand)\n",
    "    possible=np.linspace(0, max_u, int(max_u/precision+1))\n",
    "    return possible[ind]\n",
    "    \n",
    "def decide_u(theta,cand,init=False):\n",
    "    explo=exploration()\n",
    "    if init or explo:\n",
    "        possible=np.linspace(0, max_u,  int(max_u/precision+1))\n",
    "        return(possible[np.random.randint( int(max_u/precision+1))])\n",
    "    else:\n",
    "        return(find_max(cand))\n",
    "    \n",
    "def generate_cand(theta):\n",
    "    possible=np.linspace(0, max_u,  int(max_u/precision+1))\n",
    "    cand=[]\n",
    "    for i in range( int(max_u/precision+1)):\n",
    "        cand.append([theta,possible[i]])\n",
    "    return np.array(cand)\n",
    "\n",
    "history_su=np.array([[]])\n",
    "history_r=np.array([])\n",
    "possible_u=np.linspace(0, max_u,  int(max_u/precision+1))"
   ]
  },
  {
   "cell_type": "markdown",
   "id": "c5f09d42",
   "metadata": {},
   "source": [
    "# Simulation\n"
   ]
  },
  {
   "cell_type": "code",
   "execution_count": 5,
   "id": "53aa277f",
   "metadata": {},
   "outputs": [
    {
     "ename": "SyntaxError",
     "evalue": "invalid syntax (3609511904.py, line 27)",
     "output_type": "error",
     "traceback": [
      "\u001b[1;36m  File \u001b[1;32m\"C:\\Users\\ChangWeiYueh\\AppData\\Local\\Temp\\ipykernel_17220\\3609511904.py\"\u001b[1;36m, line \u001b[1;32m27\u001b[0m\n\u001b[1;33m    history_su = np.concatenate((history_su, np./array([theta,u_k]).reshape(-1,2)))\u001b[0m\n\u001b[1;37m                                                ^\u001b[0m\n\u001b[1;31mSyntaxError\u001b[0m\u001b[1;31m:\u001b[0m invalid syntax\n"
     ]
    }
   ],
   "source": [
    "num_iter=100\n",
    "\n",
    "theta_result=[]\n",
    "for iterr in tqdm(range(num_iter)):\n",
    "    #initialize\n",
    "    theta=theta_0\n",
    "    u_t=[]\n",
    "    theta_t=[theta_0]\n",
    "    for time in range(N+1):\n",
    "        if iterr==0:\n",
    "            candidates_u=[]\n",
    "            u_k = decide_u(theta,candidates_u,init=True)\n",
    "            theta_new, r = next_step_and_reward(theta,u_k)\n",
    "            if time==0:\n",
    "                history_su = np.array([theta,u_k]).reshape(1,-1)\n",
    "            else:\n",
    "                history_su = np.concatenate((history_su, np.array([theta,u_k]).reshape(1,-1)))\n",
    "            history_r = np.concatenate((history_r,np.array([r])))\n",
    "            theta=theta_new\n",
    "            u_t.append(u_k)\n",
    "        elif iterr>10:  \n",
    "            eps=0\n",
    "            x_cand = generate_cand(theta)\n",
    "            candidates_u, std_u = gpr.predict(x_cand.reshape(-1,2), return_std=True)\n",
    "            u_k = decide_u(theta,candidates_u)\n",
    "            theta_new, r = next_step_and_reward(theta,u_k)\n",
    "            history_su = np.concatenate((history_su, np./array([theta,u_k]).reshape(-1,2)))\n",
    "            history_r = np.concatenate((history_r,np.array([r])))\n",
    "            theta = theta_new\n",
    "            u_t.append(u_k)\n",
    "            theta_t.append(theta)\n",
    "        else:            \n",
    "            x_cand = generate_cand(theta)\n",
    "            candidates_u, std_u = gpr.predict(x_cand.reshape(-1,2), return_std=True)\n",
    "            u_k = decide_u(theta,candidates_u)\n",
    "            theta_new, r = next_step_and_reward(theta,u_k)\n",
    "            history_su = np.concatenate((history_su, np.array([theta,u_k]).reshape(-1,2)))\n",
    "            history_r = np.concatenate((history_r,np.array([r])))\n",
    "            theta = theta_new\n",
    "            u_t.append(u_k)\n",
    "            theta_t.append(theta)\n",
    "    gpr = GaussianProcessRegressor(alpha=1e-8).fit(history_su, history_r.reshape(-1,1))\n",
    "    print(\"theta =\",theta)\n",
    "    theta_result.append(theta)\n",
    "    if abs(r)<1e-4:\n",
    "        break\n",
    "    #print(history_su.shape)\n",
    "    print(u_t)\n",
    "    print(theta_t)"
   ]
  },
  {
   "cell_type": "markdown",
   "id": "279315d1",
   "metadata": {},
   "source": [
    "# Results"
   ]
  },
  {
   "cell_type": "code",
   "execution_count": null,
   "id": "b553f371",
   "metadata": {
    "scrolled": true
   },
   "outputs": [],
   "source": [
    "x = np.linspace(0, T, N+1)\n",
    "plt.plot(x, u_t)\n",
    "plt.xlabel('t')\n",
    "plt.ylabel('u(t)')\n",
    "plt.title(\"u(t) vs time\")\n",
    "plt.grid()\n",
    "plt.show()"
   ]
  },
  {
   "cell_type": "code",
   "execution_count": null,
   "id": "dc7aa39a",
   "metadata": {},
   "outputs": [],
   "source": [
    "x = np.linspace(0, T, N+2)\n",
    "plt.plot(x, theta_t, color='m')\n",
    "plt.xlabel('t')\n",
    "plt.ylabel('theta(t)')\n",
    "plt.title(\"theta(t) vs time\")\n",
    "plt.grid()\n",
    "plt.show()"
   ]
  },
  {
   "cell_type": "code",
   "execution_count": null,
   "id": "48bf3607",
   "metadata": {},
   "outputs": [],
   "source": [
    "num_iter=len(theta_result)\n",
    "\n",
    "x = np.linspace(1, num_iter, num_iter)\n",
    "plt.plot(x, theta_result)\n",
    "plt.xlabel('iteration')\n",
    "plt.ylabel('theta(T)')\n",
    "plt.title(\"theta(T) vs iterations\")\n",
    "plt.grid()\n",
    "plt.show()"
   ]
  },
  {
   "cell_type": "code",
   "execution_count": null,
   "id": "8055a45c",
   "metadata": {},
   "outputs": [],
   "source": []
  }
 ],
 "metadata": {
  "kernelspec": {
   "display_name": "Python 3 (ipykernel)",
   "language": "python",
   "name": "python3"
  },
  "language_info": {
   "codemirror_mode": {
    "name": "ipython",
    "version": 3
   },
   "file_extension": ".py",
   "mimetype": "text/x-python",
   "name": "python",
   "nbconvert_exporter": "python",
   "pygments_lexer": "ipython3",
   "version": "3.9.13"
  }
 },
 "nbformat": 4,
 "nbformat_minor": 5
}
